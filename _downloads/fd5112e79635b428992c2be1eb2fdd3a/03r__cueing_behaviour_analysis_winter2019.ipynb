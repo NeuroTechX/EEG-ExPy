{
  "cells": [
    {
      "cell_type": "markdown",
      "metadata": {},
      "source": [
        "\n# Cueing Behavioural Analysis Winter 2019\n"
      ]
    },
    {
      "cell_type": "markdown",
      "metadata": {},
      "source": [
        "## Setup\n\n\n"
      ]
    },
    {
      "cell_type": "code",
      "execution_count": null,
      "metadata": {
        "collapsed": false
      },
      "outputs": [],
      "source": [
        "# Standard Pythonic imports\nimport os,sys,glob,numpy as np,pandas as pd\nimport matplotlib.pyplot as plt \nimport scipy.io as sio \n\n# EEG-Notebooks imports\nfrom eegnb.datasets import datasets"
      ]
    },
    {
      "cell_type": "markdown",
      "metadata": {},
      "source": [
        "Download the data\n\n"
      ]
    },
    {
      "cell_type": "code",
      "execution_count": null,
      "metadata": {
        "collapsed": false
      },
      "outputs": [],
      "source": [
        "eegnb_data_path = os.path.join(os.path.expanduser('~/'),'.eegnb', 'data')\ncueing_data_path = os.path.join(eegnb_data_path, 'visual-cueing', 'kylemathlab_dev')\n\n# If dataset hasn't been downloaded yet, download it\nif not os.path.isdir(cueing_data_path):\n      datasets.fetch_dataset(data_dir=eegnb_data_path, experiment='visual-cueing', site='kylemathlab_dev')"
      ]
    },
    {
      "cell_type": "markdown",
      "metadata": {},
      "source": [
        "## Analyze .mat behavioural data for Accuracy and RT\n\nLoad in subjects\n\n"
      ]
    },
    {
      "cell_type": "code",
      "execution_count": null,
      "metadata": {
        "collapsed": false
      },
      "outputs": [],
      "source": [
        "# # Fall 2018\nsubs = [101, 102, 103, 104, 106, 108, 109, 110, 111, 112,\n        202, 203, 204, 205, 207, 208, 209, 210, 211, \n        301, 302, 303, 304, 305, 306, 307, 308, 309]\n\n# 105 - no trials in one condition\n\n# # Winter 2019\n# subs = [1101, 1102, 1103, 1104, 1105, 1106, 1108, 1109, 1110,\n#         1202, 1203, 1205, 1206, 1209, 1210, 1211, 1215,\n#         1301, 1302, 1313, \n#         1401, 1402, 1403, 1404, 1405,  1408, 1410, 1411, 1412, 1413, 1413, 1414, 1415, 1416]\n\n# # 1107 - no csv session 1\n# # 1201 - no csv session 1\n# # 1304 - Muse 2\n# # 1308 - Muse 2\n# # 1311 - Muse 2\n# # 1314 - Muse 2\n# # 1407 - only session1\n\n# Both \n\n# Fall 2018\n# subs = [101, 102, 103, 104, 106, 108, 109, 110, 111, 112,\n#         202, 203, 204, 205, 207, 208, 209, 210, 211, \n#         301, 302, 303, 304, 305, 306, 307, 308, 309,\n#         1101, 1102, 1103, 1104, 1105, 1106, 1108, 1109, 1110,\n#         1202, 1203, 1205, 1206, 1209, 1210, 1211, 1215,\n#         1301, 1302, 1313, \n#         1401, 1402, 1403, 1404, 1405,  1408, 1410, 1411, 1412, 1413, 1413, 1414, 1415, 1416]"
      ]
    },
    {
      "cell_type": "markdown",
      "metadata": {},
      "source": [
        "Set some settings\n\n"
      ]
    },
    {
      "cell_type": "code",
      "execution_count": null,
      "metadata": {
        "collapsed": false
      },
      "outputs": [],
      "source": [
        "# basic numbers\nn_subs = len(subs)\nn_sesh = 2\nconditions = ['valid','invalid']\nn_cond = len(conditions)\n\n# cutoff trials that are too slow or fast\nrt_toofast = 250\nrt_tooslow = 1500\n\n#creates arrays to save output\ncount_rt = np.zeros((n_subs, n_sesh, n_cond))\nmedian_rt = np.zeros((n_subs, n_sesh, n_cond))\nprop_accu = np.zeros((n_subs, n_sesh, n_cond))"
      ]
    },
    {
      "cell_type": "markdown",
      "metadata": {},
      "source": [
        "Single Subject example\n\n"
      ]
    },
    {
      "cell_type": "code",
      "execution_count": null,
      "metadata": {
        "collapsed": false
      },
      "outputs": [],
      "source": [
        "#select single subject\nsub = subs[0]\nprint('Subject - ' + str(sub))\n\n#just one session \nsesh = 1\n\n#load file\n#path =  './subject' + str(sub) + '/session' + str(sesh) + '/'\npath =  cueing_data_path + '/muse2016/subject' + str('%04.f' %sub) + '/session' + str('%03.f' %(sesh+1)) + '/'\nfile =  [x for x in os.listdir(path) if x.endswith('.mat')][0]\noutput_dict = sio.loadmat(path + file)\nprint(path + file)\n\n#pull out important info\noutput = output_dict['output']\naccuracy = output[:,6]\nrt = output[:,7]\nvalidity = output[:,3]\nprint(accuracy,rt,validity)\n\n# median rt on each condition\t\nprint('')\nprint(rt)\nprint(rt[validity == 0])\nprint(rt[(validity == 0) & (rt <= rt_tooslow)])\n\nvalidRT  \t=  np.nanmedian(rt[ (validity == 1) &\n                              (rt >= rt_toofast) &\n                              (rt <= rt_tooslow)])\n\nprint('Valid RT = ' + str(validRT) + ' ms')\n\nInvalidRT =  np.nanmedian(rt[ (validity == 0) &\n                              (rt >= rt_toofast) &\n                              (rt <= rt_tooslow)]) \n\nprint('Invalid RT = ' + str(InvalidRT) + ' ms')"
      ]
    },
    {
      "cell_type": "markdown",
      "metadata": {},
      "source": [
        "Loop through subjects\n\n"
      ]
    },
    {
      "cell_type": "code",
      "execution_count": null,
      "metadata": {
        "collapsed": false
      },
      "outputs": [],
      "source": [
        "for isub, sub in enumerate(subs):\n    print('Subject - ' + str(sub))\n    for sesh in range(n_sesh):\n        # get the path and file name and load data\n        #path =  './subject' + str(sub) + '/session' + str(sesh+1) + '/'\n        path =  cueing_data_path + '/muse2016/subject' + str('%04.f' %sub) + '/session' + str('%03.f' %(sesh+1)) + '/'\n       \n        file =  [x for x in os.listdir(path) if x.endswith('.mat')][0]\n        output_dict = sio.loadmat(path + file)\n\n        # pull out important stuff\n        output = output_dict['output']\n        accuracy = output[:,6]\n        rt = output[:,7]\n        validity = output[:,3]\n  \n        # median rt on each condition\t\n        median_rt[isub,sesh,:] \t= [  np.nanmedian(rt[ (validity == 1) & (rt >= rt_toofast) & (rt <= rt_tooslow)]),\n                                     np.nanmedian(rt[ (validity == 0) & (rt >= rt_toofast) & (rt <= rt_tooslow)]) ]\n    \n        # proportion accurate (number accurate / count)\n        prop_accu[isub,sesh,:]  = [ np.sum(accuracy[(validity == 1) & (rt >= rt_toofast) & (rt <= rt_tooslow)]) / \n                                   np.sum((validity == 1) & (rt >= rt_toofast) & (rt <= rt_tooslow)),\n                                   np.sum(accuracy[(validity == 0) & (rt >= rt_toofast) & (rt <= rt_tooslow)]) /\n                                   np.sum((validity == 0) & (rt >= rt_toofast) & (rt <= rt_tooslow)) ]"
      ]
    },
    {
      "cell_type": "markdown",
      "metadata": {},
      "source": [
        "Average over sessions and print data\n\n"
      ]
    },
    {
      "cell_type": "code",
      "execution_count": null,
      "metadata": {
        "collapsed": false
      },
      "outputs": [],
      "source": [
        "# Summary stats and collapse sessions\nOut_median_RT = np.squeeze(np.nanmean(median_rt,axis=1))\nOut_prop_accu = np.squeeze(np.nanmean(prop_accu,axis=1))\n\nprint('Median RT')\nprint(Out_median_RT)\nprint('Proportion Accurate')\nprint(Out_prop_accu)"
      ]
    },
    {
      "cell_type": "markdown",
      "metadata": {},
      "source": [
        "Plot barplot of results\n\n"
      ]
    },
    {
      "cell_type": "code",
      "execution_count": null,
      "metadata": {
        "collapsed": false
      },
      "outputs": [],
      "source": [
        "# bar plot results\nplt.figure()\n# Accuracy\nax = plt.subplot(211)\nplt.bar([0,1], np.nanmean(Out_prop_accu,axis=0), 0.6, yerr = np.nanstd(Out_prop_accu,axis=0)/np.sqrt(n_subs))\nplt.ylim(.9,.96)\nplt.title('Accuracy')\nplt.ylabel('Proportion Correct')\nax.set_xticks([0,1])\nax.set_xticklabels(conditions)\n# RT\nax = plt.subplot(212)\nplt.bar([0,1], np.nanmean(Out_median_RT,axis=0), 0.6, yerr = np.nanstd(Out_median_RT,axis=0)/np.sqrt(n_subs))\nplt.ylim(450,600)\nplt.title('Reaction Time')\nplt.ylabel('RT (ms)')\nplt.xlabel('Condition')\nax.set_xticks([0,1])\nax.set_xticklabels(conditions)\nplt.show()"
      ]
    },
    {
      "cell_type": "markdown",
      "metadata": {},
      "source": [
        "Output spreadsheet\n\n"
      ]
    },
    {
      "cell_type": "code",
      "execution_count": null,
      "metadata": {
        "collapsed": false
      },
      "outputs": [],
      "source": [
        "## CSV output\ncolumn_dict = {'Participant':subs,\n               'AccValid':Out_prop_accu[:,0],\n               'AccInvalid':Out_prop_accu[:,1],\n               'RTValid':Out_median_RT[:,0],\n               'RTInvalid':Out_median_RT[:,1] }\ndf = pd.DataFrame(column_dict)\nprint(df)\ndf.to_csv('375CueingBehPy.csv',index=False)"
      ]
    }
  ],
  "metadata": {
    "kernelspec": {
      "display_name": "Python 3",
      "language": "python",
      "name": "python3"
    },
    "language_info": {
      "codemirror_mode": {
        "name": "ipython",
        "version": 3
      },
      "file_extension": ".py",
      "mimetype": "text/x-python",
      "name": "python",
      "nbconvert_exporter": "python",
      "pygments_lexer": "ipython3",
      "version": "3.8.18"
    }
  },
  "nbformat": 4,
  "nbformat_minor": 0
}