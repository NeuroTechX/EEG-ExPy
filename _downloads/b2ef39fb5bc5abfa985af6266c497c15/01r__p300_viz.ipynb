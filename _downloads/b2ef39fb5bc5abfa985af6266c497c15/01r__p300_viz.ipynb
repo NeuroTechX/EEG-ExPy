{
  "cells": [
    {
      "cell_type": "markdown",
      "metadata": {},
      "source": [
        "\n# P300 Load and Visualize Data\n\nThis example demonstrates loading, organizing, and visualizing ERP response data from the visual P300 experiment. The experiment uses a visual oddball paradigm. Images of cats and dogs are shwn in a rapid serial visual presentation (RSVP) stream, with cats and dogs categorized respectively as 'targets' or 'non-targets', according to which has high or low probability of occurring, respectively. \n\nThe data used is the first subject and first session of the one of the eeg-expy P300 example datasets, recorded using the InteraXon MUSE EEG headset (2016 model). This session consists of six two-minute blocks of continuous recording.  \n\nWe first use the `fetch_datasets` to obtain a list of filenames. If these files are not already present \nin the specified data directory, they will be quickly downloaded from the cloud. \n\nAfter loading the data, we place it in an MNE `Epochs` object, and obtain the trial-averaged response. \n\nThe final figure plotted at the end shows the P300 response ERP waveform. \n"
      ]
    },
    {
      "cell_type": "markdown",
      "metadata": {},
      "source": [
        "## Setup\n\n"
      ]
    },
    {
      "cell_type": "code",
      "execution_count": null,
      "metadata": {
        "collapsed": false
      },
      "outputs": [],
      "source": [
        "# Some standard pythonic imports\nimport os\nfrom matplotlib import pyplot as plt\nfrom collections import OrderedDict\nimport warnings\nwarnings.filterwarnings('ignore')\n\n# MNE functions\nfrom mne import Epochs,find_events\n\n# EEG-Notebooks functions\nfrom eegnb.analysis.analysis_utils import load_data,plot_conditions\nfrom eegnb.datasets import fetch_dataset"
      ]
    },
    {
      "cell_type": "markdown",
      "metadata": {},
      "source": [
        "Load Data\n ---------------------\n\n We will use the eeg-expy N170 example dataset\n\n Note that if you are running this locally, the following cell will download\n the example dataset, if you do not already have it.\n\n##################################################################################################\n\n"
      ]
    },
    {
      "cell_type": "code",
      "execution_count": null,
      "metadata": {
        "collapsed": false
      },
      "outputs": [],
      "source": [
        "eegnb_data_path = os.path.join(os.path.expanduser('~/'),'.eegnb', 'data')    \np300_data_path = os.path.join(eegnb_data_path, 'visual-P300', 'eegnb_examples')\n\n# If dataset hasn't been downloaded yet, download it \nif not os.path.isdir(p300_data_path):\n    fetch_dataset(data_dir=eegnb_data_path, experiment='visual-P300', site='eegnb_examples');        \n\n\nsubject = 1\nsession = 1\nraw = load_data(subject,session,\n                experiment='visual-P300', site='eegnb_examples', device_name='muse2016',\n                data_dir = eegnb_data_path)"
      ]
    },
    {
      "cell_type": "markdown",
      "metadata": {},
      "source": [
        "## Visualize the power spectrum\n\n"
      ]
    },
    {
      "cell_type": "code",
      "execution_count": null,
      "metadata": {
        "collapsed": false
      },
      "outputs": [],
      "source": [
        "raw.plot_psd()"
      ]
    },
    {
      "cell_type": "markdown",
      "metadata": {},
      "source": [
        "## Filteriing\n\n"
      ]
    },
    {
      "cell_type": "code",
      "execution_count": null,
      "metadata": {
        "collapsed": false
      },
      "outputs": [],
      "source": [
        "raw.filter(1,30, method='iir')\nraw.plot_psd(fmin=1, fmax=30);"
      ]
    },
    {
      "cell_type": "markdown",
      "metadata": {},
      "source": [
        "## Epoching\n\n"
      ]
    },
    {
      "cell_type": "code",
      "execution_count": null,
      "metadata": {
        "collapsed": false
      },
      "outputs": [],
      "source": [
        "# Create an array containing the timestamps and type of each stimulus (i.e. face or house)\nevents = find_events(raw)\nevent_id = {'non-target': 1, 'target': 2}\nepochs = Epochs(raw, events=events, event_id=event_id,\n                tmin=-0.1, tmax=0.8, baseline=None,                                                                           reject={'eeg': 100e-6}, preload=True,                                                       \n                verbose=False, picks=[0,1,2,3])\n\nprint('sample drop %: ', (1 - len(epochs.events)/len(events)) * 100)"
      ]
    },
    {
      "cell_type": "markdown",
      "metadata": {},
      "source": [
        "## Epoch average\n\n"
      ]
    },
    {
      "cell_type": "code",
      "execution_count": null,
      "metadata": {
        "collapsed": false
      },
      "outputs": [],
      "source": [
        "conditions = OrderedDict()\nconditions['non-target'] = ['non-target']\nconditions['target'] = ['target']\ndiffwav = [\"non-target\", \"target\"]\n\nfig, ax = plot_conditions(epochs, conditions=conditions, \n                          ci=97.5, n_boot=1000, title='',\n                          channel_order=[1,0,2,3],ylim=[-2E6,2.5E6],\n                          diff_waveform = diffwav)\n\n# Manually adjust the ylims\nfor i in [0,2]: ax[i].set_ylim([-0.5e6,0.5e6])\nfor i in [1,3]: ax[i].set_ylim([-1.5e6,2.5e6])\n\nplt.tight_layout()"
      ]
    }
  ],
  "metadata": {
    "kernelspec": {
      "display_name": "Python 3",
      "language": "python",
      "name": "python3"
    },
    "language_info": {
      "codemirror_mode": {
        "name": "ipython",
        "version": 3
      },
      "file_extension": ".py",
      "mimetype": "text/x-python",
      "name": "python",
      "nbconvert_exporter": "python",
      "pygments_lexer": "ipython3",
      "version": "3.8.18"
    }
  },
  "nbformat": 4,
  "nbformat_minor": 0
}