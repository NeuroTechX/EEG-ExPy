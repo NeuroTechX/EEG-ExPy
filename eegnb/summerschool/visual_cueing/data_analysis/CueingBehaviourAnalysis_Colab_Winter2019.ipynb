{
  "nbformat": 4,
  "nbformat_minor": 0,
  "metadata": {
    "colab": {
      "name": "CueingBehaviourAnalysis_Colab_Winter2019",
      "version": "0.3.2",
      "provenance": [],
      "collapsed_sections": [],
      "toc_visible": true,
      "include_colab_link": true
    },
    "kernelspec": {
      "name": "python3",
      "display_name": "Python 3"
    }
  },
  "cells": [
    {
      "cell_type": "markdown",
      "metadata": {
        "id": "view-in-github",
        "colab_type": "text"
      },
      "source": [
        "<a href=\"https://colab.research.google.com/github/kylemath/eeg-notebooks/blob/master/notebooks/CueingBehaviourAnalysis_Colab_Winter2019.ipynb\" target=\"_parent\"><img src=\"https://colab.research.google.com/assets/colab-badge.svg\" alt=\"Open In Colab\"/></a>"
      ]
    },
    {
      "metadata": {
        "id": "l_ZRAtVY8nJX",
        "colab_type": "text"
      },
      "cell_type": "markdown",
      "source": [
        "# CueingBehaviourAnalysis_Colab_Winter2019\n",
        "\n",
        "The cueing task can ellicit a number of reliable changes. A central cue indicates the location of an upcoming target onset. Here the task can be changed to be perfectly predictive, or have some level of cue validity. Task is to indicate the orientation of a spatial grating on the target, up for vertical, right for horizontal.\n",
        "\n",
        "ERP - Validly cued targets ellict larger ERP's than invalidly cued targets\n",
        "\n",
        "Response ERPs - Validly cued targets are more quickly identified and better identified\n",
        "\n",
        "Oscillations - Alpha power lateralizes after a spatial cue onset preceeding the upcoming onset of a target. Alpha power becomes smaller contraleral to the target side, and larger ipsilateral with the target."
      ]
    },
    {
      "metadata": {
        "id": "cRRt1FLy8xJs",
        "colab_type": "code",
        "outputId": "099b4593-824c-4c39-aa7d-7b44fcfefefa",
        "colab": {
          "base_uri": "https://localhost:8080/",
          "height": 170
        }
      },
      "cell_type": "code",
      "source": [
        "!git clone https://github.com/kylemath/eeg-notebooks --recurse-submodules\n",
        "%cd eeg-notebooks/data/visual/cueing/"
      ],
      "execution_count": 1,
      "outputs": [
        {
          "output_type": "stream",
          "text": [
            "Cloning into 'eeg-notebooks'...\n",
            "remote: Enumerating objects: 66, done.\u001b[K\n",
            "remote: Counting objects: 100% (66/66), done.\u001b[K\n",
            "remote: Compressing objects: 100% (48/48), done.\u001b[K\n",
            "remote: Total 2179 (delta 35), reused 33 (delta 14), pack-reused 2113\u001b[K\n",
            "Receiving objects: 100% (2179/2179), 163.63 MiB | 18.53 MiB/s, done.\n",
            "Resolving deltas: 100% (929/929), done.\n",
            "Checking out files: 100% (641/641), done.\n",
            "/content/eeg-notebooks/data/visual/cueing\n"
          ],
          "name": "stdout"
        }
      ]
    },
    {
      "metadata": {
        "id": "G_2iJn-A8hxR",
        "colab_type": "code",
        "colab": {}
      },
      "cell_type": "code",
      "source": [
        "import scipy.io as sio \n",
        "import os\n",
        "import numpy as np \n",
        "import matplotlib.pyplot as plt \n",
        "import pandas as pd "
      ],
      "execution_count": 0,
      "outputs": []
    },
    {
      "metadata": {
        "id": "BU6QcVVh8sXM",
        "colab_type": "text"
      },
      "cell_type": "markdown",
      "source": [
        "# Analyze .mat behavioural data for Accuracy and RT\n"
      ]
    },
    {
      "metadata": {
        "id": "Yh-JuBMQ7x5T",
        "colab_type": "text"
      },
      "cell_type": "markdown",
      "source": [
        "Load in subjects"
      ]
    },
    {
      "metadata": {
        "id": "ynN5eXFBAy-g",
        "colab_type": "code",
        "colab": {}
      },
      "cell_type": "code",
      "source": [
        "# # Fall 2018\n",
        "subs = [101, 102, 103, 104, 106, 108, 109, 110, 111, 112,\n",
        "        202, 203, 204, 205, 207, 208, 209, 210, 211, \n",
        "        301, 302, 303, 304, 305, 306, 307, 308, 309]\n",
        "\n",
        "# 105 - no trials in one condition\n",
        "\n",
        "# # Winter 2019\n",
        "# subs = [1101, 1102, 1103, 1104, 1105, 1106, 1108, 1109, 1110,\n",
        "#         1202, 1203, 1205, 1206, 1209, 1210, 1211, 1215,\n",
        "#         1301, 1302, 1313, \n",
        "#         1401, 1402, 1403, 1404, 1405,  1408, 1410, 1411, 1412, 1413, 1413, 1414, 1415, 1416]\n",
        "\n",
        "# # 1107 - no csv session 1\n",
        "# # 1201 - no csv session 1\n",
        "# # 1304 - Muse 2\n",
        "# # 1308 - Muse 2\n",
        "# # 1311 - Muse 2\n",
        "# # 1314 - Muse 2\n",
        "# # 1407 - only session1\n",
        "\n",
        "# Both \n",
        "\n",
        "# Fall 2018\n",
        "# subs = [101, 102, 103, 104, 106, 108, 109, 110, 111, 112,\n",
        "#         202, 203, 204, 205, 207, 208, 209, 210, 211, \n",
        "#         301, 302, 303, 304, 305, 306, 307, 308, 309,\n",
        "#         1101, 1102, 1103, 1104, 1105, 1106, 1108, 1109, 1110,\n",
        "#         1202, 1203, 1205, 1206, 1209, 1210, 1211, 1215,\n",
        "#         1301, 1302, 1313, \n",
        "#         1401, 1402, 1403, 1404, 1405,  1408, 1410, 1411, 1412, 1413, 1413, 1414, 1415, 1416]\n"
      ],
      "execution_count": 0,
      "outputs": []
    },
    {
      "metadata": {
        "id": "KbqZDtIK8QTM",
        "colab_type": "text"
      },
      "cell_type": "markdown",
      "source": [
        "Set some settings"
      ]
    },
    {
      "metadata": {
        "id": "wCLpWFEs8Qd-",
        "colab_type": "code",
        "colab": {}
      },
      "cell_type": "code",
      "source": [
        "# basic numbers\n",
        "n_subs = len(subs)\n",
        "n_sesh = 2\n",
        "conditions = ['valid','invalid']\n",
        "n_cond = len(conditions)\n",
        "\n",
        "# cutoff trials that are too slow or fast\n",
        "rt_toofast = 250\n",
        "rt_tooslow = 1500\n",
        "\n",
        "#creates arrays to save output\n",
        "count_rt = np.zeros((n_subs, n_sesh, n_cond))\n",
        "median_rt = np.zeros((n_subs, n_sesh, n_cond))\n",
        "prop_accu = np.zeros((n_subs, n_sesh, n_cond))"
      ],
      "execution_count": 0,
      "outputs": []
    },
    {
      "metadata": {
        "id": "cekTLbOS2WCA",
        "colab_type": "text"
      },
      "cell_type": "markdown",
      "source": [
        "Single Subject example"
      ]
    },
    {
      "metadata": {
        "id": "CUhI539X2X7a",
        "colab_type": "code",
        "colab": {
          "base_uri": "https://localhost:8080/",
          "height": 748
        },
        "outputId": "097d3297-c72a-4f2f-b69e-e1c0bec37f86"
      },
      "cell_type": "code",
      "source": [
        "#select single subject\n",
        "sub = subs[0]\n",
        "print('Subject - ' + str(sub))\n",
        "\n",
        "#just one session \n",
        "sesh = 1\n",
        "\n",
        "#load file\n",
        "path =  './subject' + str(sub) + '/session' + str(sesh) + '/'\n",
        "file =  [x for x in os.listdir(path) if x.endswith('.mat')][0]\n",
        "output_dict = sio.loadmat(path + file)\n",
        "print(path + file)\n",
        "\n",
        "#pull out important info\n",
        "output = output_dict['output']\n",
        "accuracy = output[:,6]\n",
        "rt = output[:,7]\n",
        "validity = output[:,3]\n",
        "print(accuracy,rt,validity)\n",
        "\n",
        "# median rt on each condition\t\n",
        "print('')\n",
        "print(rt)\n",
        "print(rt[validity == 0])\n",
        "print(rt[(validity == 0) & (rt <= rt_tooslow)])\n",
        "\n",
        "validRT  \t=  np.nanmedian(rt[ (validity == 1) &\n",
        "                              (rt >= rt_toofast) &\n",
        "                              (rt <= rt_tooslow)])\n",
        "\n",
        "print('Valid RT = ' + str(validRT) + ' ms')\n",
        "\n",
        "InvalidRT =  np.nanmedian(rt[ (validity == 0) &\n",
        "                              (rt >= rt_toofast) &\n",
        "                              (rt <= rt_tooslow)]) \n",
        "\n",
        "print('Invalid RT = ' + str(InvalidRT) + ' ms')"
      ],
      "execution_count": 31,
      "outputs": [
        {
          "output_type": "stream",
          "text": [
            "Subject - 101\n",
            "./subject101/session1/subject101_session1_behOutput_2018-11-20-16.49.27.mat\n",
            "[1. 1. 0. 1. 1. 1. 1. 1. 1. 1. 1. 1. 1. 1. 1. 1. 1. 0. 1. 1. 1. 1. 1. 1.\n",
            " 1. 1. 1. 1. 1. 1. 1. 1. 0. 1. 1. 1. 1. 1. 1. 1. 1. 1. 1. 1. 1. 1. 1. 1.\n",
            " 1. 1. 1. 1. 1. 1. 1. 1. 1. 1. 1. 1. 1. 1. 1. 1. 1. 1. 1. 1. 1. 1. 1. 1.\n",
            " 1.] [267.486316 368.197394 359.114961 443.325697 400.459867 338.903969\n",
            " 335.497442 344.23244  356.226233 413.148977 379.451902 316.690498\n",
            " 354.088677 373.602933 309.049937 434.614427 334.242317 347.36567\n",
            " 559.56115  322.360502 342.381079 296.946102 363.025883 466.486784\n",
            " 405.095436 319.433791 396.683878 383.602173 340.87966  354.004383\n",
            " 376.375779 426.027515 354.717818 369.7502   422.330031 419.2258\n",
            " 386.381543 359.174393 349.714812 356.469947 313.615834 322.796616\n",
            " 441.424417 365.827293 374.314179 399.225807 419.822978 376.170782\n",
            " 408.44391  410.311049 367.621084 317.141214 397.751161 356.786541\n",
            " 358.868281 510.4043   482.490751 401.646274 389.68048  401.859856\n",
            " 343.478114 402.49184  362.675449 414.434056 419.887543 529.755306\n",
            " 370.726955 376.761684 392.066039 383.450714 339.717042 411.304441\n",
            " 437.624038] [1. 0. 1. 1. 0. 1. 1. 1. 1. 1. 1. 1. 1. 1. 1. 0. 0. 1. 1. 0. 0. 1. 1. 1.\n",
            " 1. 1. 1. 1. 1. 1. 1. 1. 0. 1. 1. 0. 1. 1. 0. 1. 1. 1. 1. 1. 1. 1. 0. 1.\n",
            " 1. 1. 0. 1. 1. 1. 1. 1. 1. 1. 1. 1. 0. 1. 0. 1. 1. 1. 1. 1. 0. 1. 1. 1.\n",
            " 1.]\n",
            "\n",
            "[267.486316 368.197394 359.114961 443.325697 400.459867 338.903969\n",
            " 335.497442 344.23244  356.226233 413.148977 379.451902 316.690498\n",
            " 354.088677 373.602933 309.049937 434.614427 334.242317 347.36567\n",
            " 559.56115  322.360502 342.381079 296.946102 363.025883 466.486784\n",
            " 405.095436 319.433791 396.683878 383.602173 340.87966  354.004383\n",
            " 376.375779 426.027515 354.717818 369.7502   422.330031 419.2258\n",
            " 386.381543 359.174393 349.714812 356.469947 313.615834 322.796616\n",
            " 441.424417 365.827293 374.314179 399.225807 419.822978 376.170782\n",
            " 408.44391  410.311049 367.621084 317.141214 397.751161 356.786541\n",
            " 358.868281 510.4043   482.490751 401.646274 389.68048  401.859856\n",
            " 343.478114 402.49184  362.675449 414.434056 419.887543 529.755306\n",
            " 370.726955 376.761684 392.066039 383.450714 339.717042 411.304441\n",
            " 437.624038]\n",
            "[368.197394 400.459867 434.614427 334.242317 322.360502 342.381079\n",
            " 354.717818 419.2258   349.714812 419.822978 367.621084 343.478114\n",
            " 362.675449 392.066039]\n",
            "[368.197394 400.459867 434.614427 334.242317 322.360502 342.381079\n",
            " 354.717818 419.2258   349.714812 419.822978 367.621084 343.478114\n",
            " 362.675449 392.066039]\n",
            "Valid RT = 376.37577899999997 ms\n",
            "Invalid RT = 365.14826649988663 ms\n"
          ],
          "name": "stdout"
        }
      ]
    },
    {
      "metadata": {
        "id": "1JIk1YN18Qnb",
        "colab_type": "text"
      },
      "cell_type": "markdown",
      "source": [
        "Loop through subjects"
      ]
    },
    {
      "metadata": {
        "id": "iqSua1dT8Qxq",
        "colab_type": "code",
        "outputId": "d6f4bdd6-4f26-4683-dac9-f7d619481ccd",
        "colab": {
          "base_uri": "https://localhost:8080/",
          "height": 493
        }
      },
      "cell_type": "code",
      "source": [
        "# loop through subjects\n",
        "for isub, sub in enumerate(subs):\n",
        "\tprint('Subject - ' + str(sub))\n",
        "\tfor sesh in range(n_sesh):\n",
        "\t\t# get the path and file name and load data\n",
        "\t\tpath =  './subject' + str(sub) + '/session' + str(sesh+1) + '/'\n",
        "\t\tfile =  [x for x in os.listdir(path) if x.endswith('.mat')][0]\n",
        "\t\toutput_dict = sio.loadmat(path + file)\n",
        "\n",
        "\t\t# pull out important stuff\n",
        "\t\toutput = output_dict['output']\n",
        "\t\taccuracy = output[:,6]\n",
        "\t\trt = output[:,7]\n",
        "\t\tvalidity = output[:,3]\n",
        "  \n",
        "\t\t# median rt on each condition\t\n",
        "\t\tmedian_rt[isub,sesh,:] \t= [  np.nanmedian(rt[ (validity == 1) &\n",
        "\t\t\t\t\t\t\t\t\t\t\t\t\t \t                      (rt >= rt_toofast) &\n",
        "\t\t\t\t\t\t\t\t\t\t\t\t\t \t                      (rt <= rt_tooslow)]),\n",
        "\t\t\t\t\t\t\t\t\t               np.nanmedian(rt[ (validity == 0) &\n",
        "\t\t\t\t\t\t\t\t\t\t\t\t\t\t                      (rt >= rt_toofast) &\n",
        "\t\t\t\t\t\t\t\t\t\t\t\t\t\t                      (rt <= rt_tooslow)]) ]\n",
        "    \n",
        "    \n",
        "\t\t# proportion accurate (number accurate / count)\t\t\t\t\t\t\t\n",
        "\t\tprop_accu[isub,sesh,:]  = [\tnp.sum(accuracy[(validity == 1) &\n",
        "\t\t\t\t\t\t\t\t\t\t\t\t\t\t                    (rt >= rt_toofast) &\n",
        "\t\t\t\t\t\t\t\t\t\t\t\t\t\t                    (rt <= rt_tooslow)]) / \n",
        "\t\t\t\t\t\t\t\t\tnp.sum((validity == 1) & (rt >= rt_toofast) & (rt <= rt_tooslow)),\n",
        "              \t\t\t\t\t\t\t\t\tnp.sum(accuracy[(validity == 0) &\n",
        "\t\t\t\t\t\t\t\t\t\t\t\t\t\t                    (rt >= rt_toofast) &\n",
        "\t\t\t\t\t\t\t\t\t\t\t\t\t\t                    (rt <= rt_tooslow)]) /\n",
        "\t\t\t\t\t\t\t\t\tnp.sum((validity == 0) & (rt >= rt_toofast) & (rt <= rt_tooslow)) ]\n",
        "\t\n"
      ],
      "execution_count": 25,
      "outputs": [
        {
          "output_type": "stream",
          "text": [
            "Subject - 101\n",
            "Subject - 102\n",
            "Subject - 103\n",
            "Subject - 104\n",
            "Subject - 106\n",
            "Subject - 108\n",
            "Subject - 109\n",
            "Subject - 110\n",
            "Subject - 111\n",
            "Subject - 112\n",
            "Subject - 202\n",
            "Subject - 203\n",
            "Subject - 204\n",
            "Subject - 205\n",
            "Subject - 207\n",
            "Subject - 208\n",
            "Subject - 209\n",
            "Subject - 210\n",
            "Subject - 211\n",
            "Subject - 301\n",
            "Subject - 302\n",
            "Subject - 303\n",
            "Subject - 304\n",
            "Subject - 305\n",
            "Subject - 306\n",
            "Subject - 307\n",
            "Subject - 308\n",
            "Subject - 309\n"
          ],
          "name": "stdout"
        }
      ]
    },
    {
      "metadata": {
        "id": "irrH-9dP8Q7J",
        "colab_type": "text"
      },
      "cell_type": "markdown",
      "source": [
        "Average over sessions and print data"
      ]
    },
    {
      "metadata": {
        "id": "uU1N8pI_8RE1",
        "colab_type": "code",
        "outputId": "420d59ef-15ea-40d0-eddf-660493bce92f",
        "colab": {
          "base_uri": "https://localhost:8080/",
          "height": 1003
        }
      },
      "cell_type": "code",
      "source": [
        "    # Summary stats and collapse sessions\n",
        "Out_median_RT = np.squeeze(np.nanmean(median_rt,axis=1))\n",
        "Out_prop_accu = np.squeeze(np.nanmean(prop_accu,axis=1))\n",
        "\n",
        "print('Median RT')\n",
        "print(Out_median_RT)\n",
        "print('Proportion Accurate')\n",
        "print(Out_prop_accu)"
      ],
      "execution_count": 32,
      "outputs": [
        {
          "output_type": "stream",
          "text": [
            "Median RT\n",
            "[[361.7079635  364.45366275]\n",
            " [547.10713075 611.45526175]\n",
            " [600.073256   587.019756  ]\n",
            " [528.29669975 537.8690605 ]\n",
            " [419.24263125 439.1580675 ]\n",
            " [456.3330375  631.1320265 ]\n",
            " [446.95026625 556.038382  ]\n",
            " [484.0763345  478.4887    ]\n",
            " [443.5412585  472.331497  ]\n",
            " [436.66653125 501.3115865 ]\n",
            " [495.63977675 587.358365  ]\n",
            " [520.97468575 973.144689  ]\n",
            " [395.5098235  370.232933  ]\n",
            " [489.59985525 560.08098575]\n",
            " [455.6651645  500.22833625]\n",
            " [662.9326765  643.0934405 ]\n",
            " [488.56224425 474.7125945 ]\n",
            " [482.1316255  543.0173155 ]\n",
            " [713.4103845  894.0804795 ]\n",
            " [485.48053725 533.6649235 ]\n",
            " [464.47033775 517.368321  ]\n",
            " [488.45884825 500.39610975]\n",
            " [527.5814465  533.4898155 ]\n",
            " [477.23867575 446.72875575]\n",
            " [484.94210575 578.6717025 ]\n",
            " [681.7458885  804.780758  ]\n",
            " [419.736862   485.569911  ]\n",
            " [435.42846425 437.12191   ]]\n",
            "Proportion Accurate\n",
            "[[0.98305085 0.96428571]\n",
            " [1.         1.        ]\n",
            " [0.91680961 0.88974359]\n",
            " [0.98809524 1.        ]\n",
            " [0.9822995  1.        ]\n",
            " [0.95403439 0.6       ]\n",
            " [0.92346939 0.97727273]\n",
            " [0.99019608 0.97058824]\n",
            " [0.97395994 1.        ]\n",
            " [0.68275862 0.83333333]\n",
            " [0.89914021 0.89732143]\n",
            " [0.92080745 0.73333333]\n",
            " [0.94716042 0.91666667]\n",
            " [0.95755518 1.        ]\n",
            " [0.95959184 0.94949495]\n",
            " [0.88296296 0.94117647]\n",
            " [0.90046296 0.92857143]\n",
            " [0.96551724 0.875     ]\n",
            " [0.91171329 0.92857143]\n",
            " [0.98333333 0.9       ]\n",
            " [0.94733656 0.87820513]\n",
            " [0.94187987 0.95833333]\n",
            " [0.96479592 0.94736842]\n",
            " [1.         0.90833333]\n",
            " [0.94186047 0.8       ]\n",
            " [1.         1.        ]\n",
            " [0.97222222 0.97222222]\n",
            " [0.95718391 1.        ]]\n"
          ],
          "name": "stdout"
        }
      ]
    },
    {
      "metadata": {
        "id": "hyGntPA6-m2J",
        "colab_type": "text"
      },
      "cell_type": "markdown",
      "source": [
        "Plot barplot of results"
      ]
    },
    {
      "metadata": {
        "id": "k9-zp2mS92Pi",
        "colab_type": "code",
        "outputId": "fac0a794-ac31-405d-aa7c-b77beaf450dc",
        "colab": {
          "base_uri": "https://localhost:8080/",
          "height": 376
        }
      },
      "cell_type": "code",
      "source": [
        "# bar plot results\n",
        "plt.figure()\n",
        "# Accuracy\n",
        "ax = plt.subplot(211)\n",
        "plt.bar([0,1], np.nanmean(Out_prop_accu,axis=0), 0.6, yerr = np.nanstd(Out_prop_accu,axis=0)/np.sqrt(n_subs))\n",
        "plt.ylim(.9,.96)\n",
        "plt.title('Accuracy')\n",
        "plt.ylabel('Proportion Correct')\n",
        "ax.set_xticks([0,1])\n",
        "ax.set_xticklabels(conditions)\n",
        "# RT\n",
        "ax = plt.subplot(212)\n",
        "plt.bar([0,1], np.nanmean(Out_median_RT,axis=0), 0.6, yerr = np.nanstd(Out_median_RT,axis=0)/np.sqrt(n_subs))\n",
        "plt.ylim(450,600)\n",
        "plt.title('Reaction Time')\n",
        "plt.ylabel('RT (ms)')\n",
        "plt.xlabel('Condition')\n",
        "ax.set_xticks([0,1])\n",
        "ax.set_xticklabels(conditions)\n",
        "plt.show()\n"
      ],
      "execution_count": 33,
      "outputs": [
        {
          "output_type": "display_data",
          "data": {
            "image/png": "[encoded data removed]",
            "text/plain": [
              "<Figure size 576x396 with 2 Axes>"
            ]
          },
          "metadata": {
            "tags": []
          }
        }
      ]
    },
    {
      "metadata": {
        "id": "2gm7igaq-q9t",
        "colab_type": "text"
      },
      "cell_type": "markdown",
      "source": [
        "Output spreadsheet\n",
        "\n"
      ]
    },
    {
      "metadata": {
        "id": "yzWBBoMW-qnK",
        "colab_type": "code",
        "outputId": "b29b139e-265c-4464-c5a0-e09beff824ee",
        "colab": {
          "base_uri": "https://localhost:8080/",
          "height": 510
        }
      },
      "cell_type": "code",
      "source": [
        "## CSV output\n",
        "column_dict = {'Participant':subs,\n",
        "\t\t\t\t'AccValid':Out_prop_accu[:,0],\n",
        "\t\t\t\t'AccInvalid':Out_prop_accu[:,1],\n",
        "\t\t\t\t'RTValid':Out_median_RT[:,0],\n",
        "\t\t\t\t'RTInvalid':Out_median_RT[:,1] }\n",
        "df = pd.DataFrame(column_dict)\n",
        "print(df)\n",
        "df.to_csv('375CueingBehPy.csv',index=False)\n"
      ],
      "execution_count": 34,
      "outputs": [
        {
          "output_type": "stream",
          "text": [
            "    AccInvalid  AccValid  Participant   RTInvalid     RTValid\n",
            "0     0.964286  0.983051          101  364.453663  361.707963\n",
            "1     1.000000  1.000000          102  611.455262  547.107131\n",
            "2     0.889744  0.916810          103  587.019756  600.073256\n",
            "3     1.000000  0.988095          104  537.869061  528.296700\n",
            "4     1.000000  0.982299          106  439.158067  419.242631\n",
            "5     0.600000  0.954034          108  631.132027  456.333038\n",
            "6     0.977273  0.923469          109  556.038382  446.950266\n",
            "7     0.970588  0.990196          110  478.488700  484.076334\n",
            "8     1.000000  0.973960          111  472.331497  443.541259\n",
            "9     0.833333  0.682759          112  501.311586  436.666531\n",
            "10    0.897321  0.899140          202  587.358365  495.639777\n",
            "11    0.733333  0.920807          203  973.144689  520.974686\n",
            "12    0.916667  0.947160          204  370.232933  395.509823\n",
            "13    1.000000  0.957555          205  560.080986  489.599855\n",
            "14    0.949495  0.959592          207  500.228336  455.665165\n",
            "15    0.941176  0.882963          208  643.093440  662.932677\n",
            "16    0.928571  0.900463          209  474.712594  488.562244\n",
            "17    0.875000  0.965517          210  543.017316  482.131626\n",
            "18    0.928571  0.911713          211  894.080479  713.410385\n",
            "19    0.900000  0.983333          301  533.664923  485.480537\n",
            "20    0.878205  0.947337          302  517.368321  464.470338\n",
            "21    0.958333  0.941880          303  500.396110  488.458848\n",
            "22    0.947368  0.964796          304  533.489816  527.581447\n",
            "23    0.908333  1.000000          305  446.728756  477.238676\n",
            "24    0.800000  0.941860          306  578.671703  484.942106\n",
            "25    1.000000  1.000000          307  804.780758  681.745889\n",
            "26    0.972222  0.972222          308  485.569911  419.736862\n",
            "27    1.000000  0.957184          309  437.121910  435.428464\n"
          ],
          "name": "stdout"
        }
      ]
    }
  ]
}