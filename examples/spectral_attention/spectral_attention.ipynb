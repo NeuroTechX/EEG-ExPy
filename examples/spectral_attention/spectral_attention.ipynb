{
 "cells": [
  {
   "cell_type": "code",
   "execution_count": 18,
   "id": "fa0b7fd1-8785-422f-9341-e723143218c5",
   "metadata": {},
   "outputs": [],
   "source": [
    "%matplotlib qt"
   ]
  },
  {
   "cell_type": "code",
   "execution_count": 19,
   "id": "dcc00d08-d745-4233-b14e-98977ff86ed7",
   "metadata": {},
   "outputs": [
    {
     "name": "stdout",
     "output_type": "stream",
     "text": [
      "Warning: Cannot change to a different GUI toolkit: nbagg. Using qt instead.\n"
     ]
    }
   ],
   "source": [
    "%matplotlib notebook #if using qt, do not use this one"
   ]
  },
  {
   "cell_type": "code",
   "execution_count": 82,
   "id": "f1863df1-8079-49ff-9446-255b617fcd23",
   "metadata": {},
   "outputs": [
    {
     "name": "stdout",
     "output_type": "stream",
     "text": [
      "C:\\Users\\reeya\\EEG-ExPy\\venv\\Scripts\\python.exe\n"
     ]
    }
   ],
   "source": [
    "import sys\n",
    "import numpy as np\n",
    "print(sys.executable)  # Should point to your virtual environment's Python\n",
    "import os\n",
    "sys.path.append(os.path.abspath(os.path.join(os.getcwd(), '..', '..')))"
   ]
  },
  {
   "cell_type": "code",
   "execution_count": 4,
   "id": "634f1e18-08af-4e05-9f95-f528c99b0313",
   "metadata": {},
   "outputs": [],
   "source": [
    "from eegnb.datasets.datasets import fetch_dataset"
   ]
  },
  {
   "cell_type": "code",
   "execution_count": 1,
   "id": "684aaff2-6535-4796-b7e4-46c33d78fdbc",
   "metadata": {},
   "outputs": [],
   "source": [
    "import sys\n",
    "import os\n",
    "from pathlib import Path\n",
    "\n",
    "# Navigate up from the notebook's directory to the project root\n",
    "project_root = Path(os.getcwd()).resolve().parent.parent  # Up to `EEG-ExPy`\n",
    "sys.path.append(str(project_root))\n",
    "\n",
    "import gdown  # Should now work"
   ]
  },
  {
   "cell_type": "code",
   "execution_count": 5,
   "id": "31c24ca4-3325-4c3b-85df-844f3b486dbb",
   "metadata": {},
   "outputs": [
    {
     "name": "stderr",
     "output_type": "stream",
     "text": [
      "Downloading...\n",
      "From (original): https://drive.google.com/uc?id=1oStfxzEqf36R5d-2Auyw4DLnPj9E_FAH\n",
      "From (redirected): https://drive.google.com/uc?id=1oStfxzEqf36R5d-2Auyw4DLnPj9E_FAH&confirm=t&uuid=d56dcd58-994c-45a9-a7ba-7d624cb9adca\n",
      "To: C:\\Users\\reeya\\EEG-ExPy\\examples\\data\\downloaded_data.zip\n",
      "100%|████████████████████████████| 33.1M/33.1M [00:00<00:00, 52.6MB/s]\n"
     ]
    }
   ],
   "source": [
    "data_dir = '../data'  # or anywhere you'd like the data to download to\n",
    "experiment = 'visual-N170'\n",
    "subject_list = [1]  # or 'all' for everything\n",
    "\n",
    "# Download and get list of .csv files\n",
    "file_paths = fetch_dataset(data_dir=data_dir, experiment=experiment, subjects=subject_list)\n"
   ]
  },
  {
   "cell_type": "code",
   "execution_count": 6,
   "id": "c095a52a-b1bc-4f12-a1d4-3d133877461f",
   "metadata": {},
   "outputs": [
    {
     "name": "stdout",
     "output_type": "stream",
     "text": [
      "Found 0 files:\n",
      "[]\n"
     ]
    }
   ],
   "source": [
    "print(f\"Found {len(file_paths)} files:\")\n",
    "print(file_paths[:3])  # Print the first few"
   ]
  },
  {
   "cell_type": "code",
   "execution_count": 7,
   "id": "d369a1c1-694a-4847-9168-27d86da6c0e7",
   "metadata": {},
   "outputs": [
    {
     "name": "stdout",
     "output_type": "stream",
     "text": [
      "[]\n"
     ]
    }
   ],
   "source": [
    "file_paths = fetch_dataset(\n",
    "    data_dir='../data', \n",
    "    experiment='visual-N170',\n",
    "    site='eegnb_examples',\n",
    "    device='muse2016',\n",
    "    subjects=[1],\n",
    "    sessions=[1]\n",
    ")\n",
    "print(file_paths)\n"
   ]
  },
  {
   "cell_type": "code",
   "execution_count": 8,
   "id": "c2bfc463-e02a-4f20-91cb-7bebafc0705a",
   "metadata": {},
   "outputs": [
    {
     "name": "stdout",
     "output_type": "stream",
     "text": [
      "['../data\\\\visual-N170\\\\eegnb_examples\\\\muse2016\\\\subject0001\\\\session001\\\\data_2017-09-13-15.30.01.csv', '../data\\\\visual-N170\\\\eegnb_examples\\\\muse2016\\\\subject0001\\\\session001\\\\data_2017-09-13-15.32.50.csv', '../data\\\\visual-N170\\\\eegnb_examples\\\\muse2016\\\\subject0001\\\\session001\\\\data_2017-09-13-15.35.26.csv', '../data\\\\visual-N170\\\\eegnb_examples\\\\muse2016\\\\subject0001\\\\session001\\\\data_2017-09-13-15.40.17.csv', '../data\\\\visual-N170\\\\eegnb_examples\\\\muse2016\\\\subject0001\\\\session001\\\\data_2017-09-13-15.42.33.csv', '../data\\\\visual-N170\\\\eegnb_examples\\\\muse2016\\\\subject0001\\\\session001\\\\data_2017-09-13-15.45.08.csv', '../data\\\\visual-N170\\\\eegnb_examples\\\\muse2016\\\\subject0002\\\\session001\\\\data_2018-04-15-21.18.48.csv', '../data\\\\visual-N170\\\\eegnb_examples\\\\muse2016\\\\subject0002\\\\session001\\\\data_2018-04-15-21.21.20.csv', '../data\\\\visual-N170\\\\eegnb_examples\\\\muse2016\\\\subject0003\\\\session001\\\\data_2018-05-14-19.14.37.csv', '../data\\\\visual-N170\\\\eegnb_examples\\\\muse2016\\\\subject0003\\\\session001\\\\data_2018-05-14-19.38.10.csv', '../data\\\\visual-N170\\\\eegnb_examples\\\\muse2016\\\\subject0003\\\\session002\\\\data_2018-05-14-19.35.55.csv', '../data\\\\visual-N170\\\\eegnb_examples\\\\muse2016\\\\subject0003\\\\session002\\\\data_2018-05-14-19.38.10.csv', '../data\\\\visual-N170\\\\eegnb_examples\\\\muse2016\\\\subject0003\\\\session003\\\\recording_2018-05-29-20.14.04.csv', '../data\\\\visual-N170\\\\eegnb_examples\\\\muse2016\\\\subject0003\\\\session003\\\\recording_2018-05-31-16.03.39.csv', '../data\\\\visual-N170\\\\eegnb_examples\\\\muse2016\\\\subject0010\\\\session001\\\\recording_2018-06-06-14.34.14.csv', '../data\\\\visual-N170\\\\eegnb_examples\\\\muse2016\\\\subject0010\\\\session001\\\\recording_2018-06-06-15.06.45.csv', '../data\\\\visual-N170\\\\eegnb_examples\\\\muse2016\\\\subject0010\\\\session002\\\\recording_2018-06-06-14.42.27.csv', '../data\\\\visual-N170\\\\eegnb_examples\\\\muse2016\\\\subject0010\\\\session003\\\\recording_2018-06-06-14.45.33.csv', '../data\\\\visual-N170\\\\eegnb_examples\\\\muse2016\\\\subject0011\\\\session001\\\\recording_2018-06-06-18.42.19.csv']\n"
     ]
    }
   ],
   "source": [
    "file_paths = fetch_dataset(\n",
    "    data_dir='../data', \n",
    "    experiment='visual-N170',\n",
    "    subjects='all',\n",
    "    sessions='all'\n",
    ")\n",
    "print(file_paths)"
   ]
  },
  {
   "cell_type": "code",
   "execution_count": 9,
   "id": "a699bd29-236d-45a1-8c1e-e21c0ab79504",
   "metadata": {},
   "outputs": [],
   "source": [
    "import pandas as pd"
   ]
  },
  {
   "cell_type": "code",
   "execution_count": 10,
   "id": "637d5555-a1c8-45d6-89e9-23a885afabda",
   "metadata": {},
   "outputs": [
    {
     "name": "stdout",
     "output_type": "stream",
     "text": [
      "Loaded ../data\\visual-N170\\eegnb_examples\\muse2016\\subject0001\\session001\\data_2017-09-13-15.30.01.csv with shape (30732, 7) and columns: ['timestamps', 'TP9', 'AF7', 'AF8', 'TP10', 'Right AUX', 'Marker0']\n",
      "Loaded ../data\\visual-N170\\eegnb_examples\\muse2016\\subject0001\\session001\\data_2017-09-13-15.32.50.csv with shape (30732, 7) and columns: ['timestamps', 'TP9', 'AF7', 'AF8', 'TP10', 'Right AUX', 'Marker0']\n",
      "Loaded ../data\\visual-N170\\eegnb_examples\\muse2016\\subject0001\\session001\\data_2017-09-13-15.35.26.csv with shape (30732, 7) and columns: ['timestamps', 'TP9', 'AF7', 'AF8', 'TP10', 'Right AUX', 'Marker0']\n",
      "Loaded ../data\\visual-N170\\eegnb_examples\\muse2016\\subject0001\\session001\\data_2017-09-13-15.40.17.csv with shape (30732, 7) and columns: ['timestamps', 'TP9', 'AF7', 'AF8', 'TP10', 'Right AUX', 'Marker0']\n",
      "Loaded ../data\\visual-N170\\eegnb_examples\\muse2016\\subject0001\\session001\\data_2017-09-13-15.42.33.csv with shape (30720, 7) and columns: ['timestamps', 'TP9', 'AF7', 'AF8', 'TP10', 'Right AUX', 'Marker0']\n",
      "Loaded ../data\\visual-N170\\eegnb_examples\\muse2016\\subject0001\\session001\\data_2017-09-13-15.45.08.csv with shape (30732, 7) and columns: ['timestamps', 'TP9', 'AF7', 'AF8', 'TP10', 'Right AUX', 'Marker0']\n",
      "Loaded ../data\\visual-N170\\eegnb_examples\\muse2016\\subject0002\\session001\\data_2018-04-15-21.18.48.csv with shape (30732, 7) and columns: ['timestamps', 'TP9', 'AF7', 'AF8', 'TP10', 'Right AUX', 'Marker0']\n",
      "Loaded ../data\\visual-N170\\eegnb_examples\\muse2016\\subject0002\\session001\\data_2018-04-15-21.21.20.csv with shape (30732, 7) and columns: ['timestamps', 'TP9', 'AF7', 'AF8', 'TP10', 'Right AUX', 'Marker0']\n",
      "Loaded ../data\\visual-N170\\eegnb_examples\\muse2016\\subject0003\\session001\\data_2018-05-14-19.14.37.csv with shape (30720, 7) and columns: ['timestamps', 'TP9', 'AF7', 'AF8', 'TP10', 'Right AUX', 'Marker0']\n",
      "Loaded ../data\\visual-N170\\eegnb_examples\\muse2016\\subject0003\\session001\\data_2018-05-14-19.38.10.csv with shape (30732, 7) and columns: ['timestamps', 'TP9', 'AF7', 'AF8', 'TP10', 'Right AUX', 'Marker0']\n",
      "Loaded ../data\\visual-N170\\eegnb_examples\\muse2016\\subject0003\\session002\\data_2018-05-14-19.35.55.csv with shape (30720, 7) and columns: ['timestamps', 'TP9', 'AF7', 'AF8', 'TP10', 'Right AUX', 'Marker0']\n",
      "Loaded ../data\\visual-N170\\eegnb_examples\\muse2016\\subject0003\\session002\\data_2018-05-14-19.38.10.csv with shape (30732, 7) and columns: ['timestamps', 'TP9', 'AF7', 'AF8', 'TP10', 'Right AUX', 'Marker0']\n",
      "Loaded ../data\\visual-N170\\eegnb_examples\\muse2016\\subject0003\\session003\\recording_2018-05-29-20.14.04.csv with shape (30564, 7) and columns: ['timestamps', 'TP9', 'AF7', 'AF8', 'TP10', 'Right AUX', 'Marker0']\n",
      "Loaded ../data\\visual-N170\\eegnb_examples\\muse2016\\subject0003\\session003\\recording_2018-05-31-16.03.39.csv with shape (30552, 7) and columns: ['timestamps', 'TP9', 'AF7', 'AF8', 'TP10', 'Right AUX', 'Marker0']\n",
      "Loaded ../data\\visual-N170\\eegnb_examples\\muse2016\\subject0010\\session001\\recording_2018-06-06-14.34.14.csv with shape (30552, 7) and columns: ['timestamps', 'TP9', 'AF7', 'AF8', 'TP10', 'Right AUX', 'Marker0']\n",
      "Loaded ../data\\visual-N170\\eegnb_examples\\muse2016\\subject0010\\session001\\recording_2018-06-06-15.06.45.csv with shape (6180, 7) and columns: ['timestamps', 'TP9', 'AF7', 'AF8', 'TP10', 'Right AUX', 'Marker0']\n",
      "Loaded ../data\\visual-N170\\eegnb_examples\\muse2016\\subject0010\\session002\\recording_2018-06-06-14.42.27.csv with shape (30552, 7) and columns: ['timestamps', 'TP9', 'AF7', 'AF8', 'TP10', 'Right AUX', 'Marker0']\n",
      "Loaded ../data\\visual-N170\\eegnb_examples\\muse2016\\subject0010\\session003\\recording_2018-06-06-14.45.33.csv with shape (30564, 7) and columns: ['timestamps', 'TP9', 'AF7', 'AF8', 'TP10', 'Right AUX', 'Marker0']\n",
      "Loaded ../data\\visual-N170\\eegnb_examples\\muse2016\\subject0011\\session001\\recording_2018-06-06-18.42.19.csv with shape (30564, 7) and columns: ['timestamps', 'TP9', 'AF7', 'AF8', 'TP10', 'Right AUX', 'Marker0']\n"
     ]
    }
   ],
   "source": [
    "# Load CSVs into pandas\n",
    "eeg_dataframes = []\n",
    "for path in file_paths:\n",
    "    df = pd.read_csv(path)\n",
    "    eeg_dataframes.append(df)\n",
    "    print(f\"Loaded {path} with shape {df.shape} and columns: {list(df.columns)}\")\n"
   ]
  },
  {
   "cell_type": "code",
   "execution_count": 11,
   "id": "ca639aad-0bd2-4e07-aa20-0545bf97dff6",
   "metadata": {},
   "outputs": [
    {
     "name": "stdout",
     "output_type": "stream",
     "text": [
      "Parsed 19 EEG recordings.\n"
     ]
    }
   ],
   "source": [
    "import numpy as np\n",
    "\n",
    "channel_names = ['TP9', 'AF7', 'AF8', 'TP10']\n",
    "parsed_data = []\n",
    "\n",
    "for df in eeg_dataframes:\n",
    "    signals = df[channel_names].to_numpy().T  # Shape: (n_channels, n_samples)\n",
    "    timestamps = df['timestamps'].to_numpy()\n",
    "    \n",
    "    # Extract event markers (nonzero entries)\n",
    "    marker_series = df['Marker0'].fillna(0)\n",
    "    events = np.where(marker_series != 0)[0]  # Indices where stimulus was shown\n",
    "    \n",
    "    parsed_data.append({\n",
    "        'signals': signals,\n",
    "        'timestamps': timestamps,\n",
    "        'events': events,\n",
    "    })\n",
    "\n",
    "print(f\"Parsed {len(parsed_data)} EEG recordings.\")\n"
   ]
  },
  {
   "cell_type": "code",
   "execution_count": 12,
   "id": "2dc5e82e-de2e-432b-80c2-199618a5c655",
   "metadata": {},
   "outputs": [
    {
     "name": "stdout",
     "output_type": "stream",
     "text": [
      "Signals shape: (4, 30732)\n",
      "Event indices: [   70   198   381   520   683   817   975  1142  1311  1457  1618  1789\n",
      "  1967  2102  2272  2426  2591  2725  2870  3006  3181  3355  3529  3686\n",
      "  3864  4002  4151  4330  4467  4610  4755  4908  5045  5216  5368  5498\n",
      "  5633  5779  5958  6123  6264  6418  6594  6744  6875  7050  7213  7357\n",
      "  7529  7667  7824  7974  8111  8286  8458  8635  8789  8952  9095  9253\n",
      "  9383  9540  9722  9884 10017 10190 10360 10510 10644 10809 10954 11089\n",
      " 11256 11414 11548 11717 11883 12023 12190 12315 12472 12603 12731 12897\n",
      " 13030 13172 13320 13495 13636 13803 13936 14081 14239 14389 14554 14731\n",
      " 14904 15060 15195 15326 15494 15644 15787 15920 16077 16231 16410 16579\n",
      " 16729 16861 17030 17176 17308 17473 17609 17788 17949 18110 18282 18434\n",
      " 18600 18755 18911 19091 19248 19408 19554 19721 19875 20043 20210 20342\n",
      " 20473 20650 20799 20976 21108 21247 21413 21580 21727 21869 22018 22188\n",
      " 22337 22507 22635 22765 22914 23066 23209 23341 23483 23623 23797 23975\n",
      " 24112 24280 24416 24570 24731 24899 25058 25218 25376 25508 25643 25809\n",
      " 25962 26101 26247 26419 26562 26702 26862 27023 27175 27327 27487 27628\n",
      " 27762 27912 28041 28195 28343 28476 28620 28792 28967 29123 29279 29429\n",
      " 29609 29781 29939 30103 30261]\n"
     ]
    }
   ],
   "source": [
    "example = parsed_data[0]\n",
    "print(\"Signals shape:\", example['signals'].shape)\n",
    "print(\"Event indices:\", example['events'])"
   ]
  },
  {
   "cell_type": "code",
   "execution_count": 25,
   "id": "b7f7cb30-8bfb-4b6f-89f0-1fb8934062a9",
   "metadata": {},
   "outputs": [
    {
     "name": "stdout",
     "output_type": "stream",
     "text": [
      "Creating RawArray with float64 data, n_channels=4, n_times=30732\n",
      "    Range : 0 ... 30731 =      0.000 ...   120.043 secs\n",
      "Ready.\n",
      "Effective window size : 8.000 (s)\n",
      "Plotting power spectral density (dB=True).\n"
     ]
    },
    {
     "data": {
      "image/png": "[encoded data removed]",
      "text/plain": [
       "<MNELineFigure size 1000x350 with 1 Axes>"
      ]
     },
     "execution_count": 25,
     "metadata": {},
     "output_type": "execute_result"
    }
   ],
   "source": [
    "import mne\n",
    "\n",
    "# Step 1: Define channel info\n",
    "sfreq = 256  # Hz, Muse standard sampling rate\n",
    "ch_names = ['TP9', 'AF7', 'AF8', 'TP10']\n",
    "ch_types = ['eeg'] * 4\n",
    "\n",
    "info = mne.create_info(ch_names=ch_names, sfreq=sfreq, ch_types=ch_types)\n",
    "\n",
    "# Step 2: Create RawArray from first example\n",
    "signals = parsed_data[0]['signals']  # Shape: (4, n_samples)\n",
    "raw = mne.io.RawArray(signals, info)\n",
    "\n",
    "# Step 3: Add montage (optional but good for head map visuals)\n",
    "montage = mne.channels.make_standard_montage('standard_1020')\n",
    "raw.set_montage(montage, match_case=False)\n",
    "\n",
    "# Step 4: Plot time series and PSD\n",
    "raw.plot(n_channels=4, duration=10, scalings='auto', title='Raw EEG (Muse)')\n",
    "\n",
    "# Compute PSD with frequency limits directly\n",
    "psd = raw.compute_psd(fmin=1, fmax=50)\n",
    "\n",
    "# Plot with average over channels\n",
    "psd.plot(average=True, picks='eeg', show=True)\n"
   ]
  },
  {
   "cell_type": "code",
   "execution_count": 31,
   "id": "8afdea0e-653b-4a99-9b10-84bad0d34588",
   "metadata": {},
   "outputs": [
    {
     "name": "stdout",
     "output_type": "stream",
     "text": [
      "Effective window size : 1.004 (s)\n"
     ]
    }
   ],
   "source": [
    "# Compute PSD from epochs using new API\n",
    "psd = epochs.compute_psd(method='welch', fmin=1, fmax=40)\n",
    "\n",
    "# Get data and frequencies\n",
    "psds = psd.get_data()        # shape: (n_epochs, n_channels, n_freqs)\n",
    "freqs = psd.freqs            # shape: (n_freqs,)\n",
    "\n",
    "\n",
    "# Take log-power (better for ML models)\n",
    "X = np.log(psds)  # shape: (n_epochs, n_channels, n_freqs)\n",
    "X = X.reshape(X.shape[0], -1)  # Flatten to (samples, features)\n",
    "\n",
    "# Create labels (all events are '1' for now)\n",
    "y = np.ones(X.shape[0])  # You can later map different event types\n"
   ]
  },
  {
   "cell_type": "code",
   "execution_count": 84,
   "id": "9ac69a48-e94a-4704-b160-357a5c9e527f",
   "metadata": {},
   "outputs": [
    {
     "name": "stdout",
     "output_type": "stream",
     "text": [
      "Not setting metadata\n",
      "197 matching events found\n",
      "Setting baseline interval to [-0.19921875, 0.0] s\n",
      "Applying baseline correction (mode: mean)\n",
      "0 projection items activated\n",
      "Using data from preloaded Raw for 197 events and 257 original time points ...\n",
      "0 bad epochs dropped\n"
     ]
    }
   ],
   "source": [
    "from mne import Epochs\n",
    "\n",
    "# Assuming parsed_data[0] is your sample subject/session\n",
    "event_samples = parsed_data[0]['events']  # Sample indices where stimulus happened\n",
    "\n",
    "# MNE expects events as shape (n_events, 3): [sample_index, 0, event_id]\n",
    "events = np.array([[idx, 0, 1] for idx in event_samples])  # Using 1 as the dummy event label\n",
    "\n",
    "# Now create epochs\n",
    "epochs = Epochs(\n",
    "    raw_filtered,\n",
    "    events=events,\n",
    "    event_id={'stimulus': 1},\n",
    "    tmin=-0.2,  # 200 ms before event\n",
    "    tmax=0.8,   # 800 ms after event\n",
    "    baseline=(None, 0),\n",
    "    preload=True\n",
    ")"
   ]
  },
  {
   "cell_type": "code",
   "execution_count": 29,
   "id": "ba16d635-5baa-4b0b-aa81-ce390cf751b5",
   "metadata": {},
   "outputs": [
    {
     "name": "stdout",
     "output_type": "stream",
     "text": [
      "Creating RawArray with float64 data, n_channels=4, n_times=30732\n",
      "    Range : 0 ... 30731 =      0.000 ...   120.043 secs\n",
      "Ready.\n",
      "Filtering raw data in 1 contiguous segment\n",
      "Setting up band-pass filter from 1 - 40 Hz\n",
      "\n",
      "FIR filter parameters\n",
      "---------------------\n",
      "Designing a one-pass, zero-phase, non-causal bandpass filter:\n",
      "- Windowed time-domain design (firwin) method\n",
      "- Hamming window with 0.0194 passband ripple and 53 dB stopband attenuation\n",
      "- Lower passband edge: 1.00\n",
      "- Lower transition bandwidth: 1.00 Hz (-6 dB cutoff frequency: 0.50 Hz)\n",
      "- Upper passband edge: 40.00 Hz\n",
      "- Upper transition bandwidth: 10.00 Hz (-6 dB cutoff frequency: 45.00 Hz)\n",
      "- Filter length: 845 samples (3.301 s)\n",
      "\n"
     ]
    },
    {
     "name": "stderr",
     "output_type": "stream",
     "text": [
      "[Parallel(n_jobs=1)]: Done   4 out of   4 | elapsed:    0.0s finished\n"
     ]
    },
    {
     "name": "stdout",
     "output_type": "stream",
     "text": [
      "Channels marked as bad:\n",
      "none\n",
      "Channels marked as bad:\n",
      "none\n",
      "Channels marked as bad:\n",
      "none\n",
      "Channels marked as bad:\n",
      "none\n"
     ]
    }
   ],
   "source": [
    "import mne\n",
    "\n",
    "# Step 1: Setup info again (if needed)\n",
    "sfreq = 256  # Muse headset sampling rate\n",
    "ch_names = ['TP9', 'AF7', 'AF8', 'TP10']\n",
    "ch_types = ['eeg'] * 4\n",
    "info = mne.create_info(ch_names=ch_names, sfreq=sfreq, ch_types=ch_types)\n",
    "\n",
    "# Step 2: Get signals from parsed_data (transpose to shape: channels × samples)\n",
    "signals = parsed_data[0]['signals']  # Should be shape (4, N)\n",
    "raw = mne.io.RawArray(signals, info)\n",
    "\n",
    "# Step 3: Optional: add montage for plotting\n",
    "montage = mne.channels.make_standard_montage('standard_1020')\n",
    "raw.set_montage(montage, match_case=False)\n",
    "\n",
    "# Step 4: Filter the raw EEG\n",
    "raw_filtered = raw.copy().filter(l_freq=1.0, h_freq=40.0)\n"
   ]
  },
  {
   "cell_type": "code",
   "execution_count": 34,
   "id": "6cef5223-c17c-4425-88a2-5523a91cad54",
   "metadata": {},
   "outputs": [
    {
     "name": "stdout",
     "output_type": "stream",
     "text": [
      "dict_keys(['signals', 'timestamps', 'events'])\n"
     ]
    }
   ],
   "source": [
    "print(parsed_data[0].keys())"
   ]
  },
  {
   "cell_type": "code",
   "execution_count": 35,
   "id": "33c10737-1e3e-4763-aab5-e95278665299",
   "metadata": {},
   "outputs": [
    {
     "name": "stdout",
     "output_type": "stream",
     "text": [
      "Detected event types and counts:\n",
      "Event 1: 89 occurrences\n",
      "Event 2: 103 occurrences\n"
     ]
    }
   ],
   "source": [
    "import numpy as np\n",
    "\n",
    "# Example: assuming 'df' is your loaded CSV DataFrame\n",
    "marker_col = df['Marker0'].values  # numpy array of Marker0 column\n",
    "\n",
    "# Find indices where Marker0 is nonzero (assuming 0 means no event)\n",
    "event_indices = np.where(marker_col != 0)[0]\n",
    "\n",
    "# Extract corresponding event labels (nonzero values)\n",
    "event_labels = marker_col[event_indices].astype(int)\n",
    "\n",
    "# Create MNE-style events array: [sample_index, 0, event_label]\n",
    "events = np.column_stack((event_indices, np.zeros_like(event_indices), event_labels))\n",
    "\n",
    "print(\"Detected event types and counts:\")\n",
    "unique, counts = np.unique(event_labels, return_counts=True)\n",
    "for u, c in zip(unique, counts):\n",
    "    print(f\"Event {u}: {c} occurrences\")\n"
   ]
  },
  {
   "cell_type": "code",
   "execution_count": 36,
   "id": "309c2b7a-e78d-45e1-bdc5-39fadc61e8f8",
   "metadata": {},
   "outputs": [
    {
     "name": "stdout",
     "output_type": "stream",
     "text": [
      "Not setting metadata\n",
      "192 matching events found\n",
      "Setting baseline interval to [-0.19921875, 0.0] s\n",
      "Applying baseline correction (mode: mean)\n",
      "0 projection items activated\n",
      "Using data from preloaded Raw for 192 events and 257 original time points ...\n",
      "0 bad epochs dropped\n"
     ]
    }
   ],
   "source": [
    "event_id = {str(k): k for k in np.unique(event_labels)}  # e.g. {'1': 1, '2': 2}\n",
    "\n",
    "epochs = mne.Epochs(\n",
    "    raw_filtered,\n",
    "    events=events,\n",
    "    event_id=event_id,\n",
    "    tmin=-0.2,\n",
    "    tmax=0.8,\n",
    "    baseline=(None, 0),\n",
    "    preload=True\n",
    ")\n"
   ]
  },
  {
   "cell_type": "code",
   "execution_count": 38,
   "id": "d2172e19-6cb8-428f-addc-ee0ee2123e2b",
   "metadata": {},
   "outputs": [
    {
     "name": "stdout",
     "output_type": "stream",
     "text": [
      "Effective window size : 1.004 (s)\n"
     ]
    }
   ],
   "source": [
    "psd = epochs.compute_psd(method='welch', fmin=1, fmax=40)\n",
    "X = np.log(psd.get_data())\n",
    "X = X.reshape(X.shape[0], -1)  # flatten for ML\n",
    "y = epochs.events[:, 2]        # true labels: 1 or 2\n"
   ]
  },
  {
   "cell_type": "code",
   "execution_count": 39,
   "id": "00e50ebc-0795-4502-90d3-e6cc1a20cfb1",
   "metadata": {},
   "outputs": [
    {
     "name": "stdout",
     "output_type": "stream",
     "text": [
      "Cross-validated accuracy: 0.55 ± 0.08\n"
     ]
    }
   ],
   "source": [
    "from sklearn.pipeline import make_pipeline\n",
    "from sklearn.preprocessing import StandardScaler\n",
    "from sklearn.svm import SVC\n",
    "from sklearn.model_selection import cross_val_score\n",
    "\n",
    "clf = make_pipeline(StandardScaler(), SVC(kernel='rbf'))\n",
    "scores = cross_val_score(clf, X, y, cv=5)\n",
    "\n",
    "print(f\"Cross-validated accuracy: {scores.mean():.2f} ± {scores.std():.2f}\")"
   ]
  },
  {
   "cell_type": "code",
   "execution_count": 40,
   "id": "8fe9c00e-08e6-4b8a-8420-89369ffcf917",
   "metadata": {},
   "outputs": [
    {
     "name": "stdout",
     "output_type": "stream",
     "text": [
      "Found 19 CSV files\n"
     ]
    }
   ],
   "source": [
    "import os\n",
    "\n",
    "base_folder = '../data/visual-N170/eegnb_examples/muse2016/'\n",
    "\n",
    "all_files = []\n",
    "for root, dirs, files in os.walk(base_folder):\n",
    "    for file in files:\n",
    "        if file.endswith('.csv'):\n",
    "            all_files.append(os.path.join(root, file))\n",
    "\n",
    "print(f\"Found {len(all_files)} CSV files\")\n"
   ]
  },
  {
   "cell_type": "code",
   "execution_count": 86,
   "id": "8cba37e4-2588-478a-9951-59a5489bc224",
   "metadata": {},
   "outputs": [
    {
     "name": "stdout",
     "output_type": "stream",
     "text": [
      "Processing ../data/visual-N170/eegnb_examples/muse2016/subject0001\\session001\\data_2017-09-13-15.30.01.csv ...\n",
      "Creating RawArray with float64 data, n_channels=6, n_times=30732\n",
      "    Range : 0 ... 30731 =      0.000 ...   120.043 secs\n",
      "Ready.\n",
      "NOTE: pick_channels() is a legacy function. New code should use inst.pick(...).\n",
      "Processing ../data/visual-N170/eegnb_examples/muse2016/subject0001\\session001\\data_2017-09-13-15.32.50.csv ...\n",
      "Creating RawArray with float64 data, n_channels=6, n_times=30732\n",
      "    Range : 0 ... 30731 =      0.000 ...   120.043 secs\n",
      "Ready.\n",
      "NOTE: pick_channels() is a legacy function. New code should use inst.pick(...).\n",
      "Processing ../data/visual-N170/eegnb_examples/muse2016/subject0001\\session001\\data_2017-09-13-15.35.26.csv ...\n",
      "Creating RawArray with float64 data, n_channels=6, n_times=30732\n",
      "    Range : 0 ... 30731 =      0.000 ...   120.043 secs\n",
      "Ready.\n",
      "NOTE: pick_channels() is a legacy function. New code should use inst.pick(...).\n",
      "Processing ../data/visual-N170/eegnb_examples/muse2016/subject0001\\session001\\data_2017-09-13-15.40.17.csv ...\n",
      "Creating RawArray with float64 data, n_channels=6, n_times=30732\n",
      "    Range : 0 ... 30731 =      0.000 ...   120.043 secs\n",
      "Ready.\n",
      "NOTE: pick_channels() is a legacy function. New code should use inst.pick(...).\n",
      "Processing ../data/visual-N170/eegnb_examples/muse2016/subject0001\\session001\\data_2017-09-13-15.42.33.csv ...\n",
      "Creating RawArray with float64 data, n_channels=6, n_times=30720\n",
      "    Range : 0 ... 30719 =      0.000 ...   119.996 secs\n",
      "Ready.\n",
      "NOTE: pick_channels() is a legacy function. New code should use inst.pick(...).\n",
      "Processing ../data/visual-N170/eegnb_examples/muse2016/subject0001\\session001\\data_2017-09-13-15.45.08.csv ...\n",
      "Creating RawArray with float64 data, n_channels=6, n_times=30732\n",
      "    Range : 0 ... 30731 =      0.000 ...   120.043 secs\n",
      "Ready.\n",
      "NOTE: pick_channels() is a legacy function. New code should use inst.pick(...).\n",
      "Processing ../data/visual-N170/eegnb_examples/muse2016/subject0002\\session001\\data_2018-04-15-21.18.48.csv ...\n",
      "Creating RawArray with float64 data, n_channels=6, n_times=30732\n",
      "    Range : 0 ... 30731 =      0.000 ...   120.043 secs\n",
      "Ready.\n",
      "NOTE: pick_channels() is a legacy function. New code should use inst.pick(...).\n",
      "Processing ../data/visual-N170/eegnb_examples/muse2016/subject0002\\session001\\data_2018-04-15-21.21.20.csv ...\n",
      "Creating RawArray with float64 data, n_channels=6, n_times=30732\n",
      "    Range : 0 ... 30731 =      0.000 ...   120.043 secs\n",
      "Ready.\n",
      "NOTE: pick_channels() is a legacy function. New code should use inst.pick(...).\n",
      "Processing ../data/visual-N170/eegnb_examples/muse2016/subject0003\\session001\\data_2018-05-14-19.14.37.csv ...\n",
      "Creating RawArray with float64 data, n_channels=6, n_times=30720\n",
      "    Range : 0 ... 30719 =      0.000 ...   119.996 secs\n",
      "Ready.\n",
      "NOTE: pick_channels() is a legacy function. New code should use inst.pick(...).\n",
      "Processing ../data/visual-N170/eegnb_examples/muse2016/subject0003\\session001\\data_2018-05-14-19.38.10.csv ...\n",
      "Creating RawArray with float64 data, n_channels=6, n_times=30732\n",
      "    Range : 0 ... 30731 =      0.000 ...   120.043 secs\n",
      "Ready.\n",
      "NOTE: pick_channels() is a legacy function. New code should use inst.pick(...).\n",
      "Processing ../data/visual-N170/eegnb_examples/muse2016/subject0003\\session002\\data_2018-05-14-19.35.55.csv ...\n",
      "Creating RawArray with float64 data, n_channels=6, n_times=30720\n",
      "    Range : 0 ... 30719 =      0.000 ...   119.996 secs\n",
      "Ready.\n",
      "NOTE: pick_channels() is a legacy function. New code should use inst.pick(...).\n",
      "Processing ../data/visual-N170/eegnb_examples/muse2016/subject0003\\session002\\data_2018-05-14-19.38.10.csv ...\n",
      "Creating RawArray with float64 data, n_channels=6, n_times=30732\n",
      "    Range : 0 ... 30731 =      0.000 ...   120.043 secs\n",
      "Ready.\n",
      "NOTE: pick_channels() is a legacy function. New code should use inst.pick(...).\n",
      "Processing ../data/visual-N170/eegnb_examples/muse2016/subject0003\\session003\\recording_2018-05-29-20.14.04.csv ...\n",
      "Creating RawArray with float64 data, n_channels=6, n_times=30564\n",
      "    Range : 0 ... 30563 =      0.000 ...   119.387 secs\n",
      "Ready.\n",
      "NOTE: pick_channels() is a legacy function. New code should use inst.pick(...).\n",
      "Processing ../data/visual-N170/eegnb_examples/muse2016/subject0003\\session003\\recording_2018-05-31-16.03.39.csv ...\n",
      "Creating RawArray with float64 data, n_channels=6, n_times=30552\n",
      "    Range : 0 ... 30551 =      0.000 ...   119.340 secs\n",
      "Ready.\n",
      "NOTE: pick_channels() is a legacy function. New code should use inst.pick(...).\n",
      "Processing ../data/visual-N170/eegnb_examples/muse2016/subject0010\\session001\\recording_2018-06-06-14.34.14.csv ...\n",
      "Creating RawArray with float64 data, n_channels=6, n_times=30552\n",
      "    Range : 0 ... 30551 =      0.000 ...   119.340 secs\n",
      "Ready.\n",
      "NOTE: pick_channels() is a legacy function. New code should use inst.pick(...).\n"
     ]
    },
    {
     "name": "stderr",
     "output_type": "stream",
     "text": [
      "C:\\Users\\reeya\\AppData\\Local\\Temp\\ipykernel_512\\2851822936.py:45: RuntimeWarning: All epochs were dropped!\n",
      "You might need to alter reject/flat-criteria or drop bad channels to avoid this. You can use Epochs.plot_drop_log() to see which channels are responsible for the dropping of epochs.\n",
      "  epochs = mne.Epochs(\n"
     ]
    },
    {
     "ename": "RuntimeError",
     "evalue": "epochs._get_data() can't run because this Epochs-object is empty. You might want to check Epochs.drop_log or Epochs.plot_drop_log() to see why epochs were dropped.",
     "output_type": "error",
     "traceback": [
      "\u001b[31m-----------------------------------------------------------------------\u001b[39m",
      "\u001b[31mRuntimeError\u001b[39m                          Traceback (most recent call last)",
      "\u001b[36mCell\u001b[39m\u001b[36m \u001b[39m\u001b[32mIn[86]\u001b[39m\u001b[32m, line 80\u001b[39m\n\u001b[32m     78\u001b[39m     \u001b[38;5;28;01mcontinue\u001b[39;00m\n\u001b[32m     79\u001b[39m epochs = preprocess_and_epoch(raw, events, event_id)\n\u001b[32m---> \u001b[39m\u001b[32m80\u001b[39m X, y = \u001b[43mextract_features\u001b[49m\u001b[43m(\u001b[49m\u001b[43mepochs\u001b[49m\u001b[43m)\u001b[49m\n\u001b[32m     82\u001b[39m all_X.append(X)\n\u001b[32m     83\u001b[39m all_y.append(y)\n",
      "\u001b[36mCell\u001b[39m\u001b[36m \u001b[39m\u001b[32mIn[86]\u001b[39m\u001b[32m, line 58\u001b[39m, in \u001b[36mextract_features\u001b[39m\u001b[34m(epochs)\u001b[39m\n\u001b[32m     57\u001b[39m \u001b[38;5;28;01mdef\u001b[39;00m\u001b[38;5;250m \u001b[39m\u001b[34mextract_features\u001b[39m(epochs):\n\u001b[32m---> \u001b[39m\u001b[32m58\u001b[39m     psd = \u001b[43mepochs\u001b[49m\u001b[43m.\u001b[49m\u001b[43mcompute_psd\u001b[49m\u001b[43m(\u001b[49m\u001b[43mmethod\u001b[49m\u001b[43m=\u001b[49m\u001b[33;43m'\u001b[39;49m\u001b[33;43mwelch\u001b[39;49m\u001b[33;43m'\u001b[39;49m\u001b[43m,\u001b[49m\u001b[43m \u001b[49m\u001b[43mfmin\u001b[49m\u001b[43m=\u001b[49m\u001b[32;43m1\u001b[39;49m\u001b[43m,\u001b[49m\u001b[43m \u001b[49m\u001b[43mfmax\u001b[49m\u001b[43m=\u001b[49m\u001b[32;43m40\u001b[39;49m\u001b[43m,\u001b[49m\u001b[43m \u001b[49m\u001b[43mverbose\u001b[49m\u001b[43m=\u001b[49m\u001b[38;5;28;43;01mFalse\u001b[39;49;00m\u001b[43m)\u001b[49m\n\u001b[32m     59\u001b[39m     X = np.log(psd.get_data())\n\u001b[32m     60\u001b[39m     X = X.reshape(X.shape[\u001b[32m0\u001b[39m], -\u001b[32m1\u001b[39m)\n",
      "\u001b[36mFile \u001b[39m\u001b[32m<decorator-gen-256>:10\u001b[39m, in \u001b[36mcompute_psd\u001b[39m\u001b[34m(self, method, fmin, fmax, tmin, tmax, picks, proj, remove_dc, exclude, n_jobs, verbose, **method_kw)\u001b[39m\n",
      "\u001b[36mFile \u001b[39m\u001b[32m~\\EEG-ExPy\\venv\\Lib\\site-packages\\mne\\epochs.py:2558\u001b[39m, in \u001b[36mBaseEpochs.compute_psd\u001b[39m\u001b[34m(self, method, fmin, fmax, tmin, tmax, picks, proj, remove_dc, exclude, n_jobs, verbose, **method_kw)\u001b[39m\n\u001b[32m   2555\u001b[39m method = _validate_method(method, \u001b[38;5;28mtype\u001b[39m(\u001b[38;5;28mself\u001b[39m).\u001b[34m__name__\u001b[39m)\n\u001b[32m   2556\u001b[39m \u001b[38;5;28mself\u001b[39m._set_legacy_nfft_default(tmin, tmax, method, method_kw)\n\u001b[32m-> \u001b[39m\u001b[32m2558\u001b[39m \u001b[38;5;28;01mreturn\u001b[39;00m \u001b[43mEpochsSpectrum\u001b[49m\u001b[43m(\u001b[49m\n\u001b[32m   2559\u001b[39m \u001b[43m    \u001b[49m\u001b[38;5;28;43mself\u001b[39;49m\u001b[43m,\u001b[49m\n\u001b[32m   2560\u001b[39m \u001b[43m    \u001b[49m\u001b[43mmethod\u001b[49m\u001b[43m=\u001b[49m\u001b[43mmethod\u001b[49m\u001b[43m,\u001b[49m\n\u001b[32m   2561\u001b[39m \u001b[43m    \u001b[49m\u001b[43mfmin\u001b[49m\u001b[43m=\u001b[49m\u001b[43mfmin\u001b[49m\u001b[43m,\u001b[49m\n\u001b[32m   2562\u001b[39m \u001b[43m    \u001b[49m\u001b[43mfmax\u001b[49m\u001b[43m=\u001b[49m\u001b[43mfmax\u001b[49m\u001b[43m,\u001b[49m\n\u001b[32m   2563\u001b[39m \u001b[43m    \u001b[49m\u001b[43mtmin\u001b[49m\u001b[43m=\u001b[49m\u001b[43mtmin\u001b[49m\u001b[43m,\u001b[49m\n\u001b[32m   2564\u001b[39m \u001b[43m    \u001b[49m\u001b[43mtmax\u001b[49m\u001b[43m=\u001b[49m\u001b[43mtmax\u001b[49m\u001b[43m,\u001b[49m\n\u001b[32m   2565\u001b[39m \u001b[43m    \u001b[49m\u001b[43mpicks\u001b[49m\u001b[43m=\u001b[49m\u001b[43mpicks\u001b[49m\u001b[43m,\u001b[49m\n\u001b[32m   2566\u001b[39m \u001b[43m    \u001b[49m\u001b[43mexclude\u001b[49m\u001b[43m=\u001b[49m\u001b[43mexclude\u001b[49m\u001b[43m,\u001b[49m\n\u001b[32m   2567\u001b[39m \u001b[43m    \u001b[49m\u001b[43mproj\u001b[49m\u001b[43m=\u001b[49m\u001b[43mproj\u001b[49m\u001b[43m,\u001b[49m\n\u001b[32m   2568\u001b[39m \u001b[43m    \u001b[49m\u001b[43mremove_dc\u001b[49m\u001b[43m=\u001b[49m\u001b[43mremove_dc\u001b[49m\u001b[43m,\u001b[49m\n\u001b[32m   2569\u001b[39m \u001b[43m    \u001b[49m\u001b[43mn_jobs\u001b[49m\u001b[43m=\u001b[49m\u001b[43mn_jobs\u001b[49m\u001b[43m,\u001b[49m\n\u001b[32m   2570\u001b[39m \u001b[43m    \u001b[49m\u001b[43mverbose\u001b[49m\u001b[43m=\u001b[49m\u001b[43mverbose\u001b[49m\u001b[43m,\u001b[49m\n\u001b[32m   2571\u001b[39m \u001b[43m    \u001b[49m\u001b[43m*\u001b[49m\u001b[43m*\u001b[49m\u001b[43mmethod_kw\u001b[49m\u001b[43m,\u001b[49m\n\u001b[32m   2572\u001b[39m \u001b[43m\u001b[49m\u001b[43m)\u001b[49m\n",
      "\u001b[36mFile \u001b[39m\u001b[32m~\\EEG-ExPy\\venv\\Lib\\site-packages\\mne\\time_frequency\\spectrum.py:1438\u001b[39m, in \u001b[36mEpochsSpectrum.__init__\u001b[39m\u001b[34m(self, inst, method, fmin, fmax, tmin, tmax, picks, exclude, proj, remove_dc, n_jobs, verbose, **method_kw)\u001b[39m\n\u001b[32m   1422\u001b[39m \u001b[38;5;28msuper\u001b[39m().\u001b[34m__init__\u001b[39m(\n\u001b[32m   1423\u001b[39m     inst,\n\u001b[32m   1424\u001b[39m     method,\n\u001b[32m   (...)\u001b[39m\u001b[32m   1435\u001b[39m     **method_kw,\n\u001b[32m   1436\u001b[39m )\n\u001b[32m   1437\u001b[39m \u001b[38;5;66;03m# get just the data we want\u001b[39;00m\n\u001b[32m-> \u001b[39m\u001b[32m1438\u001b[39m data = \u001b[38;5;28;43mself\u001b[39;49m\u001b[43m.\u001b[49m\u001b[43minst\u001b[49m\u001b[43m.\u001b[49m\u001b[43m_get_data\u001b[49m\u001b[43m(\u001b[49m\u001b[43mpicks\u001b[49m\u001b[43m=\u001b[49m\u001b[38;5;28;43mself\u001b[39;49m\u001b[43m.\u001b[49m\u001b[43m_picks\u001b[49m\u001b[43m,\u001b[49m\u001b[43m \u001b[49m\u001b[43mon_empty\u001b[49m\u001b[43m=\u001b[49m\u001b[33;43m\"\u001b[39;49m\u001b[33;43mraise\u001b[39;49m\u001b[33;43m\"\u001b[39;49m\u001b[43m)\u001b[49m[\n\u001b[32m   1439\u001b[39m     :, :, \u001b[38;5;28mself\u001b[39m._time_mask\n\u001b[32m   1440\u001b[39m ]\n\u001b[32m   1441\u001b[39m \u001b[38;5;66;03m# compute the spectra\u001b[39;00m\n\u001b[32m   1442\u001b[39m \u001b[38;5;28mself\u001b[39m._compute_spectra(data, fmin, fmax, n_jobs, method_kw, verbose)\n",
      "\u001b[36mFile \u001b[39m\u001b[32m<decorator-gen-250>:12\u001b[39m, in \u001b[36m_get_data\u001b[39m\u001b[34m(self, out, picks, item, units, tmin, tmax, copy, on_empty, verbose)\u001b[39m\n",
      "\u001b[36mFile \u001b[39m\u001b[32m~\\EEG-ExPy\\venv\\Lib\\site-packages\\mne\\epochs.py:1633\u001b[39m, in \u001b[36mBaseEpochs._get_data\u001b[39m\u001b[34m(self, out, picks, item, units, tmin, tmax, copy, on_empty, verbose)\u001b[39m\n\u001b[32m   1630\u001b[39m     _validate_type(copy, \u001b[38;5;28mbool\u001b[39m, \u001b[33m\"\u001b[39m\u001b[33mcopy\u001b[39m\u001b[33m\"\u001b[39m)\n\u001b[32m   1632\u001b[39m \u001b[38;5;66;03m# Handle empty epochs\u001b[39;00m\n\u001b[32m-> \u001b[39m\u001b[32m1633\u001b[39m \u001b[38;5;28;43mself\u001b[39;49m\u001b[43m.\u001b[49m\u001b[43m_handle_empty\u001b[49m\u001b[43m(\u001b[49m\u001b[43mon_empty\u001b[49m\u001b[43m,\u001b[49m\u001b[43m \u001b[49m\u001b[33;43m\"\u001b[39;49m\u001b[33;43m_get_data\u001b[39;49m\u001b[33;43m\"\u001b[39;49m\u001b[43m)\u001b[49m\n\u001b[32m   1634\u001b[39m \u001b[38;5;66;03m# if called with 'out=False', the call came from 'drop_bad()'\u001b[39;00m\n\u001b[32m   1635\u001b[39m \u001b[38;5;66;03m# if no reasons to drop, just declare epochs as good and return\u001b[39;00m\n\u001b[32m   1636\u001b[39m \u001b[38;5;28;01mif\u001b[39;00m \u001b[38;5;129;01mnot\u001b[39;00m out:\n\u001b[32m   1637\u001b[39m     \u001b[38;5;66;03m# make sure first and last epoch not out of bounds of raw\u001b[39;00m\n",
      "\u001b[36mFile \u001b[39m\u001b[32m~\\EEG-ExPy\\venv\\Lib\\site-packages\\mne\\epochs.py:1594\u001b[39m, in \u001b[36mBaseEpochs._handle_empty\u001b[39m\u001b[34m(self, on_empty, meth)\u001b[39m\n\u001b[32m   1588\u001b[39m \u001b[38;5;28;01mif\u001b[39;00m \u001b[38;5;28mlen\u001b[39m(\u001b[38;5;28mself\u001b[39m.events) == \u001b[32m0\u001b[39m:\n\u001b[32m   1589\u001b[39m     msg = (\n\u001b[32m   1590\u001b[39m         \u001b[33mf\u001b[39m\u001b[33m\"\u001b[39m\u001b[33mepochs.\u001b[39m\u001b[38;5;132;01m{\u001b[39;00mmeth\u001b[38;5;132;01m}\u001b[39;00m\u001b[33m() can\u001b[39m\u001b[33m'\u001b[39m\u001b[33mt run because this Epochs-object is empty. \u001b[39m\u001b[33m\"\u001b[39m\n\u001b[32m   1591\u001b[39m         \u001b[33mf\u001b[39m\u001b[33m\"\u001b[39m\u001b[33mYou might want to check Epochs.drop_log or Epochs.plot_drop_log()\u001b[39m\u001b[33m\"\u001b[39m\n\u001b[32m   1592\u001b[39m         \u001b[33mf\u001b[39m\u001b[33m\"\u001b[39m\u001b[33m to see why epochs were dropped.\u001b[39m\u001b[33m\"\u001b[39m\n\u001b[32m   1593\u001b[39m     )\n\u001b[32m-> \u001b[39m\u001b[32m1594\u001b[39m     \u001b[43m_on_missing\u001b[49m\u001b[43m(\u001b[49m\u001b[43mon_empty\u001b[49m\u001b[43m,\u001b[49m\u001b[43m \u001b[49m\u001b[43mmsg\u001b[49m\u001b[43m,\u001b[49m\u001b[43m \u001b[49m\u001b[43merror_klass\u001b[49m\u001b[43m=\u001b[49m\u001b[38;5;167;43;01mRuntimeError\u001b[39;49;00m\u001b[43m)\u001b[49m\n",
      "\u001b[36mFile \u001b[39m\u001b[32m~\\EEG-ExPy\\venv\\Lib\\site-packages\\mne\\utils\\check.py:1218\u001b[39m, in \u001b[36m_on_missing\u001b[39m\u001b[34m(on_missing, msg, name, error_klass)\u001b[39m\n\u001b[32m   1216\u001b[39m on_missing = \u001b[33m\"\u001b[39m\u001b[33mwarn\u001b[39m\u001b[33m\"\u001b[39m \u001b[38;5;28;01mif\u001b[39;00m on_missing == \u001b[33m\"\u001b[39m\u001b[33mwarning\u001b[39m\u001b[33m\"\u001b[39m \u001b[38;5;28;01melse\u001b[39;00m on_missing\n\u001b[32m   1217\u001b[39m \u001b[38;5;28;01mif\u001b[39;00m on_missing == \u001b[33m\"\u001b[39m\u001b[33mraise\u001b[39m\u001b[33m\"\u001b[39m:\n\u001b[32m-> \u001b[39m\u001b[32m1218\u001b[39m     \u001b[38;5;28;01mraise\u001b[39;00m error_klass(msg)\n\u001b[32m   1219\u001b[39m \u001b[38;5;28;01melif\u001b[39;00m on_missing == \u001b[33m\"\u001b[39m\u001b[33mwarn\u001b[39m\u001b[33m\"\u001b[39m:\n\u001b[32m   1220\u001b[39m     warn(msg)\n",
      "\u001b[31mRuntimeError\u001b[39m: epochs._get_data() can't run because this Epochs-object is empty. You might want to check Epochs.drop_log or Epochs.plot_drop_log() to see why epochs were dropped."
     ]
    }
   ],
   "source": [
    "import os\n",
    "import numpy as np\n",
    "import pandas as pd\n",
    "import mne\n",
    "from sklearn.pipeline import make_pipeline\n",
    "from sklearn.preprocessing import StandardScaler\n",
    "from sklearn.svm import SVC\n",
    "from sklearn.model_selection import cross_val_score\n",
    "\n",
    "# Folder containing all CSVs\n",
    "base_folder = '../data/visual-N170/eegnb_examples/muse2016/'\n",
    "\n",
    "def load_raw_from_csv(csv_path):\n",
    "    df = pd.read_csv(csv_path)\n",
    "    sfreq = 256  # typical Muse sampling frequency, adjust if needed\n",
    "    \n",
    "    info = mne.create_info(\n",
    "        ch_names=['TP9', 'AF7', 'AF8', 'TP10', 'Right AUX', 'Marker0'],\n",
    "        sfreq=sfreq,\n",
    "        ch_types=['eeg']*4 + ['misc']*2\n",
    "    )\n",
    "    # Use only EEG channels for raw data\n",
    "    data = df[['TP9', 'AF7', 'AF8', 'TP10', 'Right AUX', 'Marker0']].values.T\n",
    "    \n",
    "    raw = mne.io.RawArray(data, info)\n",
    "    return raw, df\n",
    "\n",
    "def extract_events(df, raw):\n",
    "    markers = df['Marker0'].values\n",
    "    event_samples = np.where(markers != 0)[0]\n",
    "    event_ids = markers[event_samples].astype(int)\n",
    "    events = np.column_stack((event_samples, np.zeros_like(event_samples), event_ids))\n",
    "    \n",
    "    event_id = {str(e): int(e) for e in np.unique(event_ids)}\n",
    "    return events, event_id\n",
    "\n",
    "def preprocess_and_epoch(raw, events, event_id):\n",
    "    # Pick EEG channels only\n",
    "    raw.pick_channels(['TP9', 'AF7', 'AF8', 'TP10'])\n",
    "    \n",
    "    # Filter data\n",
    "    raw.filter(1., 40., fir_design='firwin', verbose=False)\n",
    "    \n",
    "    # Epoching parameters\n",
    "    epochs = mne.Epochs(\n",
    "        raw,\n",
    "        events=events,\n",
    "        event_id=event_id,\n",
    "        tmin=-0.2,\n",
    "        tmax=0.8,\n",
    "        baseline=(None, 0),\n",
    "        preload=True,\n",
    "        verbose=False\n",
    "    )\n",
    "    return epochs\n",
    "\n",
    "def extract_features(epochs):\n",
    "    psd = epochs.compute_psd(method='welch', fmin=1, fmax=40, verbose=False)\n",
    "    X = np.log(psd.get_data())\n",
    "    X = X.reshape(X.shape[0], -1)\n",
    "    y = epochs.events[:, 2]\n",
    "    return X, y\n",
    "\n",
    "# Aggregate all data\n",
    "all_X = []\n",
    "all_y = []\n",
    "\n",
    "for root, dirs, files in os.walk(base_folder):\n",
    "    for file in files:\n",
    "        if file.endswith('.csv'):\n",
    "            csv_path = os.path.join(root, file)\n",
    "            print(f\"Processing {csv_path} ...\")\n",
    "            \n",
    "            raw, df = load_raw_from_csv(csv_path)\n",
    "            events, event_id = extract_events(df, raw)\n",
    "            if len(events) == 0:\n",
    "                print(\"No events found, skipping file.\")\n",
    "                continue\n",
    "            epochs = preprocess_and_epoch(raw, events, event_id)\n",
    "            X, y = extract_features(epochs)\n",
    "            \n",
    "            all_X.append(X)\n",
    "            all_y.append(y)\n",
    "\n",
    "# Combine all data\n",
    "all_X = np.vstack(all_X)\n",
    "all_y = np.concatenate(all_y)\n",
    "\n",
    "print(f\"Total epochs: {all_X.shape[0]}, feature dimension: {all_X.shape[1]}\")\n",
    "\n",
    "# Train classifier\n",
    "clf = make_pipeline(StandardScaler(), SVC(kernel='rbf'))\n",
    "scores = cross_val_score(clf, all_X, all_y, cv=5)\n",
    "\n",
    "print(f\"Cross-validated accuracy: {scores.mean():.2f} ± {scores.std():.2f}\")\n"
   ]
  },
  {
   "cell_type": "code",
   "execution_count": 88,
   "id": "dd5a9c04-9734-412d-ab9c-ca36937a22c0",
   "metadata": {},
   "outputs": [
    {
     "name": "stdout",
     "output_type": "stream",
     "text": [
      "Created 0 epochs\n"
     ]
    },
    {
     "name": "stderr",
     "output_type": "stream",
     "text": [
      "C:\\Users\\reeya\\AppData\\Local\\Temp\\ipykernel_512\\3866659731.py:7: RuntimeWarning: All epochs were dropped!\n",
      "You might need to alter reject/flat-criteria or drop bad channels to avoid this. You can use Epochs.plot_drop_log() to see which channels are responsible for the dropping of epochs.\n",
      "  epochs = mne.Epochs(\n"
     ]
    }
   ],
   "source": [
    "# Convert event_id keys to strings (values stay int)\n",
    "event_id = {str(int(k)): int(k) for k in np.unique(events[:, 2])}\n",
    "\n",
    "# Pick EEG channels using new syntax\n",
    "raw.pick(['TP9', 'AF7', 'AF8', 'TP10'])\n",
    "\n",
    "epochs = mne.Epochs(\n",
    "    raw,\n",
    "    events,\n",
    "    event_id=event_id,\n",
    "    tmin=-0.2,\n",
    "    tmax=0.8,\n",
    "    baseline=(None, 0),\n",
    "    preload=True,\n",
    "    reject_by_annotation=False,\n",
    "    verbose=False\n",
    ")\n",
    "\n",
    "print(f\"Created {len(epochs)} epochs\")\n"
   ]
  },
  {
   "cell_type": "code",
   "execution_count": 44,
   "id": "173fac52-12da-423f-b2d7-fd58e1f5639d",
   "metadata": {},
   "outputs": [
    {
     "name": "stdout",
     "output_type": "stream",
     "text": [
      "Number of events: 1\n",
      "Unique event IDs in events: [2]\n",
      "Event IDs in event_id dict: ['2']\n"
     ]
    }
   ],
   "source": [
    "print(f\"Number of events: {events.shape[0]}\")\n",
    "print(f\"Unique event IDs in events: {np.unique(events[:, 2])}\")\n",
    "print(f\"Event IDs in event_id dict: {list(event_id.keys())}\")"
   ]
  },
  {
   "cell_type": "code",
   "execution_count": 45,
   "id": "795191b8-6dcd-4162-8f87-f79b040ae13a",
   "metadata": {},
   "outputs": [
    {
     "name": "stdout",
     "output_type": "stream",
     "text": [
      "data_2017-09-13-15.30.01.csv: 197 events\n",
      "data_2017-09-13-15.32.50.csv: 195 events\n",
      "data_2017-09-13-15.35.26.csv: 195 events\n",
      "data_2017-09-13-15.40.17.csv: 194 events\n",
      "data_2017-09-13-15.42.33.csv: 194 events\n",
      "data_2017-09-13-15.45.08.csv: 199 events\n",
      "data_2018-04-15-21.18.48.csv: 197 events\n",
      "data_2018-04-15-21.21.20.csv: 198 events\n",
      "data_2018-05-14-19.14.37.csv: 194 events\n",
      "data_2018-05-14-19.38.10.csv: 196 events\n",
      "data_2018-05-14-19.35.55.csv: 199 events\n",
      "data_2018-05-14-19.38.10.csv: 196 events\n",
      "recording_2018-05-29-20.14.04.csv: 199 events\n",
      "recording_2018-05-31-16.03.39.csv: 7 events\n",
      "recording_2018-06-06-14.34.14.csv: 1 events\n",
      "recording_2018-06-06-15.06.45.csv: 28 events\n",
      "recording_2018-06-06-14.42.27.csv: 1 events\n",
      "recording_2018-06-06-14.45.33.csv: 1 events\n",
      "recording_2018-06-06-18.42.19.csv: 192 events\n"
     ]
    }
   ],
   "source": [
    "for root, dirs, files in os.walk(base_folder):\n",
    "    for file in files:\n",
    "        if file.endswith('.csv'):\n",
    "            csv_path = os.path.join(root, file)\n",
    "            df = pd.read_csv(csv_path)\n",
    "            markers = df['Marker0'].values\n",
    "            event_samples = np.where(markers != 0)[0]\n",
    "            print(f\"{file}: {len(event_samples)} events\")"
   ]
  },
  {
   "cell_type": "code",
   "execution_count": 46,
   "id": "146c936b-5ff5-445c-bf80-e40e87a562b6",
   "metadata": {},
   "outputs": [
    {
     "name": "stdout",
     "output_type": "stream",
     "text": [
      "Creating RawArray with float64 data, n_channels=6, n_times=30732\n",
      "    Range : 0 ... 30731 =      0.000 ...   120.043 secs\n",
      "Ready.\n",
      "Creating RawArray with float64 data, n_channels=6, n_times=30732\n",
      "    Range : 0 ... 30731 =      0.000 ...   120.043 secs\n",
      "Ready.\n",
      "Creating RawArray with float64 data, n_channels=6, n_times=30732\n",
      "    Range : 0 ... 30731 =      0.000 ...   120.043 secs\n",
      "Ready.\n",
      "Creating RawArray with float64 data, n_channels=6, n_times=30732\n",
      "    Range : 0 ... 30731 =      0.000 ...   120.043 secs\n",
      "Ready.\n",
      "Creating RawArray with float64 data, n_channels=6, n_times=30720\n",
      "    Range : 0 ... 30719 =      0.000 ...   119.996 secs\n",
      "Ready.\n",
      "Creating RawArray with float64 data, n_channels=6, n_times=30732\n",
      "    Range : 0 ... 30731 =      0.000 ...   120.043 secs\n",
      "Ready.\n",
      "Creating RawArray with float64 data, n_channels=6, n_times=30732\n",
      "    Range : 0 ... 30731 =      0.000 ...   120.043 secs\n",
      "Ready.\n",
      "Creating RawArray with float64 data, n_channels=6, n_times=30732\n",
      "    Range : 0 ... 30731 =      0.000 ...   120.043 secs\n",
      "Ready.\n",
      "Creating RawArray with float64 data, n_channels=6, n_times=30720\n",
      "    Range : 0 ... 30719 =      0.000 ...   119.996 secs\n",
      "Ready.\n",
      "Creating RawArray with float64 data, n_channels=6, n_times=30732\n",
      "    Range : 0 ... 30731 =      0.000 ...   120.043 secs\n",
      "Ready.\n",
      "Creating RawArray with float64 data, n_channels=6, n_times=30720\n",
      "    Range : 0 ... 30719 =      0.000 ...   119.996 secs\n",
      "Ready.\n",
      "Creating RawArray with float64 data, n_channels=6, n_times=30732\n",
      "    Range : 0 ... 30731 =      0.000 ...   120.043 secs\n",
      "Ready.\n",
      "Creating RawArray with float64 data, n_channels=6, n_times=30564\n",
      "    Range : 0 ... 30563 =      0.000 ...   119.387 secs\n",
      "Ready.\n",
      "Skipping recording_2018-05-31-16.03.39.csv (only 7 events)\n",
      "Skipping recording_2018-06-06-14.34.14.csv (only 1 events)\n",
      "Skipping recording_2018-06-06-15.06.45.csv (only 28 events)\n",
      "Skipping recording_2018-06-06-14.42.27.csv (only 1 events)\n",
      "Skipping recording_2018-06-06-14.45.33.csv (only 1 events)\n",
      "Creating RawArray with float64 data, n_channels=6, n_times=30564\n",
      "    Range : 0 ... 30563 =      0.000 ...   119.387 secs\n",
      "Ready.\n",
      "Total epochs collected: 2738\n",
      "Cross-validated accuracy: 0.58 ± 0.07\n"
     ]
    }
   ],
   "source": [
    "min_events = 50\n",
    "\n",
    "all_X = []\n",
    "all_y = []\n",
    "\n",
    "for root, dirs, files in os.walk(base_folder):\n",
    "    for file in files:\n",
    "        if file.endswith('.csv'):\n",
    "            csv_path = os.path.join(root, file)\n",
    "            df = pd.read_csv(csv_path)\n",
    "            markers = df['Marker0'].values\n",
    "            event_samples = np.where(markers != 0)[0]\n",
    "\n",
    "            if len(event_samples) < min_events:\n",
    "                print(f\"Skipping {file} (only {len(event_samples)} events)\")\n",
    "                continue\n",
    "\n",
    "            raw, _ = load_raw_from_csv(csv_path)\n",
    "            events, event_id = extract_events(df, raw)\n",
    "            # Make keys string type\n",
    "            event_id = {str(int(k)): int(k) for k in np.unique(events[:, 2])}\n",
    "\n",
    "            epochs = mne.Epochs(\n",
    "                raw.pick(['TP9', 'AF7', 'AF8', 'TP10']),\n",
    "                events,\n",
    "                event_id=event_id,\n",
    "                tmin=-0.2,\n",
    "                tmax=0.8,\n",
    "                baseline=(None, 0),\n",
    "                preload=True,\n",
    "                reject=None,\n",
    "                flat=None,\n",
    "                reject_by_annotation=False,\n",
    "                verbose=False\n",
    "            )\n",
    "            if len(epochs) == 0:\n",
    "                print(f\"No epochs after processing {file}, skipping\")\n",
    "                continue\n",
    "\n",
    "            X, y = extract_features(epochs)\n",
    "            all_X.append(X)\n",
    "            all_y.append(y)\n",
    "\n",
    "all_X = np.vstack(all_X)\n",
    "all_y = np.concatenate(all_y)\n",
    "\n",
    "print(f\"Total epochs collected: {all_X.shape[0]}\")\n",
    "\n",
    "clf = make_pipeline(StandardScaler(), SVC(kernel='rbf'))\n",
    "scores = cross_val_score(clf, all_X, all_y, cv=5)\n",
    "\n",
    "print(f\"Cross-validated accuracy: {scores.mean():.2f} ± {scores.std():.2f}\")\n"
   ]
  },
  {
   "cell_type": "code",
   "execution_count": 53,
   "id": "da669f16-a71c-446f-b96e-65fbf91ff238",
   "metadata": {},
   "outputs": [
    {
     "name": "stdout",
     "output_type": "stream",
     "text": [
      "Feature shape: (191, 16)\n"
     ]
    }
   ],
   "source": [
    "import mne\n",
    "import numpy as np\n",
    "from scipy.integrate import simpson\n",
    "\n",
    "def compute_band_power(epochs, bands=None):\n",
    "    if bands is None:\n",
    "        bands = {\n",
    "            'delta': (1, 4),\n",
    "            'theta': (4, 8),\n",
    "            'alpha': (8, 13),\n",
    "            'beta': (13, 30)\n",
    "        }\n",
    "\n",
    "    psds_obj = epochs.compute_psd(\n",
    "        method=\"welch\",  # explicitly use Welch\n",
    "        fmin=1, \n",
    "        fmax=40, \n",
    "        n_fft=256,\n",
    "        verbose=False\n",
    "        )\n",
    "    psds = psds_obj.get_data()  # shape: (n_epochs, n_channels, n_freqs)\n",
    "    freqs = psds_obj.freqs\n",
    "    \n",
    "\n",
    "    psds = 10 * np.log10(psds)  # Convert to dB\n",
    "\n",
    "    band_powers = []\n",
    "    for band, (fmin, fmax) in bands.items():\n",
    "        freq_mask = (freqs >= fmin) & (freqs <= fmax)\n",
    "        power = simpson(psds[:, :, freq_mask], freqs[freq_mask], axis=2)\n",
    "        band_powers.append(power)\n",
    "\n",
    "    features = np.concatenate(band_powers, axis=1)  # shape: (n_epochs, n_channels * bands)\n",
    "    return features\n",
    "\n",
    "# Run this after creating `epochs` for each file\n",
    "X_band = compute_band_power(epochs)\n",
    "y_band = epochs.events[:, 2]\n",
    "\n",
    "print(f\"Feature shape: {X_band.shape}\")\n"
   ]
  },
  {
   "cell_type": "code",
   "execution_count": 54,
   "id": "30872c72-35c9-450a-8130-12cc24b3190b",
   "metadata": {},
   "outputs": [
    {
     "name": "stdout",
     "output_type": "stream",
     "text": [
      "Band Power Classifier Accuracy: 0.63 ± 0.06\n"
     ]
    }
   ],
   "source": [
    "from sklearn.pipeline import make_pipeline\n",
    "from sklearn.preprocessing import StandardScaler\n",
    "from sklearn.svm import SVC\n",
    "from sklearn.model_selection import cross_val_score\n",
    "\n",
    "clf_band = make_pipeline(StandardScaler(), SVC(kernel='rbf', C=1))\n",
    "scores_band = cross_val_score(clf_band, X_band, y_band, cv=5)\n",
    "\n",
    "print(f\"Band Power Classifier Accuracy: {scores_band.mean():.2f} ± {scores_band.std():.2f}\")"
   ]
  },
  {
   "cell_type": "code",
   "execution_count": 55,
   "id": "9dc864a5-6331-4fb7-9892-00020390e2ec",
   "metadata": {},
   "outputs": [],
   "source": [
    "import matplotlib.pyplot as plt\n",
    "import seaborn as sns\n",
    "\n",
    "band_names = ['delta', 'theta', 'alpha', 'beta']\n",
    "channel_names = epochs.info['ch_names']\n",
    "n_bands = len(band_names)\n",
    "n_channels = len(channel_names)\n",
    "\n",
    "X_df = pd.DataFrame(X_band, columns=[f'{ch}_{band}' for band in band_names for ch in channel_names])\n",
    "X_df['Label'] = y_band\n",
    "\n",
    "plt.figure(figsize=(16, 8))\n",
    "for i, band in enumerate(band_names):\n",
    "    plt.subplot(2, 2, i + 1)\n",
    "    sns.boxplot(data=X_df, x='Label', y=f'AF7_{band}')\n",
    "    plt.title(f'AF7 - {band} band power per class')\n",
    "plt.tight_layout()\n",
    "plt.show()\n"
   ]
  },
  {
   "cell_type": "code",
   "execution_count": 65,
   "id": "2dabd9cd-22cf-4b8b-ae39-fdc0395a64d3",
   "metadata": {},
   "outputs": [
    {
     "name": "stdout",
     "output_type": "stream",
     "text": [
      "Filtering raw data in 1 contiguous segment\n",
      "Setting up high-pass filter at 1 Hz\n",
      "\n",
      "FIR filter parameters\n",
      "---------------------\n",
      "Designing a one-pass, zero-phase, non-causal highpass filter:\n",
      "- Windowed time-domain design (firwin) method\n",
      "- Hamming window with 0.0194 passband ripple and 53 dB stopband attenuation\n",
      "- Lower passband edge: 1.00\n",
      "- Lower transition bandwidth: 1.00 Hz (-6 dB cutoff frequency: 0.50 Hz)\n",
      "- Filter length: 845 samples (3.301 s)\n",
      "\n",
      "Fitting ICA to data using 4 channels (please be patient, this may take a while)\n",
      "Selecting by number: 4 components\n"
     ]
    },
    {
     "name": "stderr",
     "output_type": "stream",
     "text": [
      "[Parallel(n_jobs=1)]: Done   4 out of   4 | elapsed:    0.0s finished\n"
     ]
    },
    {
     "name": "stdout",
     "output_type": "stream",
     "text": [
      "Fitting ICA took 0.3s.\n",
      "Applying ICA to Raw instance\n",
      "    Transforming to ICA space (4 components)\n",
      "    Zeroing out 1 ICA component\n",
      "    Projecting back using 4 PCA components\n"
     ]
    }
   ],
   "source": [
    "ica = mne.preprocessing.ICA(n_components=4, random_state=42, max_iter='auto')\n",
    "raw.filter(l_freq=1.0, h_freq=None)\n",
    "ica.fit(raw)\n",
    "#ica.plot_components()\n",
    "ica.exclude = [0]  # you can try excluding 0, 1, etc., based on trial\n",
    "raw_clean = ica.apply(raw.copy())"
   ]
  },
  {
   "cell_type": "code",
   "execution_count": 57,
   "id": "8e3b716c-12bc-4bbc-a126-af5ae9b08573",
   "metadata": {},
   "outputs": [
    {
     "ename": "ModuleNotFoundError",
     "evalue": "No module named 'tensorflow'",
     "output_type": "error",
     "traceback": [
      "\u001b[31m-----------------------------------------------------------------------\u001b[39m",
      "\u001b[31mModuleNotFoundError\u001b[39m                   Traceback (most recent call last)",
      "\u001b[36mCell\u001b[39m\u001b[36m \u001b[39m\u001b[32mIn[57]\u001b[39m\u001b[32m, line 2\u001b[39m\n\u001b[32m      1\u001b[39m \u001b[38;5;28;01mfrom\u001b[39;00m\u001b[38;5;250m \u001b[39m\u001b[34;01msklearn\u001b[39;00m\u001b[34;01m.\u001b[39;00m\u001b[34;01mmodel_selection\u001b[39;00m\u001b[38;5;250m \u001b[39m\u001b[38;5;28;01mimport\u001b[39;00m train_test_split\n\u001b[32m----> \u001b[39m\u001b[32m2\u001b[39m \u001b[38;5;28;01mfrom\u001b[39;00m\u001b[38;5;250m \u001b[39m\u001b[34;01mtensorflow\u001b[39;00m\u001b[34;01m.\u001b[39;00m\u001b[34;01mkeras\u001b[39;00m\u001b[34;01m.\u001b[39;00m\u001b[34;01mmodels\u001b[39;00m\u001b[38;5;250m \u001b[39m\u001b[38;5;28;01mimport\u001b[39;00m Sequential\n\u001b[32m      3\u001b[39m \u001b[38;5;28;01mfrom\u001b[39;00m\u001b[38;5;250m \u001b[39m\u001b[34;01mtensorflow\u001b[39;00m\u001b[34;01m.\u001b[39;00m\u001b[34;01mkeras\u001b[39;00m\u001b[34;01m.\u001b[39;00m\u001b[34;01mlayers\u001b[39;00m\u001b[38;5;250m \u001b[39m\u001b[38;5;28;01mimport\u001b[39;00m Dense, Dropout\n\u001b[32m      4\u001b[39m \u001b[38;5;28;01mfrom\u001b[39;00m\u001b[38;5;250m \u001b[39m\u001b[34;01mtensorflow\u001b[39;00m\u001b[34;01m.\u001b[39;00m\u001b[34;01mkeras\u001b[39;00m\u001b[34;01m.\u001b[39;00m\u001b[34;01mutils\u001b[39;00m\u001b[38;5;250m \u001b[39m\u001b[38;5;28;01mimport\u001b[39;00m to_categorical\n",
      "\u001b[31mModuleNotFoundError\u001b[39m: No module named 'tensorflow'"
     ]
    }
   ],
   "source": [
    "from sklearn.model_selection import train_test_split\n",
    "from tensorflow.keras.models import Sequential\n",
    "from tensorflow.keras.layers import Dense, Dropout\n",
    "from tensorflow.keras.utils import to_categorical\n",
    "\n",
    "X_train, X_test, y_train, y_test = train_test_split(X_band, y_band, test_size=0.2, random_state=42)\n",
    "\n",
    "model = Sequential([\n",
    "    Dense(64, activation='relu', input_shape=(X_band.shape[1],)),\n",
    "    Dropout(0.3),\n",
    "    Dense(32, activation='relu'),\n",
    "    Dense(len(np.unique(y_band)), activation='softmax')\n",
    "])\n",
    "\n",
    "model.compile(optimizer='adam', loss='sparse_categorical_crossentropy', metrics=['accuracy'])\n",
    "model.fit(X_train, y_train, epochs=20, batch_size=8, validation_split=0.1)\n"
   ]
  },
  {
   "cell_type": "code",
   "execution_count": 58,
   "id": "a4e474ee-2091-4034-b54a-ef3228850130",
   "metadata": {},
   "outputs": [],
   "source": [
    "from sklearn.metrics import confusion_matrix, ConfusionMatrixDisplay\n",
    "from sklearn.model_selection import cross_val_predict\n",
    "\n",
    "y_pred = cross_val_predict(clf_band, X_band, y_band, cv=5)\n",
    "cm = confusion_matrix(y_band, y_pred)\n",
    "\n",
    "disp = ConfusionMatrixDisplay(confusion_matrix=cm)\n",
    "disp.plot()\n",
    "plt.title(\"Confusion Matrix - SVM Band Power\")\n",
    "plt.show()\n"
   ]
  },
  {
   "cell_type": "code",
   "execution_count": 60,
   "id": "3d3c7261-9ed7-4a1e-b21e-90b01666ac4a",
   "metadata": {},
   "outputs": [
    {
     "name": "stdout",
     "output_type": "stream",
     "text": [
      "3.13.4 (tags/v3.13.4:8a526ec, Jun  3 2025, 17:46:04) [MSC v.1943 64 bit (AMD64)]\n"
     ]
    }
   ],
   "source": [
    "import sys\n",
    "print(sys.version)"
   ]
  },
  {
   "cell_type": "code",
   "execution_count": 61,
   "id": "d86205dd-324c-4015-9eee-ffaa2dffd1f5",
   "metadata": {},
   "outputs": [
    {
     "name": "stdout",
     "output_type": "stream",
     "text": [
      "Connectivity features shape: (191, 6)\n"
     ]
    }
   ],
   "source": [
    "def extract_connectivity_features(epochs):\n",
    "    n_epochs = len(epochs)\n",
    "    n_channels = len(epochs.ch_names)\n",
    "\n",
    "    features = []\n",
    "    for epoch in epochs.get_data():  # shape (n_channels, n_times)\n",
    "        corr = np.corrcoef(epoch)\n",
    "        upper_tri = corr[np.triu_indices(n_channels, k=1)]\n",
    "        features.append(upper_tri)\n",
    "    \n",
    "    return np.array(features)\n",
    "\n",
    "X_conn = extract_connectivity_features(epochs)\n",
    "y_conn = epochs.events[:, 2]\n",
    "\n",
    "print(f\"Connectivity features shape: {X_conn.shape}\")\n"
   ]
  },
  {
   "cell_type": "code",
   "execution_count": 62,
   "id": "58eaa717-814d-4a0b-a02d-7daf9413c9ee",
   "metadata": {},
   "outputs": [
    {
     "name": "stdout",
     "output_type": "stream",
     "text": [
      "Functional Connectivity Accuracy: 0.57 ± 0.06\n"
     ]
    }
   ],
   "source": [
    "clf_conn = make_pipeline(StandardScaler(), SVC(kernel='rbf', C=1))\n",
    "scores_conn = cross_val_score(clf_conn, X_conn, y_conn, cv=5)\n",
    "\n",
    "print(f\"Functional Connectivity Accuracy: {scores_conn.mean():.2f} ± {scores_conn.std():.2f}\")\n"
   ]
  },
  {
   "cell_type": "code",
   "execution_count": 63,
   "id": "502ae5ea-fa42-4212-8201-356c65edbc84",
   "metadata": {},
   "outputs": [
    {
     "name": "stdout",
     "output_type": "stream",
     "text": [
      "Applying ICA to Raw instance\n",
      "    Transforming to ICA space (4 components)\n",
      "    Zeroing out 1 ICA component\n",
      "    Projecting back using 4 PCA components\n"
     ]
    }
   ],
   "source": [
    "ica.exclude = [0]  # you can try excluding 0, 1, etc., based on trial\n",
    "raw_clean = ica.apply(raw.copy())"
   ]
  },
  {
   "cell_type": "code",
   "execution_count": 66,
   "id": "66ee736c-5df9-4ffc-afe2-e2fdb4033a8f",
   "metadata": {},
   "outputs": [
    {
     "name": "stdout",
     "output_type": "stream",
     "text": [
      "Riemannian classifier accuracy: 0.48 ± 0.02\n"
     ]
    }
   ],
   "source": [
    "from pyriemann.estimation import Covariances\n",
    "from pyriemann.classification import MDM\n",
    "\n",
    "covs = Covariances().fit_transform(epochs.get_data())\n",
    "clf_riemann = MDM()\n",
    "scores_riemann = cross_val_score(clf_riemann, covs, y_band, cv=5)\n",
    "\n",
    "print(f\"Riemannian classifier accuracy: {scores_riemann.mean():.2f} ± {scores_riemann.std():.2f}\")"
   ]
  },
  {
   "cell_type": "code",
   "execution_count": 67,
   "id": "d0a1088c-1992-4c3e-99df-deb3b2b5fe60",
   "metadata": {},
   "outputs": [
    {
     "name": "stdout",
     "output_type": "stream",
     "text": [
      "Combined feature shape: (191, 38)\n"
     ]
    }
   ],
   "source": [
    "from sklearn.preprocessing import StandardScaler\n",
    "\n",
    "# Ensure everything is numpy arrays and properly shaped\n",
    "X_combined = np.concatenate([X_band, X_conn, covs.reshape(covs.shape[0], -1)], axis=1)\n",
    "X_combined = StandardScaler().fit_transform(X_combined)\n",
    "y_combined = y_band  # All feature sets use same labels\n",
    "\n",
    "print(f\"Combined feature shape: {X_combined.shape}\")\n"
   ]
  },
  {
   "cell_type": "code",
   "execution_count": 92,
   "id": "3cf50b12-d311-4c5e-b72a-f03d053272c2",
   "metadata": {},
   "outputs": [
    {
     "name": "stdout",
     "output_type": "stream",
     "text": [
      "Epoch 10/50, Loss: 0.6578\n",
      "Epoch 20/50, Loss: 0.6317\n",
      "Epoch 30/50, Loss: 0.6049\n",
      "Epoch 40/50, Loss: 0.5761\n",
      "Epoch 50/50, Loss: 0.5452\n",
      "PyTorch NN Accuracy: 0.13\n"
     ]
    }
   ],
   "source": [
    "import torch\n",
    "import torch.nn as nn\n",
    "import torch.optim as optim\n",
    "from sklearn.model_selection import train_test_split\n",
    "from sklearn.metrics import accuracy_score\n",
    "\n",
    "# Split data\n",
    "X_train, X_test, y_train, y_test = train_test_split(X_combined, y_combined, test_size=0.2, random_state=42)\n",
    "\n",
    "# Convert to PyTorch tensors\n",
    "X_train_tensor = torch.tensor(X_train, dtype=torch.float32)\n",
    "X_test_tensor = torch.tensor(X_test, dtype=torch.float32)\n",
    "y_train_tensor = torch.tensor(y_train, dtype=torch.long)\n",
    "y_train_tensor = y_train_tensor - 1  # shift labels down by 1\n",
    "y_test_tensor = torch.tensor(y_test, dtype=torch.long)\n",
    "\n",
    "# Define model\n",
    "class EEGNet(nn.Module):\n",
    "    def __init__(self, input_dim, hidden_dim, output_dim):\n",
    "        super(EEGNet, self).__init__()\n",
    "        self.net = nn.Sequential(\n",
    "            nn.Linear(input_dim, hidden_dim),\n",
    "            nn.ReLU(),\n",
    "            nn.Dropout(0.3),\n",
    "            nn.Linear(hidden_dim, output_dim)\n",
    "        )\n",
    "\n",
    "    def forward(self, x):\n",
    "        return self.net(x)\n",
    "\n",
    "model = EEGNet(input_dim=X_combined.shape[1], hidden_dim=64, output_dim=len(np.unique(y_combined)))\n",
    "\n",
    "# Training setup\n",
    "criterion = nn.CrossEntropyLoss()\n",
    "optimizer = optim.Adam(model.parameters(), lr=0.001)\n",
    "epochs = 50\n",
    "\n",
    "# Training loop\n",
    "for epoch in range(epochs):\n",
    "    model.train()\n",
    "    outputs = model(X_train_tensor)\n",
    "    loss = criterion(outputs, y_train_tensor)\n",
    "    \n",
    "    optimizer.zero_grad()\n",
    "    loss.backward()\n",
    "    optimizer.step()\n",
    "\n",
    "    if (epoch + 1) % 10 == 0:\n",
    "        print(f\"Epoch {epoch+1}/{epochs}, Loss: {loss.item():.4f}\")\n",
    "\n",
    "# Evaluation\n",
    "model.eval()\n",
    "with torch.no_grad():\n",
    "    preds = model(X_test_tensor).argmax(dim=1).numpy()\n",
    "    acc = accuracy_score(y_test, preds)\n",
    "    print(f\"PyTorch NN Accuracy: {acc:.2f}\")\n"
   ]
  },
  {
   "cell_type": "code",
   "execution_count": 91,
   "id": "4ffde06e-3651-49d7-82a8-d0f6a28a63ad",
   "metadata": {},
   "outputs": [
    {
     "name": "stdout",
     "output_type": "stream",
     "text": [
      "tensor([1, 2])\n"
     ]
    }
   ],
   "source": [
    "print(torch.unique(y_train_tensor))"
   ]
  },
  {
   "cell_type": "code",
   "execution_count": 98,
   "id": "f814c0ea-8c1d-42b5-aa49-1d5aa3d70312",
   "metadata": {},
   "outputs": [
    {
     "name": "stdout",
     "output_type": "stream",
     "text": [
      "tensor([  7, 145])\n"
     ]
    }
   ],
   "source": [
    "with torch.no_grad():\n",
    "    outputs = model(X_train_tensor)\n",
    "    _, preds = torch.max(outputs, 1)\n",
    "    print(torch.bincount(preds))\n"
   ]
  },
  {
   "cell_type": "code",
   "execution_count": 99,
   "id": "3298d880-5af1-48b7-aaea-b0fde44da943",
   "metadata": {},
   "outputs": [],
   "source": [
    "from torch.nn import CrossEntropyLoss\n",
    "\n",
    "# Calculate class weights inversely proportional to their frequency\n",
    "class_counts = torch.bincount(y_train_tensor)\n",
    "class_weights = 1. / class_counts.float()\n",
    "loss_fn = CrossEntropyLoss(weight=class_weights)\n"
   ]
  },
  {
   "cell_type": "code",
   "execution_count": 100,
   "id": "31dcb01d-0b2e-4e82-a6f0-1a378ffc3a4f",
   "metadata": {},
   "outputs": [],
   "source": [
    "import numpy as np\n",
    "from sklearn.utils import resample\n",
    "\n",
    "# Convert tensors to numpy for resampling\n",
    "X_np = X_train_tensor.numpy()\n",
    "y_np = y_train_tensor.numpy()\n",
    "\n",
    "# Separate classes\n",
    "X_class0 = X_np[y_np == 0]\n",
    "X_class1 = X_np[y_np == 1]\n",
    "\n",
    "n_samples = min(len(X_class0), len(X_class1))\n",
    "\n",
    "# Downsample both to same size\n",
    "X_class0_bal = resample(X_class0, n_samples=n_samples, replace=False, random_state=42)\n",
    "X_class1_bal = resample(X_class1, n_samples=n_samples, replace=False, random_state=42)\n",
    "\n",
    "y_class0_bal = np.zeros(n_samples, dtype=np.int64)\n",
    "y_class1_bal = np.ones(n_samples, dtype=np.int64)\n",
    "\n",
    "# Combine balanced data\n",
    "X_bal = np.vstack((X_class0_bal, X_class1_bal))\n",
    "y_bal = np.concatenate((y_class0_bal, y_class1_bal))\n",
    "\n",
    "# Shuffle\n",
    "idx = np.random.permutation(len(y_bal))\n",
    "X_bal = X_bal[idx]\n",
    "y_bal = y_bal[idx]\n",
    "\n",
    "# Convert back to tensors\n",
    "X_train_tensor = torch.tensor(X_bal, dtype=torch.float32)\n",
    "y_train_tensor = torch.tensor(y_bal, dtype=torch.long)\n"
   ]
  },
  {
   "cell_type": "code",
   "execution_count": 101,
   "id": "87a4a4ee-076f-44d8-b96a-50a9039ce832",
   "metadata": {},
   "outputs": [],
   "source": [
    "from torch.nn import CrossEntropyLoss\n",
    "\n",
    "class_counts = torch.bincount(y_train_tensor)\n",
    "class_weights = 1. / class_counts.float()\n",
    "loss_fn = CrossEntropyLoss(weight=class_weights)"
   ]
  },
  {
   "cell_type": "code",
   "execution_count": 102,
   "id": "f4d13c08-18b1-4d36-b9ca-49ae7fdce98a",
   "metadata": {},
   "outputs": [
    {
     "name": "stdout",
     "output_type": "stream",
     "text": [
      "Epoch 10/50, Loss: 0.6833\n",
      "Epoch 20/50, Loss: 0.6651\n",
      "Epoch 30/50, Loss: 0.6382\n",
      "Epoch 40/50, Loss: 0.6233\n",
      "Epoch 50/50, Loss: 0.5972\n"
     ]
    }
   ],
   "source": [
    "from torch import nn, optim\n",
    "\n",
    "# Define model\n",
    "model = nn.Sequential(\n",
    "    nn.Linear(X_train_tensor.shape[1], 32),\n",
    "    nn.ReLU(),\n",
    "    nn.Dropout(0.3),\n",
    "    nn.Linear(32, 2)\n",
    ")\n",
    "\n",
    "optimizer = optim.Adam(model.parameters(), lr=0.001)\n",
    "\n",
    "# Training loop\n",
    "for epoch in range(50):\n",
    "    model.train()\n",
    "    outputs = model(X_train_tensor)\n",
    "    loss = loss_fn(outputs, y_train_tensor)  # <== use weighted loss\n",
    "    optimizer.zero_grad()\n",
    "    loss.backward()\n",
    "    optimizer.step()\n",
    "\n",
    "    if (epoch + 1) % 10 == 0:\n",
    "        print(f\"Epoch {epoch+1}/50, Loss: {loss.item():.4f}\")\n"
   ]
  },
  {
   "cell_type": "code",
   "execution_count": 103,
   "id": "371ec11b-a1a1-4982-98c4-857cff7064ff",
   "metadata": {},
   "outputs": [
    {
     "name": "stdout",
     "output_type": "stream",
     "text": [
      "Balanced PyTorch NN Accuracy: 0.74\n",
      "Predicted class distribution: tensor([65, 81])\n"
     ]
    }
   ],
   "source": [
    "model.eval()\n",
    "with torch.no_grad():\n",
    "    outputs = model(X_train_tensor)\n",
    "    _, preds = torch.max(outputs, 1)\n",
    "    acc = (preds == y_train_tensor).float().mean()\n",
    "    print(f\"Balanced PyTorch NN Accuracy: {acc:.2f}\")\n",
    "    print(\"Predicted class distribution:\", torch.bincount(preds))\n"
   ]
  },
  {
   "cell_type": "code",
   "execution_count": 104,
   "id": "5c98926e-6778-44e7-92d4-e1992e3074d5",
   "metadata": {},
   "outputs": [],
   "source": [
    "import matplotlib.pyplot as plt\n",
    "from sklearn.metrics import confusion_matrix, ConfusionMatrixDisplay\n",
    "\n",
    "cm = confusion_matrix(y_train_tensor, preds)\n",
    "disp = ConfusionMatrixDisplay(confusion_matrix=cm, display_labels=[0, 1])\n",
    "disp.plot(cmap='Blues')\n",
    "plt.title(\"Confusion Matrix (Training Data)\")\n",
    "plt.grid(False)\n",
    "plt.show()\n"
   ]
  },
  {
   "cell_type": "code",
   "execution_count": 105,
   "id": "efd829af-e87a-435d-b3d5-5e5ae0a2419f",
   "metadata": {},
   "outputs": [],
   "source": [
    "from sklearn.model_selection import train_test_split\n",
    "\n",
    "X_train, X_val, y_train, y_val = train_test_split(X_bal, y_bal, test_size=0.2, random_state=42)\n",
    "\n",
    "X_train_tensor = torch.tensor(X_train, dtype=torch.float32)\n",
    "y_train_tensor = torch.tensor(y_train, dtype=torch.long)\n",
    "X_val_tensor = torch.tensor(X_val, dtype=torch.float32)\n",
    "y_val_tensor = torch.tensor(y_val, dtype=torch.long)"
   ]
  },
  {
   "cell_type": "code",
   "execution_count": 106,
   "id": "66b2c4d6-a8c0-41b4-91cb-844ec74003f4",
   "metadata": {},
   "outputs": [
    {
     "name": "stdout",
     "output_type": "stream",
     "text": [
      "Validation Accuracy: 0.73\n"
     ]
    }
   ],
   "source": [
    "model.eval()\n",
    "with torch.no_grad():\n",
    "    outputs = model(X_val_tensor)\n",
    "    _, preds_val = torch.max(outputs, 1)\n",
    "    acc = (preds_val == y_val_tensor).float().mean()\n",
    "    print(f\"Validation Accuracy: {acc:.2f}\")\n"
   ]
  },
  {
   "cell_type": "code",
   "execution_count": 111,
   "id": "ba869fd4-90b5-4e2e-9ba8-2770f5233372",
   "metadata": {},
   "outputs": [
    {
     "data": {
      "text/plain": [
       "(True, True)"
      ]
     },
     "execution_count": 111,
     "metadata": {},
     "output_type": "execute_result"
    }
   ],
   "source": [
    "# Check if variables exist\n",
    "'y_pred' in globals(), 'y_true' in globals()"
   ]
  },
  {
   "cell_type": "code",
   "execution_count": 112,
   "id": "77a6f755-c395-4e21-9bd2-d6bee583bf14",
   "metadata": {},
   "outputs": [
    {
     "name": "stdout",
     "output_type": "stream",
     "text": [
      "Predictions: [2 2 2 2 2 1 2 2 1 1]\n",
      "Ground Truths: [0 0 1 0 0 0 1 1 1 0]\n",
      "Shapes: (191,) (30,)\n"
     ]
    }
   ],
   "source": [
    "print(\"Predictions:\", y_pred[:10])\n",
    "print(\"Ground Truths:\", y_true[:10])\n",
    "print(\"Shapes:\", y_pred.shape, y_true.shape)"
   ]
  },
  {
   "cell_type": "code",
   "execution_count": null,
   "id": "ffd10eff-1d16-4cfa-90df-856700fe50d2",
   "metadata": {},
   "outputs": [],
   "source": [
    "This is a very important observation:\n",
    "\n",
    "❌ Mismatch Detected:\n",
    "y_pred.shape = (191,)\n",
    "\n",
    "y_true.shape = (30,)\n",
    "\n",
    "That means the predictions cover 191 samples, but the current ground truth only covers 30 samples.\n",
    "\n",
    "🔍 What happened?\n",
    "We likely trained on all 191 samples, but only used 30 samples for validation, and then used the model to predict on all 191 instead of just the 30 validation ones.\n",
    "\n",
    "✅ Fix:\n",
    "We need to re-run the model on the validation set only, and compare with the corresponding labels."
   ]
  },
  {
   "cell_type": "code",
   "execution_count": 113,
   "id": "33220217-b3cd-4e3c-9ca5-4caed2b60ed8",
   "metadata": {},
   "outputs": [],
   "source": [
    "# These should already be defined\n",
    "# If not, recreate them from train_test_split\n",
    "X_val_tensor = torch.tensor(X_val, dtype=torch.float32)\n",
    "y_val_tensor = torch.tensor(y_val, dtype=torch.long)\n"
   ]
  },
  {
   "cell_type": "code",
   "execution_count": 114,
   "id": "6bb476f4-3d3b-456d-bec3-34ba519279bf",
   "metadata": {},
   "outputs": [],
   "source": [
    "# Evaluate model on validation set only\n",
    "model.eval()\n",
    "with torch.no_grad():\n",
    "    outputs = model(X_val_tensor)\n",
    "    _, y_pred = torch.max(outputs, 1)\n",
    "\n",
    "# Convert to NumPy\n",
    "y_pred = y_pred.numpy()\n",
    "y_true = y_val_tensor.numpy()"
   ]
  },
  {
   "cell_type": "code",
   "execution_count": 115,
   "id": "5c50d566-c5a1-46d6-ba44-edadfc532b49",
   "metadata": {},
   "outputs": [
    {
     "name": "stdout",
     "output_type": "stream",
     "text": [
      "Predictions: [1 0 1 0 0 1 1 1 0 0]\n",
      "Ground Truths: [0 0 1 0 0 0 1 1 1 0]\n",
      "Shapes: (30,) (30,)\n"
     ]
    }
   ],
   "source": [
    "print(\"Predictions:\", y_pred[:10])\n",
    "print(\"Ground Truths:\", y_true[:10])\n",
    "print(\"Shapes:\", y_pred.shape, y_true.shape)"
   ]
  },
  {
   "cell_type": "code",
   "execution_count": 116,
   "id": "a81fcd74-ee47-4619-ab49-3adae46ffe39",
   "metadata": {},
   "outputs": [],
   "source": [
    "from sklearn.metrics import classification_report, confusion_matrix, ConfusionMatrixDisplay, roc_curve, auc\n",
    "import matplotlib.pyplot as plt\n",
    "import seaborn as sns\n",
    "import numpy as np"
   ]
  },
  {
   "cell_type": "code",
   "execution_count": 117,
   "id": "52c1cbdd-d97e-48fe-ae55-940ebe53c728",
   "metadata": {},
   "outputs": [
    {
     "name": "stdout",
     "output_type": "stream",
     "text": [
      "Classification Report:\n",
      "\n",
      "              precision    recall  f1-score   support\n",
      "\n",
      "           0       0.83      0.62      0.71        16\n",
      "           1       0.67      0.86      0.75        14\n",
      "\n",
      "    accuracy                           0.73        30\n",
      "   macro avg       0.75      0.74      0.73        30\n",
      "weighted avg       0.76      0.73      0.73        30\n",
      "\n"
     ]
    }
   ],
   "source": [
    "# Print precision, recall, F1, support\n",
    "print(\"Classification Report:\\n\")\n",
    "print(classification_report(y_true, y_pred))"
   ]
  },
  {
   "cell_type": "code",
   "execution_count": 118,
   "id": "e43f89bf-3a02-4db6-9b00-272873153815",
   "metadata": {},
   "outputs": [],
   "source": [
    "# Create and display confusion matrix\n",
    "cm = confusion_matrix(y_true, y_pred)\n",
    "disp = ConfusionMatrixDisplay(confusion_matrix=cm)\n",
    "disp.plot(cmap='Blues')\n",
    "plt.title(\"Confusion Matrix\")\n",
    "plt.show()\n"
   ]
  },
  {
   "cell_type": "code",
   "execution_count": 119,
   "id": "9014f73f-cf23-4ddd-90c5-d1b42e741480",
   "metadata": {},
   "outputs": [],
   "source": [
    "# Get probability scores (use softmax or sigmoid depending on final layer)\n",
    "model.eval()\n",
    "with torch.no_grad():\n",
    "    probs = model(X_val_tensor)\n",
    "    probs = torch.softmax(probs, dim=1)[:, 1]  # Probability of class 1\n",
    "\n",
    "# Convert to NumPy\n",
    "probs = probs.numpy()\n"
   ]
  },
  {
   "cell_type": "code",
   "execution_count": 120,
   "id": "a499e805-bf35-4795-9149-1f8e9248bd26",
   "metadata": {},
   "outputs": [],
   "source": [
    "# Compute ROC curve\n",
    "fpr, tpr, thresholds = roc_curve(y_true, probs)\n",
    "roc_auc = auc(fpr, tpr)\n",
    "\n",
    "# Plot ROC\n",
    "plt.figure()\n",
    "plt.plot(fpr, tpr, color='darkorange', lw=2, label=f'ROC curve (AUC = {roc_auc:.2f})')\n",
    "plt.plot([0, 1], [0, 1], color='navy', lw=2, linestyle='--')\n",
    "plt.xlabel('False Positive Rate')\n",
    "plt.ylabel('True Positive Rate')\n",
    "plt.title('Receiver Operating Characteristic')\n",
    "plt.legend(loc=\"lower right\")\n",
    "plt.grid(True)\n",
    "plt.show()\n"
   ]
  },
  {
   "cell_type": "code",
   "execution_count": 121,
   "id": "10ef1bec-8696-4bed-accf-c13fcbe553a5",
   "metadata": {},
   "outputs": [
    {
     "name": "stdout",
     "output_type": "stream",
     "text": [
      "AUC Score: 0.8571\n"
     ]
    }
   ],
   "source": [
    "from sklearn.metrics import roc_auc_score\n",
    "\n",
    "# Assuming `probs` are already computed as the probability of class 1:\n",
    "# probs = torch.softmax(model(X_val_tensor), dim=1)[:, 1].numpy()\n",
    "\n",
    "auc_score = roc_auc_score(y_true, probs)\n",
    "print(f\"AUC Score: {auc_score:.4f}\")\n"
   ]
  },
  {
   "cell_type": "code",
   "execution_count": 123,
   "id": "ff62a471-b0d8-4fc6-b6fd-043feb6729e0",
   "metadata": {},
   "outputs": [],
   "source": [
    "# With an AUC of 0.8571, our model demonstrates strong class separability, which means it is making meaningful predictions and not just guessing. "
   ]
  },
  {
   "cell_type": "code",
   "execution_count": 122,
   "id": "b88b26e6-b0d0-46e9-b501-380a59b30ead",
   "metadata": {},
   "outputs": [
    {
     "name": "stdout",
     "output_type": "stream",
     "text": [
      "Confusion Matrix:\n",
      " [[10  6]\n",
      " [ 2 12]]\n",
      "True Negatives: 10\n",
      "False Positives: 6\n",
      "False Negatives: 2\n",
      "True Positives: 12\n"
     ]
    }
   ],
   "source": [
    "from sklearn.metrics import confusion_matrix\n",
    "\n",
    "cm = confusion_matrix(y_true, y_pred)\n",
    "print(\"Confusion Matrix:\\n\", cm)\n",
    "\n",
    "# Optional: Access individual values\n",
    "tn, fp, fn, tp = cm.ravel()\n",
    "print(f\"True Negatives: {tn}\")\n",
    "print(f\"False Positives: {fp}\")\n",
    "print(f\"False Negatives: {fn}\")\n",
    "print(f\"True Positives: {tp}\")\n"
   ]
  },
  {
   "cell_type": "code",
   "execution_count": null,
   "id": "c19ad079-6bfe-4f4c-a2e8-e130c748853e",
   "metadata": {},
   "outputs": [],
   "source": []
  },
  {
   "cell_type": "code",
   "execution_count": null,
   "id": "435446b1-42ee-4739-9b5b-f83239d2f25c",
   "metadata": {},
   "outputs": [],
   "source": []
  },
  {
   "cell_type": "code",
   "execution_count": 110,
   "id": "f79fafd8-fa33-4e40-ad1d-ae738716827f",
   "metadata": {},
   "outputs": [],
   "source": [
    "# Convert ground truth from torch tensor to NumPy\n",
    "y_true = y_val_tensor.numpy()\n"
   ]
  },
  {
   "cell_type": "code",
   "execution_count": null,
   "id": "07fb685f-a154-4b06-af71-63edcdf914ea",
   "metadata": {},
   "outputs": [],
   "source": []
  },
  {
   "cell_type": "code",
   "execution_count": 93,
   "id": "fa27be25-5e25-4e16-891d-23678b6a7847",
   "metadata": {},
   "outputs": [
    {
     "name": "stdout",
     "output_type": "stream",
     "text": [
      "Class 1: 89 samples\n",
      "Class 2: 102 samples\n"
     ]
    }
   ],
   "source": [
    "import numpy as np\n",
    "unique, counts = np.unique(y_combined, return_counts=True)\n",
    "for label, count in zip(unique, counts):\n",
    "    print(f\"Class {label}: {count} samples\")\n"
   ]
  },
  {
   "cell_type": "code",
   "execution_count": 128,
   "id": "1e645109-b246-4fda-a31c-8053ca9997ee",
   "metadata": {},
   "outputs": [
    {
     "name": "stdout",
     "output_type": "stream",
     "text": [
      "Effective window size : 8.000 (s)\n",
      "[2.81838255 0.4888809  0.44526737 2.44083724]\n"
     ]
    }
   ],
   "source": [
    "import mne\n",
    "import numpy as np\n",
    "import matplotlib.pyplot as plt\n",
    "\n",
    "# Suppose 'raw' is your MNE Raw object with Muse data\n",
    "# Define channel names\n",
    "ch_names = ['TP9', 'AF7', 'AF8', 'TP10']\n",
    "\n",
    "# Define approximate 3D positions, z=0 for 2D scalp map\n",
    "montage_positions = {\n",
    "    'TP9': [-0.05, -0.05, 0.0],\n",
    "    'AF7': [-0.03,  0.05, 0.0],\n",
    "    'AF8': [ 0.03,  0.05, 0.0],\n",
    "    'TP10':[ 0.05, -0.05, 0.0]\n",
    "}\n",
    "\n",
    "# Create DigMontage object\n",
    "montage = mne.channels.make_dig_montage(ch_pos=montage_positions, coord_frame='head')\n",
    "\n",
    "# Assign montage to your raw object (example: raw)\n",
    "raw.set_montage(montage)\n",
    "\n",
    "# Compute PSD in alpha band 8-12 Hz\n",
    "\n",
    "# Pick channels of interest\n",
    "picks = mne.pick_channels(raw.info[\"ch_names\"], include=ch_names)\n",
    "\n",
    "# Compute PSD with compute_psd()\n",
    "psds = raw.compute_psd(picks=picks, fmin=8, fmax=12).get_data()\n",
    "\n",
    "# Average power per channel\n",
    "band_power = psds.mean(axis=1)\n",
    "\n",
    "print(band_power)"
   ]
  },
  {
   "cell_type": "code",
   "execution_count": 130,
   "id": "03d71589-cc2a-4847-9110-1c56750e064b",
   "metadata": {},
   "outputs": [],
   "source": [
    "import numpy as np\n",
    "import matplotlib.pyplot as plt\n",
    "import mne\n",
    "\n",
    "# Your channels and their approximate 2D positions on the head (x, y)\n",
    "ch_names = ['TP9', 'AF7', 'AF8', 'TP10']\n",
    "\n",
    "# Define 2D positions (in meters) for the 4 channels (example positions)\n",
    "pos_2d = np.array([\n",
    "    [-0.05, -0.05],  # TP9\n",
    "    [-0.03,  0.05],  # AF7\n",
    "    [ 0.03,  0.05],  # AF8\n",
    "    [ 0.05, -0.05],  # TP10\n",
    "])\n",
    "\n",
    "# Add a tiny jitter (noise) to each coordinate to avoid co-circular error\n",
    "jitter = 1e-5 * np.random.randn(*pos_2d.shape)\n",
    "pos_2d_jiggled = pos_2d + jitter\n",
    "\n",
    "# band_power should be your computed band power array corresponding to ch_names\n",
    "mne.viz.plot_topomap(band_power, pos_2d_jiggled, names=ch_names, show=True)\n",
    "plt.title(\"Alpha Band Power Topomap (jittered positions)\")\n",
    "plt.show()\n",
    "\n"
   ]
  },
  {
   "cell_type": "code",
   "execution_count": null,
   "id": "f3fc9286-7cae-48fd-8c92-d2763577c45f",
   "metadata": {},
   "outputs": [],
   "source": []
  },
  {
   "cell_type": "code",
   "execution_count": 74,
   "id": "7b9e8752-06ec-4d38-a61c-fcaf45e7858a",
   "metadata": {},
   "outputs": [
    {
     "name": "stdout",
     "output_type": "stream",
     "text": [
      "1.9.0\n"
     ]
    }
   ],
   "source": [
    "import mne\n",
    "print(mne.__version__)"
   ]
  },
  {
   "cell_type": "code",
   "execution_count": null,
   "id": "0f70996f-ea5a-4b40-8235-4f1d379f2009",
   "metadata": {},
   "outputs": [],
   "source": []
  },
  {
   "cell_type": "code",
   "execution_count": 132,
   "id": "af43334d-3587-40c8-8089-7cb11133559e",
   "metadata": {},
   "outputs": [
    {
     "ename": "NotFittedError",
     "evalue": "Pipeline is not fitted yet.",
     "output_type": "error",
     "traceback": [
      "\u001b[31m-----------------------------------------------------------------------\u001b[39m",
      "\u001b[31mNotFittedError\u001b[39m                        Traceback (most recent call last)",
      "\u001b[36mFile \u001b[39m\u001b[32m~\\EEG-ExPy\\venv\\Lib\\site-packages\\sklearn\\pipeline.py:53\u001b[39m, in \u001b[36m_raise_or_warn_if_not_fitted\u001b[39m\u001b[34m(estimator)\u001b[39m\n\u001b[32m     52\u001b[39m \u001b[38;5;28;01mtry\u001b[39;00m:\n\u001b[32m---> \u001b[39m\u001b[32m53\u001b[39m     \u001b[38;5;28;01myield\u001b[39;00m\n\u001b[32m     54\u001b[39m \u001b[38;5;28;01mexcept\u001b[39;00m NotFittedError \u001b[38;5;28;01mas\u001b[39;00m exc:\n",
      "\u001b[36mFile \u001b[39m\u001b[32m~\\EEG-ExPy\\venv\\Lib\\site-packages\\sklearn\\pipeline.py:1183\u001b[39m, in \u001b[36mPipeline.score\u001b[39m\u001b[34m(self, X, y, sample_weight, **params)\u001b[39m\n\u001b[32m   1182\u001b[39m \u001b[38;5;28;01mfor\u001b[39;00m _, name, transform \u001b[38;5;129;01min\u001b[39;00m \u001b[38;5;28mself\u001b[39m._iter(with_final=\u001b[38;5;28;01mFalse\u001b[39;00m):\n\u001b[32m-> \u001b[39m\u001b[32m1183\u001b[39m     Xt = \u001b[43mtransform\u001b[49m\u001b[43m.\u001b[49m\u001b[43mtransform\u001b[49m\u001b[43m(\u001b[49m\u001b[43mXt\u001b[49m\u001b[43m)\u001b[49m\n\u001b[32m   1184\u001b[39m score_params = {}\n",
      "\u001b[36mFile \u001b[39m\u001b[32m~\\EEG-ExPy\\venv\\Lib\\site-packages\\sklearn\\utils\\_set_output.py:316\u001b[39m, in \u001b[36m_wrap_method_output.<locals>.wrapped\u001b[39m\u001b[34m(self, X, *args, **kwargs)\u001b[39m\n\u001b[32m    314\u001b[39m \u001b[38;5;129m@wraps\u001b[39m(f)\n\u001b[32m    315\u001b[39m \u001b[38;5;28;01mdef\u001b[39;00m\u001b[38;5;250m \u001b[39m\u001b[34mwrapped\u001b[39m(\u001b[38;5;28mself\u001b[39m, X, *args, **kwargs):\n\u001b[32m--> \u001b[39m\u001b[32m316\u001b[39m     data_to_wrap = \u001b[43mf\u001b[49m\u001b[43m(\u001b[49m\u001b[38;5;28;43mself\u001b[39;49m\u001b[43m,\u001b[49m\u001b[43m \u001b[49m\u001b[43mX\u001b[49m\u001b[43m,\u001b[49m\u001b[43m \u001b[49m\u001b[43m*\u001b[49m\u001b[43margs\u001b[49m\u001b[43m,\u001b[49m\u001b[43m \u001b[49m\u001b[43m*\u001b[49m\u001b[43m*\u001b[49m\u001b[43mkwargs\u001b[49m\u001b[43m)\u001b[49m\n\u001b[32m    317\u001b[39m     \u001b[38;5;28;01mif\u001b[39;00m \u001b[38;5;28misinstance\u001b[39m(data_to_wrap, \u001b[38;5;28mtuple\u001b[39m):\n\u001b[32m    318\u001b[39m         \u001b[38;5;66;03m# only wrap the first output for cross decomposition\u001b[39;00m\n",
      "\u001b[36mFile \u001b[39m\u001b[32m~\\EEG-ExPy\\venv\\Lib\\site-packages\\sklearn\\preprocessing\\_data.py:1072\u001b[39m, in \u001b[36mStandardScaler.transform\u001b[39m\u001b[34m(self, X, copy)\u001b[39m\n\u001b[32m   1058\u001b[39m \u001b[38;5;250m\u001b[39m\u001b[33;03m\"\"\"Perform standardization by centering and scaling.\u001b[39;00m\n\u001b[32m   1059\u001b[39m \n\u001b[32m   1060\u001b[39m \u001b[33;03mParameters\u001b[39;00m\n\u001b[32m   (...)\u001b[39m\u001b[32m   1070\u001b[39m \u001b[33;03m    Transformed array.\u001b[39;00m\n\u001b[32m   1071\u001b[39m \u001b[33;03m\"\"\"\u001b[39;00m\n\u001b[32m-> \u001b[39m\u001b[32m1072\u001b[39m \u001b[43mcheck_is_fitted\u001b[49m\u001b[43m(\u001b[49m\u001b[38;5;28;43mself\u001b[39;49m\u001b[43m)\u001b[49m\n\u001b[32m   1074\u001b[39m copy = copy \u001b[38;5;28;01mif\u001b[39;00m copy \u001b[38;5;129;01mis\u001b[39;00m \u001b[38;5;129;01mnot\u001b[39;00m \u001b[38;5;28;01mNone\u001b[39;00m \u001b[38;5;28;01melse\u001b[39;00m \u001b[38;5;28mself\u001b[39m.copy\n",
      "\u001b[36mFile \u001b[39m\u001b[32m~\\EEG-ExPy\\venv\\Lib\\site-packages\\sklearn\\utils\\validation.py:1754\u001b[39m, in \u001b[36mcheck_is_fitted\u001b[39m\u001b[34m(estimator, attributes, msg, all_or_any)\u001b[39m\n\u001b[32m   1753\u001b[39m \u001b[38;5;28;01mif\u001b[39;00m \u001b[38;5;129;01mnot\u001b[39;00m _is_fitted(estimator, attributes, all_or_any):\n\u001b[32m-> \u001b[39m\u001b[32m1754\u001b[39m     \u001b[38;5;28;01mraise\u001b[39;00m NotFittedError(msg % {\u001b[33m\"\u001b[39m\u001b[33mname\u001b[39m\u001b[33m\"\u001b[39m: \u001b[38;5;28mtype\u001b[39m(estimator).\u001b[34m__name__\u001b[39m})\n",
      "\u001b[31mNotFittedError\u001b[39m: This StandardScaler instance is not fitted yet. Call 'fit' with appropriate arguments before using this estimator.",
      "\nThe above exception was the direct cause of the following exception:\n",
      "\u001b[31mNotFittedError\u001b[39m                        Traceback (most recent call last)",
      "\u001b[36mCell\u001b[39m\u001b[36m \u001b[39m\u001b[32mIn[132]\u001b[39m\u001b[32m, line 4\u001b[39m\n\u001b[32m      1\u001b[39m \u001b[38;5;28;01mfrom\u001b[39;00m\u001b[38;5;250m \u001b[39m\u001b[34;01msklearn\u001b[39;00m\u001b[34;01m.\u001b[39;00m\u001b[34;01minspection\u001b[39;00m\u001b[38;5;250m \u001b[39m\u001b[38;5;28;01mimport\u001b[39;00m permutation_importance\n\u001b[32m      3\u001b[39m \u001b[38;5;66;03m# Assuming clf is your trained sklearn pipeline (SVM or similar)\u001b[39;00m\n\u001b[32m----> \u001b[39m\u001b[32m4\u001b[39m result = \u001b[43mpermutation_importance\u001b[49m\u001b[43m(\u001b[49m\u001b[43mclf\u001b[49m\u001b[43m,\u001b[49m\u001b[43m \u001b[49m\u001b[43mX_test\u001b[49m\u001b[43m,\u001b[49m\u001b[43m \u001b[49m\u001b[43my_test\u001b[49m\u001b[43m,\u001b[49m\u001b[43m \u001b[49m\u001b[43mn_repeats\u001b[49m\u001b[43m=\u001b[49m\u001b[32;43m10\u001b[39;49m\u001b[43m,\u001b[49m\u001b[43m \u001b[49m\u001b[43mrandom_state\u001b[49m\u001b[43m=\u001b[49m\u001b[32;43m42\u001b[39;49m\u001b[43m,\u001b[49m\u001b[43m \u001b[49m\u001b[43mn_jobs\u001b[49m\u001b[43m=\u001b[49m\u001b[43m-\u001b[49m\u001b[32;43m1\u001b[39;49m\u001b[43m)\u001b[49m\n\u001b[32m      6\u001b[39m importances = result.importances_mean\n\u001b[32m      7\u001b[39m \u001b[38;5;28;01mfor\u001b[39;00m i, imp \u001b[38;5;129;01min\u001b[39;00m \u001b[38;5;28menumerate\u001b[39m(importances):\n",
      "\u001b[36mFile \u001b[39m\u001b[32m~\\EEG-ExPy\\venv\\Lib\\site-packages\\sklearn\\utils\\_param_validation.py:218\u001b[39m, in \u001b[36mvalidate_params.<locals>.decorator.<locals>.wrapper\u001b[39m\u001b[34m(*args, **kwargs)\u001b[39m\n\u001b[32m    212\u001b[39m \u001b[38;5;28;01mtry\u001b[39;00m:\n\u001b[32m    213\u001b[39m     \u001b[38;5;28;01mwith\u001b[39;00m config_context(\n\u001b[32m    214\u001b[39m         skip_parameter_validation=(\n\u001b[32m    215\u001b[39m             prefer_skip_nested_validation \u001b[38;5;129;01mor\u001b[39;00m global_skip_validation\n\u001b[32m    216\u001b[39m         )\n\u001b[32m    217\u001b[39m     ):\n\u001b[32m--> \u001b[39m\u001b[32m218\u001b[39m         \u001b[38;5;28;01mreturn\u001b[39;00m \u001b[43mfunc\u001b[49m\u001b[43m(\u001b[49m\u001b[43m*\u001b[49m\u001b[43margs\u001b[49m\u001b[43m,\u001b[49m\u001b[43m \u001b[49m\u001b[43m*\u001b[49m\u001b[43m*\u001b[49m\u001b[43mkwargs\u001b[49m\u001b[43m)\u001b[49m\n\u001b[32m    219\u001b[39m \u001b[38;5;28;01mexcept\u001b[39;00m InvalidParameterError \u001b[38;5;28;01mas\u001b[39;00m e:\n\u001b[32m    220\u001b[39m     \u001b[38;5;66;03m# When the function is just a wrapper around an estimator, we allow\u001b[39;00m\n\u001b[32m    221\u001b[39m     \u001b[38;5;66;03m# the function to delegate validation to the estimator, but we replace\u001b[39;00m\n\u001b[32m    222\u001b[39m     \u001b[38;5;66;03m# the name of the estimator by the name of the function in the error\u001b[39;00m\n\u001b[32m    223\u001b[39m     \u001b[38;5;66;03m# message to avoid confusion.\u001b[39;00m\n\u001b[32m    224\u001b[39m     msg = re.sub(\n\u001b[32m    225\u001b[39m         \u001b[33mr\u001b[39m\u001b[33m\"\u001b[39m\u001b[33mparameter of \u001b[39m\u001b[33m\\\u001b[39m\u001b[33mw+ must be\u001b[39m\u001b[33m\"\u001b[39m,\n\u001b[32m    226\u001b[39m         \u001b[33mf\u001b[39m\u001b[33m\"\u001b[39m\u001b[33mparameter of \u001b[39m\u001b[38;5;132;01m{\u001b[39;00mfunc.\u001b[34m__qualname__\u001b[39m\u001b[38;5;132;01m}\u001b[39;00m\u001b[33m must be\u001b[39m\u001b[33m\"\u001b[39m,\n\u001b[32m    227\u001b[39m         \u001b[38;5;28mstr\u001b[39m(e),\n\u001b[32m    228\u001b[39m     )\n",
      "\u001b[36mFile \u001b[39m\u001b[32m~\\EEG-ExPy\\venv\\Lib\\site-packages\\sklearn\\inspection\\_permutation_importance.py:286\u001b[39m, in \u001b[36mpermutation_importance\u001b[39m\u001b[34m(estimator, X, y, scoring, n_repeats, n_jobs, random_state, sample_weight, max_samples)\u001b[39m\n\u001b[32m    283\u001b[39m     \u001b[38;5;28;01mraise\u001b[39;00m \u001b[38;5;167;01mValueError\u001b[39;00m(\u001b[33m\"\u001b[39m\u001b[33mmax_samples must be <= n_samples\u001b[39m\u001b[33m\"\u001b[39m)\n\u001b[32m    285\u001b[39m scorer = check_scoring(estimator, scoring=scoring)\n\u001b[32m--> \u001b[39m\u001b[32m286\u001b[39m baseline_score = \u001b[43m_weights_scorer\u001b[49m\u001b[43m(\u001b[49m\u001b[43mscorer\u001b[49m\u001b[43m,\u001b[49m\u001b[43m \u001b[49m\u001b[43mestimator\u001b[49m\u001b[43m,\u001b[49m\u001b[43m \u001b[49m\u001b[43mX\u001b[49m\u001b[43m,\u001b[49m\u001b[43m \u001b[49m\u001b[43my\u001b[49m\u001b[43m,\u001b[49m\u001b[43m \u001b[49m\u001b[43msample_weight\u001b[49m\u001b[43m)\u001b[49m\n\u001b[32m    288\u001b[39m scores = Parallel(n_jobs=n_jobs)(\n\u001b[32m    289\u001b[39m     delayed(_calculate_permutation_scores)(\n\u001b[32m    290\u001b[39m         estimator,\n\u001b[32m   (...)\u001b[39m\u001b[32m    300\u001b[39m     \u001b[38;5;28;01mfor\u001b[39;00m col_idx \u001b[38;5;129;01min\u001b[39;00m \u001b[38;5;28mrange\u001b[39m(X.shape[\u001b[32m1\u001b[39m])\n\u001b[32m    301\u001b[39m )\n\u001b[32m    303\u001b[39m \u001b[38;5;28;01mif\u001b[39;00m \u001b[38;5;28misinstance\u001b[39m(baseline_score, \u001b[38;5;28mdict\u001b[39m):\n",
      "\u001b[36mFile \u001b[39m\u001b[32m~\\EEG-ExPy\\venv\\Lib\\site-packages\\sklearn\\inspection\\_permutation_importance.py:28\u001b[39m, in \u001b[36m_weights_scorer\u001b[39m\u001b[34m(scorer, estimator, X, y, sample_weight)\u001b[39m\n\u001b[32m     26\u001b[39m \u001b[38;5;28;01mif\u001b[39;00m sample_weight \u001b[38;5;129;01mis\u001b[39;00m \u001b[38;5;129;01mnot\u001b[39;00m \u001b[38;5;28;01mNone\u001b[39;00m:\n\u001b[32m     27\u001b[39m     \u001b[38;5;28;01mreturn\u001b[39;00m scorer(estimator, X, y, sample_weight=sample_weight)\n\u001b[32m---> \u001b[39m\u001b[32m28\u001b[39m \u001b[38;5;28;01mreturn\u001b[39;00m \u001b[43mscorer\u001b[49m\u001b[43m(\u001b[49m\u001b[43mestimator\u001b[49m\u001b[43m,\u001b[49m\u001b[43m \u001b[49m\u001b[43mX\u001b[49m\u001b[43m,\u001b[49m\u001b[43m \u001b[49m\u001b[43my\u001b[49m\u001b[43m)\u001b[49m\n",
      "\u001b[36mFile \u001b[39m\u001b[32m~\\EEG-ExPy\\venv\\Lib\\site-packages\\sklearn\\metrics\\_scorer.py:492\u001b[39m, in \u001b[36m_PassthroughScorer.__call__\u001b[39m\u001b[34m(self, estimator, *args, **kwargs)\u001b[39m\n\u001b[32m    490\u001b[39m \u001b[38;5;28;01mdef\u001b[39;00m\u001b[38;5;250m \u001b[39m\u001b[34m__call__\u001b[39m(\u001b[38;5;28mself\u001b[39m, estimator, *args, **kwargs):\n\u001b[32m    491\u001b[39m \u001b[38;5;250m    \u001b[39m\u001b[33;03m\"\"\"Method that wraps estimator.score\"\"\"\u001b[39;00m\n\u001b[32m--> \u001b[39m\u001b[32m492\u001b[39m     \u001b[38;5;28;01mreturn\u001b[39;00m \u001b[43mestimator\u001b[49m\u001b[43m.\u001b[49m\u001b[43mscore\u001b[49m\u001b[43m(\u001b[49m\u001b[43m*\u001b[49m\u001b[43margs\u001b[49m\u001b[43m,\u001b[49m\u001b[43m \u001b[49m\u001b[43m*\u001b[49m\u001b[43m*\u001b[49m\u001b[43mkwargs\u001b[49m\u001b[43m)\u001b[49m\n",
      "\u001b[36mFile \u001b[39m\u001b[32m~\\EEG-ExPy\\venv\\Lib\\site-packages\\sklearn\\pipeline.py:1179\u001b[39m, in \u001b[36mPipeline.score\u001b[39m\u001b[34m(self, X, y, sample_weight, **params)\u001b[39m\n\u001b[32m   1143\u001b[39m \u001b[38;5;250m\u001b[39m\u001b[33;03m\"\"\"Transform the data, and apply `score` with the final estimator.\u001b[39;00m\n\u001b[32m   1144\u001b[39m \n\u001b[32m   1145\u001b[39m \u001b[33;03mCall `transform` of each transformer in the pipeline. The transformed\u001b[39;00m\n\u001b[32m   (...)\u001b[39m\u001b[32m   1176\u001b[39m \u001b[33;03m    Result of calling `score` on the final estimator.\u001b[39;00m\n\u001b[32m   1177\u001b[39m \u001b[33;03m\"\"\"\u001b[39;00m\n\u001b[32m   1178\u001b[39m \u001b[38;5;66;03m# TODO(1.8): Remove the context manager and use check_is_fitted(self)\u001b[39;00m\n\u001b[32m-> \u001b[39m\u001b[32m1179\u001b[39m \u001b[38;5;28;01mwith\u001b[39;00m _raise_or_warn_if_not_fitted(\u001b[38;5;28mself\u001b[39m):\n\u001b[32m   1180\u001b[39m     Xt = X\n\u001b[32m   1181\u001b[39m     \u001b[38;5;28;01mif\u001b[39;00m \u001b[38;5;129;01mnot\u001b[39;00m _routing_enabled():\n",
      "\u001b[36mFile \u001b[39m\u001b[32m~\\AppData\\Local\\Programs\\Python\\Python313\\Lib\\contextlib.py:162\u001b[39m, in \u001b[36m_GeneratorContextManager.__exit__\u001b[39m\u001b[34m(self, typ, value, traceback)\u001b[39m\n\u001b[32m    160\u001b[39m     value = typ()\n\u001b[32m    161\u001b[39m \u001b[38;5;28;01mtry\u001b[39;00m:\n\u001b[32m--> \u001b[39m\u001b[32m162\u001b[39m     \u001b[38;5;28;43mself\u001b[39;49m\u001b[43m.\u001b[49m\u001b[43mgen\u001b[49m\u001b[43m.\u001b[49m\u001b[43mthrow\u001b[49m\u001b[43m(\u001b[49m\u001b[43mvalue\u001b[49m\u001b[43m)\u001b[49m\n\u001b[32m    163\u001b[39m \u001b[38;5;28;01mexcept\u001b[39;00m \u001b[38;5;167;01mStopIteration\u001b[39;00m \u001b[38;5;28;01mas\u001b[39;00m exc:\n\u001b[32m    164\u001b[39m     \u001b[38;5;66;03m# Suppress StopIteration *unless* it's the same exception that\u001b[39;00m\n\u001b[32m    165\u001b[39m     \u001b[38;5;66;03m# was passed to throw().  This prevents a StopIteration\u001b[39;00m\n\u001b[32m    166\u001b[39m     \u001b[38;5;66;03m# raised inside the \"with\" statement from being suppressed.\u001b[39;00m\n\u001b[32m    167\u001b[39m     \u001b[38;5;28;01mreturn\u001b[39;00m exc \u001b[38;5;129;01mis\u001b[39;00m \u001b[38;5;129;01mnot\u001b[39;00m value\n",
      "\u001b[36mFile \u001b[39m\u001b[32m~\\EEG-ExPy\\venv\\Lib\\site-packages\\sklearn\\pipeline.py:55\u001b[39m, in \u001b[36m_raise_or_warn_if_not_fitted\u001b[39m\u001b[34m(estimator)\u001b[39m\n\u001b[32m     53\u001b[39m     \u001b[38;5;28;01myield\u001b[39;00m\n\u001b[32m     54\u001b[39m \u001b[38;5;28;01mexcept\u001b[39;00m NotFittedError \u001b[38;5;28;01mas\u001b[39;00m exc:\n\u001b[32m---> \u001b[39m\u001b[32m55\u001b[39m     \u001b[38;5;28;01mraise\u001b[39;00m NotFittedError(\u001b[33m\"\u001b[39m\u001b[33mPipeline is not fitted yet.\u001b[39m\u001b[33m\"\u001b[39m) \u001b[38;5;28;01mfrom\u001b[39;00m\u001b[38;5;250m \u001b[39m\u001b[34;01mexc\u001b[39;00m\n\u001b[32m     57\u001b[39m \u001b[38;5;66;03m# we only get here if the above didn't raise\u001b[39;00m\n\u001b[32m     58\u001b[39m \u001b[38;5;28;01mtry\u001b[39;00m:\n",
      "\u001b[31mNotFittedError\u001b[39m: Pipeline is not fitted yet."
     ]
    }
   ],
   "source": [
    "from sklearn.inspection import permutation_importance\n",
    "\n",
    "# Assuming clf is your trained sklearn pipeline (SVM or similar)\n",
    "result = permutation_importance(clf, X_test, y_test, n_repeats=10, random_state=42, n_jobs=-1)\n",
    "\n",
    "importances = result.importances_mean\n",
    "for i, imp in enumerate(importances):\n",
    "    print(f\"Feature {i}: Importance {imp:.4f}\")\n"
   ]
  },
  {
   "cell_type": "code",
   "execution_count": 95,
   "id": "58d446d8-db0d-4233-aa73-e68df6fe37fd",
   "metadata": {},
   "outputs": [
    {
     "ename": "NameError",
     "evalue": "name 'X_train_windows' is not defined",
     "output_type": "error",
     "traceback": [
      "\u001b[31m-----------------------------------------------------------------------\u001b[39m",
      "\u001b[31mNameError\u001b[39m                             Traceback (most recent call last)",
      "\u001b[36mCell\u001b[39m\u001b[36m \u001b[39m\u001b[32mIn[95]\u001b[39m\u001b[32m, line 28\u001b[39m\n\u001b[32m     25\u001b[39m     \u001b[38;5;28;01mdef\u001b[39;00m\u001b[38;5;250m \u001b[39m\u001b[34m__getitem__\u001b[39m(\u001b[38;5;28mself\u001b[39m, idx):\n\u001b[32m     26\u001b[39m         \u001b[38;5;28;01mreturn\u001b[39;00m \u001b[38;5;28mself\u001b[39m.windows[idx], \u001b[38;5;28mself\u001b[39m.labels[idx]\n\u001b[32m---> \u001b[39m\u001b[32m28\u001b[39m train_dataset = EEGDataset(\u001b[43mX_train_windows\u001b[49m, y_train_labels)\n\u001b[32m     29\u001b[39m train_loader = DataLoader(train_dataset, batch_size=\u001b[32m32\u001b[39m, shuffle=\u001b[38;5;28;01mTrue\u001b[39;00m)\n\u001b[32m     31\u001b[39m test_dataset = EEGDataset(X_test_windows, y_test_labels)\n",
      "\u001b[31mNameError\u001b[39m: name 'X_train_windows' is not defined"
     ]
    }
   ],
   "source": [
    "import torch.nn as nn\n",
    "\n",
    "window_length_samples = 250  # 1 second at 250Hz\n",
    "\n",
    "def segment_data(raw, window_length):\n",
    "    data = raw.get_data(picks=ch_names)  # shape (channels, total_samples)\n",
    "    n_windows = data.shape[1] // window_length\n",
    "    windows = np.array([\n",
    "        data[:, i*window_length:(i+1)*window_length]\n",
    "        for i in range(n_windows)\n",
    "    ])  # shape (n_windows, channels, window_length)\n",
    "    return windows\n",
    "\n",
    "from torch.utils.data import Dataset, DataLoader\n",
    "import torch\n",
    "\n",
    "class EEGDataset(Dataset):\n",
    "    def __init__(self, windows, labels):\n",
    "        self.windows = torch.tensor(windows, dtype=torch.float32)\n",
    "        self.labels = torch.tensor(labels, dtype=torch.long)\n",
    "\n",
    "    def __len__(self):\n",
    "        return len(self.windows)\n",
    "\n",
    "    def __getitem__(self, idx):\n",
    "        return self.windows[idx], self.labels[idx]\n",
    "\n",
    "train_dataset = EEGDataset(X_train_windows, y_train_labels)\n",
    "train_loader = DataLoader(train_dataset, batch_size=32, shuffle=True)\n",
    "\n",
    "test_dataset = EEGDataset(X_test_windows, y_test_labels)\n",
    "test_loader = DataLoader(test_dataset, batch_size=32, shuffle=False)\n",
    "\n",
    "\n",
    "\n",
    "class SimpleEEGCNN(nn.Module):\n",
    "    def __init__(self, n_channels=4, n_classes=2):\n",
    "        super(SimpleEEGCNN, self).__init__()\n",
    "        self.conv1 = nn.Conv1d(n_channels, 16, kernel_size=3, padding=1)\n",
    "        self.bn1 = nn.BatchNorm1d(16)\n",
    "        self.relu = nn.ReLU()\n",
    "        self.pool = nn.MaxPool1d(2)\n",
    "        \n",
    "        self.conv2 = nn.Conv1d(16, 32, kernel_size=3, padding=1)\n",
    "        self.bn2 = nn.BatchNorm1d(32)\n",
    "        \n",
    "        self.fc1 = nn.Linear(32 * input_length // 4, 64)  # input_length depends on your window size\n",
    "        self.fc2 = nn.Linear(64, n_classes)\n",
    "    \n",
    "    def forward(self, x):\n",
    "        x = self.pool(self.relu(self.bn1(self.conv1(x))))\n",
    "        x = self.pool(self.relu(self.bn2(self.conv2(x))))\n",
    "        x = x.view(x.size(0), -1)\n",
    "        x = self.relu(self.fc1(x))\n",
    "        x = self.fc2(x)\n",
    "        return x\n",
    "\n",
    "import torch.optim as optim\n",
    "from sklearn.metrics import accuracy_score\n",
    "\n",
    "model = SimpleEEGCNN()\n",
    "criterion = nn.CrossEntropyLoss()\n",
    "optimizer = optim.Adam(model.parameters(), lr=0.001)\n",
    "\n",
    "# Training (one epoch example)\n",
    "model.train()\n",
    "for X_batch, y_batch in train_loader:\n",
    "    optimizer.zero_grad()\n",
    "    outputs = model(X_batch)\n",
    "    loss = criterion(outputs, y_batch)\n",
    "    loss.backward()\n",
    "    optimizer.step()\n",
    "\n",
    "# Evaluation\n",
    "model.eval()\n",
    "all_preds, all_labels = [], []\n",
    "with torch.no_grad():\n",
    "    for X_batch, y_batch in test_loader:\n",
    "        outputs = model(X_batch)\n",
    "        preds = outputs.argmax(dim=1)\n",
    "        all_preds.extend(preds.cpu().numpy())\n",
    "        all_labels.extend(y_batch.cpu().numpy())\n",
    "\n",
    "acc = accuracy_score(all_labels, all_preds)\n",
    "print(f\"Test Accuracy: {acc:.2f}\")\n",
    "\n"
   ]
  },
  {
   "cell_type": "code",
   "execution_count": 96,
   "id": "ce1b62c7-c4c2-4f6d-adfd-7c34945afe9b",
   "metadata": {},
   "outputs": [
    {
     "ename": "TypeError",
     "evalue": "linear(): argument 'input' (position 1) must be Tensor, not numpy.ndarray",
     "output_type": "error",
     "traceback": [
      "\u001b[31m-----------------------------------------------------------------------\u001b[39m",
      "\u001b[31mTypeError\u001b[39m                             Traceback (most recent call last)",
      "\u001b[36mCell\u001b[39m\u001b[36m \u001b[39m\u001b[32mIn[96]\u001b[39m\u001b[32m, line 30\u001b[39m\n\u001b[32m     27\u001b[39m labels = y_train[i:i+batch_size]\n\u001b[32m     29\u001b[39m optimizer.zero_grad()\n\u001b[32m---> \u001b[39m\u001b[32m30\u001b[39m outputs = \u001b[43mmodel\u001b[49m\u001b[43m(\u001b[49m\u001b[43minputs\u001b[49m\u001b[43m)\u001b[49m\n\u001b[32m     31\u001b[39m loss = criterion(outputs, labels)\n\u001b[32m     32\u001b[39m loss.backward()\n",
      "\u001b[36mFile \u001b[39m\u001b[32m~\\EEG-ExPy\\venv\\Lib\\site-packages\\torch\\nn\\modules\\module.py:1751\u001b[39m, in \u001b[36mModule._wrapped_call_impl\u001b[39m\u001b[34m(self, *args, **kwargs)\u001b[39m\n\u001b[32m   1749\u001b[39m     \u001b[38;5;28;01mreturn\u001b[39;00m \u001b[38;5;28mself\u001b[39m._compiled_call_impl(*args, **kwargs)  \u001b[38;5;66;03m# type: ignore[misc]\u001b[39;00m\n\u001b[32m   1750\u001b[39m \u001b[38;5;28;01melse\u001b[39;00m:\n\u001b[32m-> \u001b[39m\u001b[32m1751\u001b[39m     \u001b[38;5;28;01mreturn\u001b[39;00m \u001b[38;5;28;43mself\u001b[39;49m\u001b[43m.\u001b[49m\u001b[43m_call_impl\u001b[49m\u001b[43m(\u001b[49m\u001b[43m*\u001b[49m\u001b[43margs\u001b[49m\u001b[43m,\u001b[49m\u001b[43m \u001b[49m\u001b[43m*\u001b[49m\u001b[43m*\u001b[49m\u001b[43mkwargs\u001b[49m\u001b[43m)\u001b[49m\n",
      "\u001b[36mFile \u001b[39m\u001b[32m~\\EEG-ExPy\\venv\\Lib\\site-packages\\torch\\nn\\modules\\module.py:1762\u001b[39m, in \u001b[36mModule._call_impl\u001b[39m\u001b[34m(self, *args, **kwargs)\u001b[39m\n\u001b[32m   1757\u001b[39m \u001b[38;5;66;03m# If we don't have any hooks, we want to skip the rest of the logic in\u001b[39;00m\n\u001b[32m   1758\u001b[39m \u001b[38;5;66;03m# this function, and just call forward.\u001b[39;00m\n\u001b[32m   1759\u001b[39m \u001b[38;5;28;01mif\u001b[39;00m \u001b[38;5;129;01mnot\u001b[39;00m (\u001b[38;5;28mself\u001b[39m._backward_hooks \u001b[38;5;129;01mor\u001b[39;00m \u001b[38;5;28mself\u001b[39m._backward_pre_hooks \u001b[38;5;129;01mor\u001b[39;00m \u001b[38;5;28mself\u001b[39m._forward_hooks \u001b[38;5;129;01mor\u001b[39;00m \u001b[38;5;28mself\u001b[39m._forward_pre_hooks\n\u001b[32m   1760\u001b[39m         \u001b[38;5;129;01mor\u001b[39;00m _global_backward_pre_hooks \u001b[38;5;129;01mor\u001b[39;00m _global_backward_hooks\n\u001b[32m   1761\u001b[39m         \u001b[38;5;129;01mor\u001b[39;00m _global_forward_hooks \u001b[38;5;129;01mor\u001b[39;00m _global_forward_pre_hooks):\n\u001b[32m-> \u001b[39m\u001b[32m1762\u001b[39m     \u001b[38;5;28;01mreturn\u001b[39;00m \u001b[43mforward_call\u001b[49m\u001b[43m(\u001b[49m\u001b[43m*\u001b[49m\u001b[43margs\u001b[49m\u001b[43m,\u001b[49m\u001b[43m \u001b[49m\u001b[43m*\u001b[49m\u001b[43m*\u001b[49m\u001b[43mkwargs\u001b[49m\u001b[43m)\u001b[49m\n\u001b[32m   1764\u001b[39m result = \u001b[38;5;28;01mNone\u001b[39;00m\n\u001b[32m   1765\u001b[39m called_always_called_hooks = \u001b[38;5;28mset\u001b[39m()\n",
      "\u001b[36mCell\u001b[39m\u001b[36m \u001b[39m\u001b[32mIn[96]\u001b[39m\u001b[32m, line 16\u001b[39m, in \u001b[36mSimpleNN.forward\u001b[39m\u001b[34m(self, x)\u001b[39m\n\u001b[32m     15\u001b[39m \u001b[38;5;28;01mdef\u001b[39;00m\u001b[38;5;250m \u001b[39m\u001b[34mforward\u001b[39m(\u001b[38;5;28mself\u001b[39m, x):\n\u001b[32m---> \u001b[39m\u001b[32m16\u001b[39m     \u001b[38;5;28;01mreturn\u001b[39;00m \u001b[38;5;28;43mself\u001b[39;49m\u001b[43m.\u001b[49m\u001b[43mfc\u001b[49m\u001b[43m(\u001b[49m\u001b[43mx\u001b[49m\u001b[43m)\u001b[49m\n",
      "\u001b[36mFile \u001b[39m\u001b[32m~\\EEG-ExPy\\venv\\Lib\\site-packages\\torch\\nn\\modules\\module.py:1751\u001b[39m, in \u001b[36mModule._wrapped_call_impl\u001b[39m\u001b[34m(self, *args, **kwargs)\u001b[39m\n\u001b[32m   1749\u001b[39m     \u001b[38;5;28;01mreturn\u001b[39;00m \u001b[38;5;28mself\u001b[39m._compiled_call_impl(*args, **kwargs)  \u001b[38;5;66;03m# type: ignore[misc]\u001b[39;00m\n\u001b[32m   1750\u001b[39m \u001b[38;5;28;01melse\u001b[39;00m:\n\u001b[32m-> \u001b[39m\u001b[32m1751\u001b[39m     \u001b[38;5;28;01mreturn\u001b[39;00m \u001b[38;5;28;43mself\u001b[39;49m\u001b[43m.\u001b[49m\u001b[43m_call_impl\u001b[49m\u001b[43m(\u001b[49m\u001b[43m*\u001b[49m\u001b[43margs\u001b[49m\u001b[43m,\u001b[49m\u001b[43m \u001b[49m\u001b[43m*\u001b[49m\u001b[43m*\u001b[49m\u001b[43mkwargs\u001b[49m\u001b[43m)\u001b[49m\n",
      "\u001b[36mFile \u001b[39m\u001b[32m~\\EEG-ExPy\\venv\\Lib\\site-packages\\torch\\nn\\modules\\module.py:1762\u001b[39m, in \u001b[36mModule._call_impl\u001b[39m\u001b[34m(self, *args, **kwargs)\u001b[39m\n\u001b[32m   1757\u001b[39m \u001b[38;5;66;03m# If we don't have any hooks, we want to skip the rest of the logic in\u001b[39;00m\n\u001b[32m   1758\u001b[39m \u001b[38;5;66;03m# this function, and just call forward.\u001b[39;00m\n\u001b[32m   1759\u001b[39m \u001b[38;5;28;01mif\u001b[39;00m \u001b[38;5;129;01mnot\u001b[39;00m (\u001b[38;5;28mself\u001b[39m._backward_hooks \u001b[38;5;129;01mor\u001b[39;00m \u001b[38;5;28mself\u001b[39m._backward_pre_hooks \u001b[38;5;129;01mor\u001b[39;00m \u001b[38;5;28mself\u001b[39m._forward_hooks \u001b[38;5;129;01mor\u001b[39;00m \u001b[38;5;28mself\u001b[39m._forward_pre_hooks\n\u001b[32m   1760\u001b[39m         \u001b[38;5;129;01mor\u001b[39;00m _global_backward_pre_hooks \u001b[38;5;129;01mor\u001b[39;00m _global_backward_hooks\n\u001b[32m   1761\u001b[39m         \u001b[38;5;129;01mor\u001b[39;00m _global_forward_hooks \u001b[38;5;129;01mor\u001b[39;00m _global_forward_pre_hooks):\n\u001b[32m-> \u001b[39m\u001b[32m1762\u001b[39m     \u001b[38;5;28;01mreturn\u001b[39;00m \u001b[43mforward_call\u001b[49m\u001b[43m(\u001b[49m\u001b[43m*\u001b[49m\u001b[43margs\u001b[49m\u001b[43m,\u001b[49m\u001b[43m \u001b[49m\u001b[43m*\u001b[49m\u001b[43m*\u001b[49m\u001b[43mkwargs\u001b[49m\u001b[43m)\u001b[49m\n\u001b[32m   1764\u001b[39m result = \u001b[38;5;28;01mNone\u001b[39;00m\n\u001b[32m   1765\u001b[39m called_always_called_hooks = \u001b[38;5;28mset\u001b[39m()\n",
      "\u001b[36mFile \u001b[39m\u001b[32m~\\EEG-ExPy\\venv\\Lib\\site-packages\\torch\\nn\\modules\\container.py:240\u001b[39m, in \u001b[36mSequential.forward\u001b[39m\u001b[34m(self, input)\u001b[39m\n\u001b[32m    238\u001b[39m \u001b[38;5;28;01mdef\u001b[39;00m\u001b[38;5;250m \u001b[39m\u001b[34mforward\u001b[39m(\u001b[38;5;28mself\u001b[39m, \u001b[38;5;28minput\u001b[39m):\n\u001b[32m    239\u001b[39m     \u001b[38;5;28;01mfor\u001b[39;00m module \u001b[38;5;129;01min\u001b[39;00m \u001b[38;5;28mself\u001b[39m:\n\u001b[32m--> \u001b[39m\u001b[32m240\u001b[39m         \u001b[38;5;28minput\u001b[39m = \u001b[43mmodule\u001b[49m\u001b[43m(\u001b[49m\u001b[38;5;28;43minput\u001b[39;49m\u001b[43m)\u001b[49m\n\u001b[32m    241\u001b[39m     \u001b[38;5;28;01mreturn\u001b[39;00m \u001b[38;5;28minput\u001b[39m\n",
      "\u001b[36mFile \u001b[39m\u001b[32m~\\EEG-ExPy\\venv\\Lib\\site-packages\\torch\\nn\\modules\\module.py:1751\u001b[39m, in \u001b[36mModule._wrapped_call_impl\u001b[39m\u001b[34m(self, *args, **kwargs)\u001b[39m\n\u001b[32m   1749\u001b[39m     \u001b[38;5;28;01mreturn\u001b[39;00m \u001b[38;5;28mself\u001b[39m._compiled_call_impl(*args, **kwargs)  \u001b[38;5;66;03m# type: ignore[misc]\u001b[39;00m\n\u001b[32m   1750\u001b[39m \u001b[38;5;28;01melse\u001b[39;00m:\n\u001b[32m-> \u001b[39m\u001b[32m1751\u001b[39m     \u001b[38;5;28;01mreturn\u001b[39;00m \u001b[38;5;28;43mself\u001b[39;49m\u001b[43m.\u001b[49m\u001b[43m_call_impl\u001b[49m\u001b[43m(\u001b[49m\u001b[43m*\u001b[49m\u001b[43margs\u001b[49m\u001b[43m,\u001b[49m\u001b[43m \u001b[49m\u001b[43m*\u001b[49m\u001b[43m*\u001b[49m\u001b[43mkwargs\u001b[49m\u001b[43m)\u001b[49m\n",
      "\u001b[36mFile \u001b[39m\u001b[32m~\\EEG-ExPy\\venv\\Lib\\site-packages\\torch\\nn\\modules\\module.py:1762\u001b[39m, in \u001b[36mModule._call_impl\u001b[39m\u001b[34m(self, *args, **kwargs)\u001b[39m\n\u001b[32m   1757\u001b[39m \u001b[38;5;66;03m# If we don't have any hooks, we want to skip the rest of the logic in\u001b[39;00m\n\u001b[32m   1758\u001b[39m \u001b[38;5;66;03m# this function, and just call forward.\u001b[39;00m\n\u001b[32m   1759\u001b[39m \u001b[38;5;28;01mif\u001b[39;00m \u001b[38;5;129;01mnot\u001b[39;00m (\u001b[38;5;28mself\u001b[39m._backward_hooks \u001b[38;5;129;01mor\u001b[39;00m \u001b[38;5;28mself\u001b[39m._backward_pre_hooks \u001b[38;5;129;01mor\u001b[39;00m \u001b[38;5;28mself\u001b[39m._forward_hooks \u001b[38;5;129;01mor\u001b[39;00m \u001b[38;5;28mself\u001b[39m._forward_pre_hooks\n\u001b[32m   1760\u001b[39m         \u001b[38;5;129;01mor\u001b[39;00m _global_backward_pre_hooks \u001b[38;5;129;01mor\u001b[39;00m _global_backward_hooks\n\u001b[32m   1761\u001b[39m         \u001b[38;5;129;01mor\u001b[39;00m _global_forward_hooks \u001b[38;5;129;01mor\u001b[39;00m _global_forward_pre_hooks):\n\u001b[32m-> \u001b[39m\u001b[32m1762\u001b[39m     \u001b[38;5;28;01mreturn\u001b[39;00m \u001b[43mforward_call\u001b[49m\u001b[43m(\u001b[49m\u001b[43m*\u001b[49m\u001b[43margs\u001b[49m\u001b[43m,\u001b[49m\u001b[43m \u001b[49m\u001b[43m*\u001b[49m\u001b[43m*\u001b[49m\u001b[43mkwargs\u001b[49m\u001b[43m)\u001b[49m\n\u001b[32m   1764\u001b[39m result = \u001b[38;5;28;01mNone\u001b[39;00m\n\u001b[32m   1765\u001b[39m called_always_called_hooks = \u001b[38;5;28mset\u001b[39m()\n",
      "\u001b[36mFile \u001b[39m\u001b[32m~\\EEG-ExPy\\venv\\Lib\\site-packages\\torch\\nn\\modules\\linear.py:125\u001b[39m, in \u001b[36mLinear.forward\u001b[39m\u001b[34m(self, input)\u001b[39m\n\u001b[32m    124\u001b[39m \u001b[38;5;28;01mdef\u001b[39;00m\u001b[38;5;250m \u001b[39m\u001b[34mforward\u001b[39m(\u001b[38;5;28mself\u001b[39m, \u001b[38;5;28minput\u001b[39m: Tensor) -> Tensor:\n\u001b[32m--> \u001b[39m\u001b[32m125\u001b[39m     \u001b[38;5;28;01mreturn\u001b[39;00m \u001b[43mF\u001b[49m\u001b[43m.\u001b[49m\u001b[43mlinear\u001b[49m\u001b[43m(\u001b[49m\u001b[38;5;28;43minput\u001b[39;49m\u001b[43m,\u001b[49m\u001b[43m \u001b[49m\u001b[38;5;28;43mself\u001b[39;49m\u001b[43m.\u001b[49m\u001b[43mweight\u001b[49m\u001b[43m,\u001b[49m\u001b[43m \u001b[49m\u001b[38;5;28;43mself\u001b[39;49m\u001b[43m.\u001b[49m\u001b[43mbias\u001b[49m\u001b[43m)\u001b[49m\n",
      "\u001b[31mTypeError\u001b[39m: linear(): argument 'input' (position 1) must be Tensor, not numpy.ndarray"
     ]
    }
   ],
   "source": [
    "import torch\n",
    "import torch.nn as nn\n",
    "import torch.optim as optim\n",
    "\n",
    "class SimpleNN(nn.Module):\n",
    "    def __init__(self, input_dim):\n",
    "        super().__init__()\n",
    "        self.fc = nn.Sequential(\n",
    "            nn.Linear(input_dim, 32),\n",
    "            nn.ReLU(),\n",
    "            nn.Linear(32, 16),\n",
    "            nn.ReLU(),\n",
    "            nn.Linear(16, 2)  # binary classification example\n",
    "        )\n",
    "    def forward(self, x):\n",
    "        return self.fc(x)\n",
    "\n",
    "# Suppose X_train, y_train are torch tensors\n",
    "model = SimpleNN(input_dim=X_train.shape[1])\n",
    "criterion = nn.CrossEntropyLoss()\n",
    "optimizer = optim.Adam(model.parameters(), lr=0.001)\n",
    "batch_size = 32\n",
    "\n",
    "for epoch in range(10):  # fewer epochs\n",
    "    for i in range(0, len(X_train), batch_size):\n",
    "        inputs = X_train[i:i+batch_size]\n",
    "        labels = y_train[i:i+batch_size]\n",
    "\n",
    "        optimizer.zero_grad()\n",
    "        outputs = model(inputs)\n",
    "        loss = criterion(outputs, labels)\n",
    "        loss.backward()\n",
    "        optimizer.step()\n",
    "    print(f\"Epoch {epoch+1} done, loss: {loss.item():.4f}\")\n"
   ]
  },
  {
   "cell_type": "code",
   "execution_count": null,
   "id": "30a344d7-2efe-4481-acb5-ae9e7e00deca",
   "metadata": {},
   "outputs": [],
   "source": []
  }
 ],
 "metadata": {
  "kernelspec": {
   "display_name": "Python (eegnb-venv)",
   "language": "python",
   "name": "eegnb-venv"
  },
  "language_info": {
   "codemirror_mode": {
    "name": "ipython",
    "version": 3
   },
   "file_extension": ".py",
   "mimetype": "text/x-python",
   "name": "python",
   "nbconvert_exporter": "python",
   "pygments_lexer": "ipython3",
   "version": "3.13.4"
  }
 },
 "nbformat": 4,
 "nbformat_minor": 5
}
