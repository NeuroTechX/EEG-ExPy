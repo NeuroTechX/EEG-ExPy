# 📘 06_spectral_attention.ipynb — Spectral Attention for Emotion Classification

**Purpose:** Adds a transformer-based attention model on EEG spectrograms to classify emotional state (positive/neutral/negative).

**How to run:**

```bash
# Prepare environment
pip install -r requirements.txt

# Generate fake data for demo
python generate_dummy_eeg.py

# Launch analysis in Jupyter
jupyter notebook 06_spectral_attention.ipynb
