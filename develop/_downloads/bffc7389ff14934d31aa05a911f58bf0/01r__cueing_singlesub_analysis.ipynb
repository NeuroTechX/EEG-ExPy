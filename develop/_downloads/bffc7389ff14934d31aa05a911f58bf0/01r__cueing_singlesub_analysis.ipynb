{
  "cells": [
    {
      "cell_type": "markdown",
      "metadata": {},
      "source": [
        "\n# Cueing Single Subject Analysis\n"
      ]
    },
    {
      "cell_type": "markdown",
      "metadata": {},
      "source": [
        "## Setup\n\n\n"
      ]
    },
    {
      "cell_type": "code",
      "execution_count": null,
      "metadata": {
        "collapsed": false
      },
      "outputs": [],
      "source": [
        "# Some standard pythonic imports\nimport os,numpy as np#,sys,glob,pandas as pd\nfrom collections import OrderedDict\nimport warnings\nwarnings.filterwarnings('ignore')\nfrom matplotlib import pyplot as plt\nimport matplotlib.patches as patches\n\n# MNE functions\nfrom mne import Epochs,find_events#, concatenate_raws\nfrom mne.time_frequency import tfr_morlet\n\n# EEG-Notebooks functions\nfrom eegnb.analysis.analysis_utils import load_data,plot_conditions\nfrom eegnb.datasets import fetch_dataset"
      ]
    },
    {
      "cell_type": "markdown",
      "metadata": {},
      "source": [
        "## Load Data\n\nWe will use the eeg-expy visual cueing example dataset\n\n\n"
      ]
    },
    {
      "cell_type": "code",
      "execution_count": null,
      "metadata": {
        "collapsed": false
      },
      "outputs": [],
      "source": [
        "eegnb_data_path = os.path.join(os.path.expanduser('~/'),'.eegnb', 'data')    \ncueing_data_path = os.path.join(eegnb_data_path, 'visual-cueing', 'kylemathlab_dev')\n\n# If dataset hasn't been downloaded yet, download it \nif not os.path.isdir(cueing_data_path):\n    fetch_dataset(data_dir=eegnb_data_path, experiment='visual-cueing', site='kylemathlab_dev');\n\n\nsub = 302\nsess = 1\nraw = load_data(sub,1, # subject, session\n                experiment='visual-cueing',site='kylemathlab_dev',device_name='muse2016',\n                data_dir = eegnb_data_path)\n                \nraw.append(\n      load_data(sub,2, # subject, session\n                experiment='visual-cueing', site='kylemathlab_dev', device_name='muse2016',\n                data_dir = eegnb_data_path))"
      ]
    },
    {
      "cell_type": "markdown",
      "metadata": {},
      "source": [
        "## Visualize the power spectrum\n\nPlot raw data\n\n\n"
      ]
    },
    {
      "cell_type": "code",
      "execution_count": null,
      "metadata": {
        "collapsed": false
      },
      "outputs": [],
      "source": [
        "raw.plot();"
      ]
    },
    {
      "cell_type": "markdown",
      "metadata": {},
      "source": [
        "## Power Spectral Density\n\nOne way to analyze the SSVEP is to plot the power spectral density, or PSD. SSVEPs should appear as peaks in power for certain frequencies. We expect clear peaks in the spectral domain at the stimulation frequencies of 30 and 20 Hz.\n\n\n"
      ]
    },
    {
      "cell_type": "code",
      "execution_count": null,
      "metadata": {
        "collapsed": false
      },
      "outputs": [],
      "source": [
        "raw.compute_psd().plot();\n\n# Should see the electrical noise at 60 Hz, and maybe a peak at the red and blue channels between 7-14 Hz (Alpha)"
      ]
    },
    {
      "cell_type": "markdown",
      "metadata": {},
      "source": [
        "## Filtering\n\nMost ERP components are composed of lower frequency fluctuations in the EEG signal. Thus, we can filter out all frequencies between 1 and 30 hz in order to increase our ability to detect them.\n\n\n"
      ]
    },
    {
      "cell_type": "code",
      "execution_count": null,
      "metadata": {
        "collapsed": false
      },
      "outputs": [],
      "source": [
        "raw.filter(1,30, method='iir');\nraw.compute_psd(fmin=1, fmax=30).plot();"
      ]
    },
    {
      "cell_type": "markdown",
      "metadata": {},
      "source": [
        "## Epoching\n\nNext, we will chunk (epoch) the data into segments representing the data 1000ms before to 2000ms after each cue, we will reject every epoch where the amplitude of the signal exceeded 100 uV, which should most eye blinks.\n\n\n"
      ]
    },
    {
      "cell_type": "code",
      "execution_count": null,
      "metadata": {
        "collapsed": false
      },
      "outputs": [],
      "source": [
        "raw.filter(1,30, method='iir')\nevents = find_events(raw)\nevent_id = {'LeftCue': 1, 'RightCue': 2}\n\nrej_thresh_uV = 150\nrej_thresh = rej_thresh_uV*1e-6\n\nepochs = Epochs(raw, events=events, event_id=event_id, \n                tmin=-1, tmax=2, baseline=(-1, 0), \n                reject={'eeg':rej_thresh}, preload=True,\n                verbose=False, picks=[0, 1, 2, 3])\n\nprint('sample drop %: ', (1 - len(epochs.events)/len(events)) * 100)\n\nconditions = OrderedDict()\n#conditions['LeftCue'] = [1]\n#conditions['RightCue'] = [2]\nconditions['LeftCue'] = ['LeftCue']\nconditions['RightCue'] = ['RightCue']\ndiffwave = ('LeftCue', 'RightCue')\n\nfig, ax = plot_conditions(epochs, conditions=conditions, \n                                ci=97.5, n_boot=1000, title='',\n                                diff_waveform=diffwave, ylim=(-20,20))"
      ]
    },
    {
      "cell_type": "markdown",
      "metadata": {},
      "source": [
        "## Spectrogram\n\nWe can also look for SSVEPs in the spectrogram, which uses color to represent the power of frequencies in the EEG signal over time\n\n\n"
      ]
    },
    {
      "cell_type": "code",
      "execution_count": null,
      "metadata": {
        "collapsed": false
      },
      "outputs": [],
      "source": [
        "frequencies =  np.linspace(6, 30, 100, endpoint=True)\n\nwave_cycles = 6\n\n# Compute morlet wavelet\n\n# Left Cue\ntfr, itc = tfr_morlet(epochs['LeftCue'], freqs=frequencies, \n                      n_cycles=wave_cycles, return_itc=True)\ntfr = tfr.apply_baseline((-1,-.5),mode='mean')\ntfr.plot(picks=[0], mode='logratio', \n         title='TP9 - Ipsi');\ntfr.plot(picks=[1], mode='logratio', \n         title='TP10 - Contra');\npower_Ipsi_TP9 = tfr.data[0,:,:]\npower_Contra_TP10 = tfr.data[1,:,:]\n\n# Right Cue\ntfr, itc = tfr_morlet(epochs['RightCue'], freqs=frequencies, \n                      n_cycles=wave_cycles, return_itc=True)\ntfr = tfr.apply_baseline((-1,-.5),mode='mean')\ntfr.plot(picks=[0], mode='logratio', \n         title='TP9 - Contra');\ntfr.plot(picks=[1], mode='logratio', \n         title='TP10 - Ipsi');\npower_Contra_TP9 = tfr.data[0,:,:]\npower_Ipsi_TP10 = tfr.data[1,:,:]"
      ]
    },
    {
      "cell_type": "markdown",
      "metadata": {},
      "source": [
        "## Now we compute and plot the differences\n\ntime frequency window for analysis\n\n"
      ]
    },
    {
      "cell_type": "code",
      "execution_count": null,
      "metadata": {
        "collapsed": false
      },
      "outputs": [],
      "source": [
        "f_low = 7 # Hz\nf_high = 10\nf_diff = f_high-f_low\n \nt_low = 0 # s\nt_high = 1\nt_diff = t_high-t_low\n\n# Plot Differences\ntimes = epochs.times\npower_Avg_Ipsi =   (power_Ipsi_TP9+power_Ipsi_TP10)/2;\npower_Avg_Contra = (power_Contra_TP9+power_Contra_TP10)/2;\npower_Avg_Diff = power_Avg_Ipsi-power_Avg_Contra;\n\n# find max to make color range\nplot_max = np.max([np.max(np.abs(power_Avg_Ipsi)), np.max(np.abs(power_Avg_Contra))])\nplot_diff_max = np.max(np.abs(power_Avg_Diff))\n\n# Ipsi\nfig, ax = plt.subplots(1)\nim = plt.imshow(power_Avg_Ipsi,\n           extent=[times[0], times[-1], frequencies[0], frequencies[-1]],\n           aspect='auto', origin='lower', cmap='coolwarm', vmin=-plot_max, vmax=plot_max)\nplt.xlabel('Time (sec)')\nplt.ylabel('Frequency (Hz)')\nplt.title('Power Average Ipsilateral to Cue')\ncb = fig.colorbar(im)\ncb.set_label('Power')\n# Create a Rectangle patch\nrect = patches.Rectangle((t_low,f_low),t_diff,f_diff,linewidth=1,edgecolor='k',facecolor='none')\n# Add the patch to the Axes\nax.add_patch(rect)\n\n#TP10\nfig, ax = plt.subplots(1)\nim = plt.imshow(power_Avg_Contra,\n           extent=[times[0], times[-1], frequencies[0], frequencies[-1]],\n           aspect='auto', origin='lower', cmap='coolwarm', vmin=-plot_max, vmax=plot_max)\nplt.xlabel('Time (sec)')\nplt.ylabel('Frequency (Hz)')\nplt.title(str(sub) + ' - Power Average Contra to Cue')\ncb = fig.colorbar(im)\ncb.set_label('Power')\n# Create a Rectangle patch\nrect = patches.Rectangle((t_low,f_low),t_diff,f_diff,linewidth=1,edgecolor='k',facecolor='none')\n# Add the patch to the Axes\nax.add_patch(rect)\n\n#difference between conditions\nfig, ax = plt.subplots(1)\nim = plt.imshow(power_Avg_Diff,\n           extent=[times[0], times[-1], frequencies[0], frequencies[-1]],\n           aspect='auto', origin='lower', cmap='coolwarm', vmin=-plot_diff_max, vmax=plot_diff_max)\nplt.xlabel('Time (sec)')\nplt.ylabel('Frequency (Hz)')\nplt.title('Power Difference Ipsi-Contra')\ncb = fig.colorbar(im)\ncb.set_label('Ipsi-Contra Power')\n# Create a Rectangle patch\nrect = patches.Rectangle((t_low,f_low),t_diff,f_diff,linewidth=1,edgecolor='k',facecolor='none')\n# Add the patch to the Axes\nax.add_patch(rect)\n\n\n# We expect greater alpha power ipsilateral to the cue direction (positive values) from 0 to 1.5 seconds"
      ]
    },
    {
      "cell_type": "markdown",
      "metadata": {},
      "source": [
        "## Target Epoching\n\nNext, we will chunk (epoch) the data into segments representing the data .200ms before to 1000ms after each target, we will reject every epoch where the amplitude of the signal exceeded ? uV, which should most eye blinks.\n\n\n"
      ]
    },
    {
      "cell_type": "code",
      "execution_count": null,
      "metadata": {
        "collapsed": false
      },
      "outputs": [],
      "source": [
        "events = find_events(raw)\nevent_id = {'InvalidTarget_Left': 11, 'InvalidTarget_Right': 12,\n           'ValidTarget_Left': 21,'ValidTarget_Right': 11}\n\nepochs = Epochs(raw, events=events, event_id=event_id, \n                tmin=-.2, tmax=1, baseline=(-.2, 0), \n                reject={'eeg':.0001}, preload=True,\n                verbose=False, picks=[0, 1, 2, 3])\nprint('sample drop %: ', (1 - len(epochs.events)/len(events)) * 100)\n\nconditions = OrderedDict()\nconditions['ValidTarget'] = ['ValidTarget_Left', 'ValidTarget_Right']\nconditions['InvalidTarget'] = ['InvalidTarget_Left', 'InvalidTarget_Right']\ndiffwave = ('ValidTarget', 'InvalidTarget')\n\nfig, ax = plot_conditions(epochs, conditions=conditions, \n                                ci=97.5, n_boot=1000, title='',\n                                diff_waveform=diffwave, ylim=(-20,20))"
      ]
    }
  ],
  "metadata": {
    "kernelspec": {
      "display_name": "Python 3",
      "language": "python",
      "name": "python3"
    },
    "language_info": {
      "codemirror_mode": {
        "name": "ipython",
        "version": 3
      },
      "file_extension": ".py",
      "mimetype": "text/x-python",
      "name": "python",
      "nbconvert_exporter": "python",
      "pygments_lexer": "ipython3",
      "version": "3.8.18"
    }
  },
  "nbformat": 4,
  "nbformat_minor": 0
}