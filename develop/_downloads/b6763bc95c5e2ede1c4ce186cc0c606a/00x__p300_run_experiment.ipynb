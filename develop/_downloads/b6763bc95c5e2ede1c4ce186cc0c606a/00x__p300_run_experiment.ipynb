{
  "cells": [
    {
      "cell_type": "markdown",
      "metadata": {},
      "source": [
        "\n# P300 run experiment\n\nThis example demonstrates the initiation of an EEG stream with eeg-expy, and how to run \nan experiment. \n"
      ]
    },
    {
      "cell_type": "markdown",
      "metadata": {},
      "source": [
        "Setup\n---------------------  \n\nImports\n\n"
      ]
    },
    {
      "cell_type": "code",
      "execution_count": null,
      "metadata": {
        "collapsed": false
      },
      "outputs": [],
      "source": [
        "import os\nfrom eegnb import generate_save_fn\nfrom eegnb.devices.eeg import EEG\nfrom eegnb.experiments import VisualP300\n\n# Define some variables\nboard_name = \"muse2\"\nexperiment = \"visual_p300\"\nsubject_id = 0\nsession_nb = 0\nrecord_duration = 120"
      ]
    },
    {
      "cell_type": "markdown",
      "metadata": {},
      "source": [
        "## Initiate EEG device\n\nStart EEG device\n\n"
      ]
    },
    {
      "cell_type": "code",
      "execution_count": null,
      "metadata": {
        "collapsed": false
      },
      "outputs": [],
      "source": [
        "eeg_device = EEG(device=board_name)\n\n# Create save file name\nsave_fn = generate_save_fn(board_name, experiment, subject_id, session_nb)\nprint(save_fn)"
      ]
    },
    {
      "cell_type": "markdown",
      "metadata": {},
      "source": [
        "Run experiment\n---------------------  \n\nCreate Experiment Object\n\n"
      ]
    },
    {
      "cell_type": "code",
      "execution_count": null,
      "metadata": {
        "collapsed": false
      },
      "outputs": [],
      "source": [
        "p300 = VisualP300(duration=record_duration, eeg=eeg_device, save_fn=save_fn)\np300.run()"
      ]
    }
  ],
  "metadata": {
    "kernelspec": {
      "display_name": "Python 3",
      "language": "python",
      "name": "python3"
    },
    "language_info": {
      "codemirror_mode": {
        "name": "ipython",
        "version": 3
      },
      "file_extension": ".py",
      "mimetype": "text/x-python",
      "name": "python",
      "nbconvert_exporter": "python",
      "pygments_lexer": "ipython3",
      "version": "3.8.18"
    }
  },
  "nbformat": 4,
  "nbformat_minor": 0
}