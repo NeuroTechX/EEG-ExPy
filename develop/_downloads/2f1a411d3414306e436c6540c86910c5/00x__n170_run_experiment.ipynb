{
  "cells": [
    {
      "cell_type": "markdown",
      "metadata": {},
      "source": [
        "\n# N170 run experiment\n\nThis example demonstrates the initiation of an EEG stream with eeg-expy, and how to run \nan experiment. \n"
      ]
    },
    {
      "cell_type": "markdown",
      "metadata": {},
      "source": [
        "Setup\n---------------------  \n\nImports\n\n"
      ]
    },
    {
      "cell_type": "code",
      "execution_count": null,
      "metadata": {
        "collapsed": false
      },
      "outputs": [],
      "source": [
        "from eegnb import generate_save_fn\nfrom eegnb.devices.eeg import EEG\nfrom eegnb.experiments import VisualN170\n\n# Define some variables\nboard_name = \"muse2\" # board name\nexperiment_name = \"visual_n170\" # experiment name\nsubject_id = 0 # test subject id\nsession_nb = 0 # session number\nrecord_duration = 120 # recording duration\n\n# generate save path\nsave_fn = generate_save_fn(board_name, experiment_name, subject_id, session_nb)\n\n# create device object\neeg_device = EEG(device=board_name)\n\n# Experiment type\nexperiment = VisualN170(duration=record_duration, eeg=eeg_device, save_fn=save_fn, use_vr=False)"
      ]
    },
    {
      "cell_type": "markdown",
      "metadata": {},
      "source": [
        "Run experiment\n---------------------  \n\n\n"
      ]
    },
    {
      "cell_type": "code",
      "execution_count": null,
      "metadata": {
        "collapsed": false
      },
      "outputs": [],
      "source": [
        "experiment.run()\n\n# Saved csv location\nprint(\"Recording saved in\", experiment.save_fn)"
      ]
    }
  ],
  "metadata": {
    "kernelspec": {
      "display_name": "Python 3",
      "language": "python",
      "name": "python3"
    },
    "language_info": {
      "codemirror_mode": {
        "name": "ipython",
        "version": 3
      },
      "file_extension": ".py",
      "mimetype": "text/x-python",
      "name": "python",
      "nbconvert_exporter": "python",
      "pygments_lexer": "ipython3",
      "version": "3.8.18"
    }
  },
  "nbformat": 4,
  "nbformat_minor": 0
}