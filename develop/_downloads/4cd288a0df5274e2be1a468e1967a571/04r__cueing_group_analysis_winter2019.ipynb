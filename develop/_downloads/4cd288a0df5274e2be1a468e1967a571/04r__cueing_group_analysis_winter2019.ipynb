{
  "cells": [
    {
      "cell_type": "markdown",
      "metadata": {},
      "source": [
        "\n# Cueing Group Analysis Winter 2019\n"
      ]
    },
    {
      "cell_type": "markdown",
      "metadata": {},
      "source": [
        "## Setup\n\n"
      ]
    },
    {
      "cell_type": "code",
      "execution_count": null,
      "metadata": {
        "collapsed": false
      },
      "outputs": [],
      "source": [
        "# Standard Pythonic imports\nimport os,sys,glob,numpy as np, pandas as pd\nimport scipy\nfrom collections import OrderedDict\nimport warnings\nwarnings.filterwarnings('ignore')\nfrom matplotlib import pyplot as plt\nimport matplotlib.patches as patches\n\n# MNE functions\nfrom mne import Epochs, find_events, concatenate_raws\nfrom mne.time_frequency import tfr_morlet\n\n# EEG-Noteooks functions\nfrom eegnb.analysis.analysis_utils import load_data\nfrom eegnb.datasets import fetch_dataset"
      ]
    },
    {
      "cell_type": "markdown",
      "metadata": {},
      "source": [
        "## Load the data\n\n"
      ]
    },
    {
      "cell_type": "code",
      "execution_count": null,
      "metadata": {
        "collapsed": false
      },
      "outputs": [],
      "source": [
        "eegnb_data_path = os.path.join(os.path.expanduser('~/'),'.eegnb', 'data')\ncueing_data_path = os.path.join(eegnb_data_path, 'visual-cueing', 'kylemathlab_dev')\n\n# If dataset hasn't been downloaded yet, download it\nif not os.path.isdir(cueing_data_path):\n      fetch_dataset(data_dir=eegnb_data_path, experiment='visual-cueing', site='kylemathlab_dev')"
      ]
    },
    {
      "cell_type": "markdown",
      "metadata": {},
      "source": [
        "## Put the data into MNE Epochs\n\nFall 2018\nsubs = [101, 102, 103, 104, 105, 106, 108, 109, 110, 111, 112,\n        202, 203, 204, 205, 207, 208, 209, 210, 211, \n        301, 302, 303, 304, 305, 306, 307, 308, 309]\n\nWinter 2019\n\n"
      ]
    },
    {
      "cell_type": "code",
      "execution_count": null,
      "metadata": {
        "collapsed": false
      },
      "outputs": [],
      "source": [
        "subs = [1101, 1102, 1103, 1104, 1105, 1106, 1108, 1109, 1110,\n        1202, 1203, 1205, 1206, 1209, 1210, 1211, 1215,\n        1301, 1302, 1313, \n        1401, 1402, 1403, 1404, 1405,  1408, 1410, 1411, 1412, 1413, 1413, 1414, 1415, 1416]\n#\n# Both\n# subs = [101, 102, 103, 104, 105, 106, 108, 109, 110, 111, 112,\n#         202, 203, 204, 205, 207, 208, 209, 210, 211, \n#         301, 302, 303, 304, 305, 306, 307, 308, 309,\n#         1101, 1102, 1103, 1104, 1105, 1106, 1108, 1109, 1110,\n#         1202, 1203, 1205, 1206, 1209, 1210, 1211, 1215,\n#         1301, 1302, 1313, \n#         1401, 1402, 1403, 1404, 1405,  1408, 1410, 1411, 1412, 1413, 1413, 1414, 1415, 1416]\n#\n#\n# placeholders to add to for each subject\ndiff_out = []\nIpsi_out = []\nContra_out = []\nIpsi_spectra_out = []\nContra_spectra_out = []\ndiff_spectra_out = []\nERSP_diff_out = []\nERSP_Ipsi_out = []\nERSP_Contra_out = []\n\nfrequencies =  np.linspace(6, 30, 100, endpoint=True)\nwave_cycles = 6\n\n# time frequency window for analysis\nf_low = 7 # Hz\nf_high = 10\nf_diff = f_high-f_low\n \nt_low = 0 # s\nt_high = 1\nt_diff = t_high-t_low\n\nbad_subs= [6, 7, 13, 26]\nreally_bad_subs = [11, 12, 19]\nsub_count = 0    \n    \n    \n    \nfor sub in subs:\n    print(sub)\n    \n    sub_count += 1\n\n    \n    if (sub_count in really_bad_subs):\n        rej_thresh_uV = 90\n    elif (sub_count in bad_subs):\n        rej_thresh_uV = 90\n    else:\n        rej_thresh_uV = 90\n\n    rej_thresh = rej_thresh_uV*1e-6\n    \n    \n    # Load both sessions\n    raw = load_data(sub,1, # subject, session\n                    experiment='visual-cueing',site='kylemathlab_dev',device_name='muse2016',\n                    data_dir = eegnb_data_path)\n                \n    raw.append(\n          load_data(sub,2, # subject, session\n                    experiment='visual-cueing', site='kylemathlab_dev', device_name='muse2016',\n                    data_dir = eegnb_data_path))\n    \n\n    # Filter Raw Data\n    raw.filter(1,30, method='iir')\n\n    #Select Events\n    events = find_events(raw)\n    event_id = {'LeftCue': 1, 'RightCue': 2}\n    epochs = Epochs(raw, events=events, event_id=event_id, \n                    tmin=-1, tmax=2, baseline=(-1, 0), \n                    reject={'eeg':rej_thresh}, preload=True,\n                    verbose=False, picks=[0, 3])\n    print('Trials Remaining: ' + str(len(epochs.events)) + '.')\n\n    # Compute morlet wavelet\n    # Left Cue\n    tfr, itc = tfr_morlet(epochs['LeftCue'], freqs=frequencies, \n                          n_cycles=wave_cycles, return_itc=True)\n    tfr = tfr.apply_baseline((-1,-.5),mode='mean')\n    power_Ipsi_TP9 = tfr.data[0,:,:]\n    power_Contra_TP10 = tfr.data[1,:,:]\n\n    # Right Cue\n    tfr, itc = tfr_morlet(epochs['RightCue'], freqs=frequencies, \n                          n_cycles=wave_cycles, return_itc=True)\n    tfr = tfr.apply_baseline((-1,-.5),mode='mean')\n    power_Contra_TP9 = tfr.data[0,:,:]\n    power_Ipsi_TP10 = tfr.data[1,:,:]\n\n    # Compute averages Differences\n    power_Avg_Ipsi =   (power_Ipsi_TP9+power_Ipsi_TP10)/2;\n    power_Avg_Contra = (power_Contra_TP9+power_Contra_TP10)/2;\n    power_Avg_Diff = power_Avg_Ipsi-power_Avg_Contra;\n    \n    #output data into array\n    times = epochs.times\n    Ipsi_out.append(np.mean(power_Avg_Ipsi[np.argmax(frequencies>f_low):\n                                           np.argmax(frequencies>f_high)-1,\n                            np.argmax(times>t_low):np.argmax(times>t_high)-1 ]\n                           )\n                   )            \n    Ipsi_spectra_out.append(np.mean(power_Avg_Ipsi[:,np.argmax(times>t_low):\n                                                   np.argmax(times>t_high)-1 ],1\n                                   )\n                           )\n        \n    Contra_out.append(np.mean(power_Avg_Contra[np.argmax(frequencies>f_low):\n                                               np.argmax(frequencies>f_high)-1,\n                            np.argmax(times>t_low):np.argmax(times>t_high)-1 ]\n                             )\n                     )\n    \n    Contra_spectra_out.append(np.mean(power_Avg_Contra[:,np.argmax(times>t_low):\n                                                       np.argmax(times>t_high)-1 ],1))\n    \n    \n    diff_out.append(np.mean(power_Avg_Diff[np.argmax(frequencies>f_low):\n                                           np.argmax(frequencies>f_high)-1,\n                            np.argmax(times>t_low):np.argmax(times>t_high)-1 ]\n                           )\n                   )\n    diff_spectra_out.append(np.mean(power_Avg_Diff[:,np.argmax(times>t_low):\n                                                   np.argmax(times>t_high)-1 ],1\n                                   )\n                           )\n    \n    #save the spectrograms to average over after\n    ERSP_diff_out.append(power_Avg_Diff)\n    ERSP_Ipsi_out.append(power_Avg_Ipsi)\n    ERSP_Contra_out.append(power_Avg_Contra)"
      ]
    },
    {
      "cell_type": "markdown",
      "metadata": {},
      "source": [
        "## Combine subjects\n\n"
      ]
    },
    {
      "cell_type": "code",
      "execution_count": null,
      "metadata": {
        "collapsed": false
      },
      "outputs": [],
      "source": [
        "#average spectrograms\nGrandAvg_diff = np.nanmean(ERSP_diff_out,0)\nGrandAvg_Ipsi = np.nanmean(ERSP_Ipsi_out,0)\nGrandAvg_Contra = np.nanmean(ERSP_Contra_out,0)\n\n#average spectra\nGrandAvg_spec_Ipsi = np.nanmean(Ipsi_spectra_out,0)\nGrandAvg_spec_Contra = np.nanmean(Contra_spectra_out,0)\nGrandAvg_spec_diff = np.nanmean(diff_spectra_out,0)\n\n#error bars for spectra (standard error)\nnum_good = len(diff_out) - sum(np.isnan(diff_out))   \nGrandAvg_spec_Ipsi_ste = np.nanstd(Ipsi_spectra_out,0)/np.sqrt(num_good)\nGrandAvg_spec_Contra_ste = np.nanstd(Contra_spectra_out,0)/np.sqrt(num_good)\nGrandAvg_spec_diff_ste = np.nanstd(diff_spectra_out,0)/np.sqrt(num_good)"
      ]
    },
    {
      "cell_type": "code",
      "execution_count": null,
      "metadata": {
        "collapsed": false
      },
      "outputs": [],
      "source": [
        "#Plot Spectra error bars\nfig, ax = plt.subplots(1)\nplt.errorbar(frequencies,GrandAvg_spec_Ipsi,yerr=GrandAvg_spec_Ipsi_ste)\nplt.errorbar(frequencies,GrandAvg_spec_Contra,yerr=GrandAvg_spec_Contra_ste)\nplt.legend(('Ipsi','Contra'))\nplt.xlabel('Frequency (Hz)')\nplt.ylabel('Power (uV^2)')   \nplt.hlines(0,3,33)"
      ]
    },
    {
      "cell_type": "code",
      "execution_count": null,
      "metadata": {
        "collapsed": false
      },
      "outputs": [],
      "source": [
        "#Plot Spectra Diff error bars\nfig, ax = plt.subplots(1)\nplt.errorbar(frequencies,GrandAvg_spec_diff,yerr=GrandAvg_spec_diff_ste)\nplt.legend('Ipsi-Contra')\nplt.xlabel('Frequency (Hz)')\nplt.ylabel('Power (uV^2)')   \nplt.hlines(0,3,33)"
      ]
    },
    {
      "cell_type": "markdown",
      "metadata": {},
      "source": [
        "Grand Average Ipsi\n\n"
      ]
    },
    {
      "cell_type": "code",
      "execution_count": null,
      "metadata": {
        "collapsed": false
      },
      "outputs": [],
      "source": [
        "plot_max = np.max([np.max(np.abs(GrandAvg_Ipsi)), np.max(np.abs(GrandAvg_Contra))])  \nfig, ax = plt.subplots(1)\nim = plt.imshow(GrandAvg_Ipsi,\n           extent=[times[0], times[-1], frequencies[0], frequencies[-1]],\n           aspect='auto', origin='lower', cmap='coolwarm', vmin=-plot_max, vmax=plot_max)\nplt.xlabel('Time (sec)')\nplt.ylabel('Frequency (Hz)')\nplt.title('Power Ipsi')\ncb = fig.colorbar(im)\ncb.set_label('Power')\n# Create a Rectangle patch\nrect = patches.Rectangle((t_low,f_low),t_diff,f_diff,linewidth=1,edgecolor='k',facecolor='none')\n# Add the patch to the Axes\nax.add_patch(rect)\n#\n##e#################################################################################################\n#\n# Grand Average Contra\n#\nfig, ax = plt.subplots(1)\nim = plt.imshow(GrandAvg_Contra,\n           extent=[times[0], times[-1], frequencies[0], frequencies[-1]],\n           aspect='auto', origin='lower', cmap='coolwarm', vmin=-plot_max, vmax=plot_max)\nplt.xlabel('Time (sec)')\nplt.ylabel('Frequency (Hz)')\nplt.title('Power Contra')\ncb = fig.colorbar(im)\ncb.set_label('Power')\n# Create a Rectangle patch\nrect = patches.Rectangle((t_low,f_low),t_diff,f_diff,linewidth=1,edgecolor='k',facecolor='none')\n# Add the patch to the Axes\nax.add_patch(rect)\n#"
      ]
    },
    {
      "cell_type": "markdown",
      "metadata": {},
      "source": [
        "Grand Average Ipsi-Contra Difference\n\n\n"
      ]
    },
    {
      "cell_type": "code",
      "execution_count": null,
      "metadata": {
        "collapsed": false
      },
      "outputs": [],
      "source": [
        "plot_max_diff = np.max(np.abs(GrandAvg_diff))\nfig, ax = plt.subplots(1)\nim = plt.imshow(GrandAvg_diff,\n           extent=[times[0], times[-1], frequencies[0], frequencies[-1]],\n           aspect='auto', origin='lower', cmap='coolwarm', vmin=-plot_max_diff, vmax=plot_max_diff)\nplt.xlabel('Time (sec)')\nplt.ylabel('Frequency (Hz)')\nplt.title('Power Difference Ipsi-Contra')\ncb = fig.colorbar(im)\ncb.set_label('Ipsi-Contra Power')\n# Create a Rectangle patch\nrect = patches.Rectangle((t_low,f_low),t_diff,f_diff,linewidth=1,edgecolor='k',facecolor='none')\n# Add the patch to the Axes\nax.add_patch(rect)"
      ]
    },
    {
      "cell_type": "markdown",
      "metadata": {},
      "source": [
        "## Compute t test\n\n"
      ]
    },
    {
      "cell_type": "code",
      "execution_count": null,
      "metadata": {
        "collapsed": false
      },
      "outputs": [],
      "source": [
        "num_good = len(diff_out) - sum(np.isnan(diff_out))\n\n[tstat, pval] = scipy.stats.ttest_ind(diff_out,np.zeros(len(diff_out)),nan_policy='omit')\nprint('Ipsi Mean: '+  str(np.nanmean(Ipsi_out))) \nprint('Contra Mean: '+  str(np.nanmean(Contra_out))) \nprint('Mean Diff: '+  str(np.nanmean(diff_out))) \nprint('t(' + str(num_good-1) + ') = ' + str(round(tstat,3)))\nprint('p = ' + str(round(pval,3)))"
      ]
    },
    {
      "cell_type": "markdown",
      "metadata": {},
      "source": [
        "## Save average powers ipsi and contra\n\n"
      ]
    },
    {
      "cell_type": "code",
      "execution_count": null,
      "metadata": {
        "collapsed": false
      },
      "outputs": [],
      "source": [
        "print(diff_out)\nraw_data = {'Ipsi Power': Ipsi_out, \n        'Contra Power': Contra_out}\ndf = pd.DataFrame(raw_data, columns = ['Ipsi Power', 'Contra Power'])\nprint(df)\ndf.to_csv('375CueingEEG.csv')\nprint('Saved subject averages for each condition to 375CueingEEG.csv file in present directory')"
      ]
    },
    {
      "cell_type": "markdown",
      "metadata": {},
      "source": [
        "## Save spectra\n\n"
      ]
    },
    {
      "cell_type": "code",
      "execution_count": null,
      "metadata": {
        "collapsed": false
      },
      "outputs": [],
      "source": [
        "df = pd.DataFrame(Ipsi_spectra_out,columns=frequencies)\nprint(df)\ndf.to_csv('375CueingIpsiSpec.csv')\n\ndf = pd.DataFrame(Contra_spectra_out,columns=frequencies)\ndf.to_csv('375CueingContraSpec.csv')\nprint('Saved Spectra to 375CueingContraSpec.csv file in present directory')"
      ]
    }
  ],
  "metadata": {
    "kernelspec": {
      "display_name": "Python 3",
      "language": "python",
      "name": "python3"
    },
    "language_info": {
      "codemirror_mode": {
        "name": "ipython",
        "version": 3
      },
      "file_extension": ".py",
      "mimetype": "text/x-python",
      "name": "python",
      "nbconvert_exporter": "python",
      "pygments_lexer": "ipython3",
      "version": "3.8.18"
    }
  },
  "nbformat": 4,
  "nbformat_minor": 0
}